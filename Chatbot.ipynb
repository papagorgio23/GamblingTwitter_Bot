{
  "nbformat": 4,
  "nbformat_minor": 0,
  "metadata": {
    "colab": {
      "name": "Chatbot Final.ipynb",
      "provenance": [],
      "collapsed_sections": [],
      "toc_visible": true,
      "machine_shape": "hm",
      "include_colab_link": true
    },
    "kernelspec": {
      "name": "python3",
      "display_name": "Python 3"
    },
    "accelerator": "TPU"
  },
  "cells": [
    {
      "cell_type": "markdown",
      "metadata": {
        "id": "view-in-github",
        "colab_type": "text"
      },
      "source": [
        "<a href=\"https://colab.research.google.com/github/papagorgio23/GamblingTwitter_Bot/blob/master/Chatbot.ipynb\" target=\"_parent\"><img src=\"https://colab.research.google.com/assets/colab-badge.svg\" alt=\"Open In Colab\"/></a>"
      ]
    },
    {
      "cell_type": "markdown",
      "metadata": {
        "id": "xYoJ_3PkjZwj",
        "colab_type": "text"
      },
      "source": [
        "# Research Assignment 4: Generative Neural Networks\n",
        "\n",
        "<br>\n",
        "\n",
        "**Jason Lee**\n",
        "\n",
        "<br>\n",
        "\n",
        "Artificial Intelligence and Deep Learning \n",
        "\n",
        "2019FA MSDS 458-56\n",
        "Northwestern University, SPS\n"
      ]
    },
    {
      "cell_type": "markdown",
      "metadata": {
        "id": "RhJg--5XoWzY",
        "colab_type": "text"
      },
      "source": [
        "# Chatbots"
      ]
    },
    {
      "cell_type": "markdown",
      "metadata": {
        "id": "lkSnRI-0nSEB",
        "colab_type": "text"
      },
      "source": [
        "## Start Up"
      ]
    },
    {
      "cell_type": "markdown",
      "metadata": {
        "id": "XtgnR9_4nAHg",
        "colab_type": "text"
      },
      "source": [
        "### Connect to Account"
      ]
    },
    {
      "cell_type": "code",
      "metadata": {
        "id": "5ZipmnakjaKR",
        "colab_type": "code",
        "outputId": "cb5a82df-35f8-4dfb-b07a-1d0872d8de04",
        "colab": {
          "base_uri": "https://localhost:8080/",
          "height": 122
        }
      },
      "source": [
        "# Load the Drive helper and mount\n",
        "from google.colab import drive\n",
        "\n",
        "# This will prompt for authorization.\n",
        "drive.mount('/content/drive')"
      ],
      "execution_count": 0,
      "outputs": [
        {
          "output_type": "stream",
          "text": [
            "Go to this URL in a browser: https://accounts.google.com/o/oauth2/auth?client_id=947318989803-6bn6qk8qdgf4n4g3pfee6491hc0brc4i.apps.googleusercontent.com&redirect_uri=urn%3aietf%3awg%3aoauth%3a2.0%3aoob&response_type=code&scope=email%20https%3a%2f%2fwww.googleapis.com%2fauth%2fdocs.test%20https%3a%2f%2fwww.googleapis.com%2fauth%2fdrive%20https%3a%2f%2fwww.googleapis.com%2fauth%2fdrive.photos.readonly%20https%3a%2f%2fwww.googleapis.com%2fauth%2fpeopleapi.readonly\n",
            "\n",
            "Enter your authorization code:\n",
            "··········\n",
            "Mounted at /content/drive\n"
          ],
          "name": "stdout"
        }
      ]
    },
    {
      "cell_type": "code",
      "metadata": {
        "id": "3tYLsBUSjpsX",
        "colab_type": "code",
        "outputId": "348dcf06-e49b-4f99-8ce4-ab6530cf03b7",
        "colab": {
          "base_uri": "https://localhost:8080/",
          "height": 34
        }
      },
      "source": [
        "# set working directory\n",
        "import os\n",
        "os.chdir(\"/content/drive/My Drive/458 - Deep Learning/Research 4/\")\n",
        "os.getcwd()"
      ],
      "execution_count": 0,
      "outputs": [
        {
          "output_type": "execute_result",
          "data": {
            "text/plain": [
              "'/content/drive/My Drive/458 - Deep Learning/Research 4'"
            ]
          },
          "metadata": {
            "tags": []
          },
          "execution_count": 2
        }
      ]
    },
    {
      "cell_type": "code",
      "metadata": {
        "id": "hv_uA5rSkRVo",
        "colab_type": "code",
        "outputId": "5b3f5c34-8bd9-4eb2-90d8-cd575da18c56",
        "colab": {
          "base_uri": "https://localhost:8080/",
          "height": 102
        }
      },
      "source": [
        "# list files in directory\n",
        "!ls"
      ],
      "execution_count": 0,
      "outputs": [
        {
          "output_type": "stream",
          "text": [
            "best_model.h5\t\tpika_chat_model.h5\t  Schwimer_chatbot_model.h5\n",
            "Chatbot.ipynb\t\tPikachu_best_model.h5\t  Xpert_best_model.h5\n",
            "Knish_best_model.h5\tPikachu_chatbot_model.h5  Xpert_chatbot_model.h5\n",
            "Knish_chatbot_model.h5\trufus_chat_model.h5\n",
            "model.png\t\tSchwimer_best_model.h5\n"
          ],
          "name": "stdout"
        }
      ]
    },
    {
      "cell_type": "markdown",
      "metadata": {
        "id": "CEiFGIoIm3PP",
        "colab_type": "text"
      },
      "source": [
        "### Upgrade to TensorFlow 2.1.0"
      ]
    },
    {
      "cell_type": "code",
      "metadata": {
        "id": "mcSxGrNYmkew",
        "colab_type": "code",
        "outputId": "ab3ed758-a8e2-41c5-a9b7-2d4d48e9c1ec",
        "colab": {
          "base_uri": "https://localhost:8080/",
          "height": 51
        }
      },
      "source": [
        "from __future__ import absolute_import, division, print_function, unicode_literals\n",
        "try:\n",
        "  # %tensorflow_version only exists in Colab.\n",
        "  %tensorflow_version 2.x\n",
        "except Exception:\n",
        "  pass\n",
        "import tensorflow as tf\n",
        "import keras\n"
      ],
      "execution_count": 0,
      "outputs": [
        {
          "output_type": "stream",
          "text": [
            "TensorFlow 2.x selected.\n"
          ],
          "name": "stdout"
        },
        {
          "output_type": "stream",
          "text": [
            "Using TensorFlow backend.\n"
          ],
          "name": "stderr"
        }
      ]
    },
    {
      "cell_type": "code",
      "metadata": {
        "id": "7bQYDW83mtmR",
        "colab_type": "code",
        "outputId": "974d2e37-d38a-407f-dba2-f75f2635cf76",
        "colab": {
          "base_uri": "https://localhost:8080/",
          "height": 51
        }
      },
      "source": [
        "print(tf.__version__)\n",
        "print(keras.__version__)"
      ],
      "execution_count": 0,
      "outputs": [
        {
          "output_type": "stream",
          "text": [
            "2.1.0\n",
            "2.2.5\n"
          ],
          "name": "stdout"
        }
      ]
    },
    {
      "cell_type": "markdown",
      "metadata": {
        "id": "fxxA7ygKm89q",
        "colab_type": "text"
      },
      "source": [
        "### Load Packages"
      ]
    },
    {
      "cell_type": "code",
      "metadata": {
        "id": "R2LPEKNhkUBW",
        "colab_type": "code",
        "colab": {}
      },
      "source": [
        "## data wrangling\n",
        "import pandas as pd\n",
        "import numpy as np\n",
        "import re\n",
        "\n",
        "## plotting\n",
        "import matplotlib.pyplot as plt\n",
        "import seaborn as sns\n",
        "sns.set_style(\"whitegrid\")\n",
        "import altair as alt\n",
        "from tensorflow.keras.utils import plot_model\n",
        "\n",
        "## misc\n",
        "import json\n",
        "import datetime\n",
        "import warnings\n",
        "warnings.filterwarnings(\"ignore\")\n",
        "import pickle\n",
        "from collections import Counter\n",
        "from IPython.display import clear_output\n",
        "\n",
        "## Deep Learning\n",
        "import keras\n",
        "\n",
        "\n",
        "## pre-processing\n",
        "from sklearn.model_selection import train_test_split \n",
        "from sklearn.preprocessing import LabelEncoder\n",
        "from tensorflow.python.keras.utils import np_utils\n",
        "from tensorflow.python.keras.utils.np_utils import to_categorical \n",
        "from tensorflow.python.keras.preprocessing import sequence\n",
        "from tensorflow.python.keras.preprocessing.sequence import pad_sequences\n",
        "from tensorflow.python.keras.preprocessing.text import Tokenizer\n",
        "\n",
        "\n",
        "## models\n",
        "from tensorflow.python.keras import models\n",
        "from tensorflow.python.keras.models import Sequential, Model, load_model\n",
        "\n",
        "## layers\n",
        "from tensorflow.python.keras import layers\n",
        "from tensorflow.python.keras.layers import Embedding, Dense, Dropout, Flatten, Conv1D, MaxPool1D, LSTM, Bidirectional, GlobalMaxPooling1D, Activation, Input\n",
        "\n",
        "## word embedding\n",
        "import gensim.downloader as api\n",
        "\n",
        "## optimizer\n",
        "from tensorflow.keras.optimizers import Adam, RMSprop\n",
        "\n",
        "## evaluating model\n",
        "from tensorflow.python.keras.callbacks import ReduceLROnPlateau, LambdaCallback, EarlyStopping, ModelCheckpoint\n",
        "from tensorflow.python.keras.wrappers.scikit_learn import KerasClassifier\n",
        "from sklearn.metrics import confusion_matrix"
      ],
      "execution_count": 0,
      "outputs": []
    },
    {
      "cell_type": "markdown",
      "metadata": {
        "id": "Vg_Ki84XomJ2",
        "colab_type": "text"
      },
      "source": [
        "### Write Functions"
      ]
    },
    {
      "cell_type": "code",
      "metadata": {
        "id": "vEDB-tfiooBV",
        "colab_type": "code",
        "colab": {}
      },
      "source": [
        "#### Function to put every tweet (row) in dataframe into a single string\n",
        "## To start each tweet we will add a sequence of \"|\" for the model to learn where tweets begin and end\n",
        "def concatenate_list_data(list, seq_length = 20):\n",
        "      start_tweet1 = '|' * seq_length \n",
        "      result = start_tweet1\n",
        "      for element in list:\n",
        "\t        result += str(element) + start_tweet1\n",
        "      return result\n",
        "\n",
        "#### Function to create the X and Y inputs for the RNN models\n",
        "def generate_sequences(token_list, step):\n",
        "\n",
        "    # get the total number of unique words (vocab) used in all the tweets\n",
        "    total_words = len(set(token_list)) + 1\n",
        "    \n",
        "    # initialize x and y values\n",
        "    X = []\n",
        "    y = []\n",
        "\n",
        "    # loop through tweets adding a sequence of words to x and adding the next word as the y\n",
        "    for i in range(0, len(token_list) - seq_length, step):\n",
        "        X.append(token_list[i: i + seq_length])\n",
        "        y.append(token_list[i + seq_length])\n",
        "    \n",
        "    # transform y value to sparse matrix to feed into RNN model\n",
        "    y = np_utils.to_categorical(y, num_classes = total_words)\n",
        "    \n",
        "    # convert X and y into arrays to feed into RNN model\n",
        "    X = np.array(X)\n",
        "    y = np.array(y)\n",
        "    \n",
        "    num_seq = len(X)\n",
        "    print('Number of prediction classes (Total Vocabulary):', total_words)\n",
        "    print('Number of sequences:', num_seq, \"\\n\")\n",
        "    \n",
        "    return X, y, num_seq\n",
        "\n",
        "\n",
        "\n",
        "#### Function to sample predicted words based on the predicited probability distribution adding  \n",
        "#### a smoothing function (temperature) to the distribution to allow the chatbot flexibility\n",
        "def sample_with_temp(preds, temperature=1.0):\n",
        "    # helper function to sample an index from a probability array\n",
        "    preds = np.asarray(preds).astype('float64')\n",
        "    preds = np.log(preds) / temperature\n",
        "    exp_preds = np.exp(preds)\n",
        "    preds = exp_preds / np.sum(exp_preds)\n",
        "    probas = np.random.multinomial(1, preds, 1)\n",
        "    return np.argmax(probas)\n",
        "\n",
        "\n",
        "#### Function to generate new tweets with the RNN model \n",
        "def generate_text(seed_text, next_words, model, max_sequence_len, temp):\n",
        "    output_text = seed_text\n",
        "    \n",
        "    start_tweet = '| ' * seq_length\n",
        "    seed_text = start_tweet + seed_text\n",
        "    \n",
        "    for _ in range(next_words):\n",
        "        token_list = tokenizer.texts_to_sequences([seed_text])[0]\n",
        "        token_list = token_list[-max_sequence_len:]\n",
        "        token_list = np.reshape(token_list, (1, max_sequence_len))\n",
        "        \n",
        "        probs = model.predict(token_list, verbose=0)[0]\n",
        "        y_class = sample_with_temp(probs, temperature = temp)\n",
        "        \n",
        "        if y_class == 0:\n",
        "            output_word = ''\n",
        "        else:\n",
        "            output_word = tokenizer.index_word[y_class]\n",
        "            \n",
        "        if output_word == \"|\":\n",
        "            break\n",
        "            \n",
        "        if token_type == 'word':\n",
        "            output_text += output_word + ' '\n",
        "            seed_text += output_word + ' '\n",
        "        else:\n",
        "            output_text += output_word + ' '\n",
        "            seed_text += output_word + ' '\n",
        "            \n",
        "            \n",
        "    return output_text\n",
        "\n",
        "\n",
        "#### Function to print out prediction at various temperature levels after each epoch during training\n",
        "def on_epoch_end(epoch, logs):\n",
        "    seed_text = \"\"\n",
        "    gen_words = 500\n",
        "    print()\n",
        "    print()\n",
        "    print()\n",
        "    print(\"-\" * 50)\n",
        "    print('Temp 0.2:')\n",
        "    print (generate_text(seed_text, gen_words, model, seq_length, temp = 0.2))\n",
        "    print(\"-\" * 50)\n",
        "    print('Temp 0.33:')\n",
        "    print (generate_text(seed_text, gen_words, model, seq_length, temp = 0.33))\n",
        "    print(\"-\" * 50)\n",
        "    print('Temp 0.5:')\n",
        "    print (generate_text(seed_text, gen_words, model, seq_length, temp = 0.5))\n",
        "    print(\"-\" * 50)\n",
        "    print('Temp 0.67:')\n",
        "    print (generate_text(seed_text, gen_words, model, seq_length, temp = 0.67))\n",
        "    print(\"-\" * 50)\n",
        "    print('Temp 1.0:')\n",
        "    print (generate_text(seed_text, gen_words, model, seq_length, temp = 1))\n",
        "    print(\"-\" * 50)\n",
        "    print()\n",
        "    print()\n",
        "    print()\n",
        "\n",
        "\n",
        "\n",
        "#### Function to generate new tweets with the RNN model with human input to start the tweet\n",
        "def generate_human_led_text(model, max_sequence_len):\n",
        "    \n",
        "    output_text = ''\n",
        "    seed_text = start_tweet\n",
        "    \n",
        "    while 1:\n",
        "        token_list = tokenizer.texts_to_sequences([seed_text])[0]\n",
        "        token_list = token_list[-max_sequence_len:]\n",
        "        token_list = np.reshape(token_list, (1, max_sequence_len))\n",
        "        \n",
        "        probs = model.predict(token_list, verbose=0)[0]\n",
        "\n",
        "        top_10_idx = np.flip(np.argsort(probs)[-10:])\n",
        "        top_10_probs = [probs[x] for x in top_10_idx]\n",
        "        top_10_words = tokenizer.sequences_to_texts([[x] for x in top_10_idx])\n",
        "        \n",
        "        for prob, word in zip(top_10_probs, top_10_words):\n",
        "            print('{:<6.1%} : {}'.format(prob, word))\n",
        "\n",
        "        chosen_word = input()\n",
        "                \n",
        "        if chosen_word == '|':\n",
        "            break\n",
        "            \n",
        "        \n",
        "        seed_text += chosen_word + ' '\n",
        "        output_text += chosen_word + ' '\n",
        "        \n",
        "        clear_output()\n",
        "\n",
        "        print (output_text)"
      ],
      "execution_count": 0,
      "outputs": []
    },
    {
      "cell_type": "markdown",
      "metadata": {
        "id": "upO5q_VbnOj5",
        "colab_type": "text"
      },
      "source": [
        "## Load Data"
      ]
    },
    {
      "cell_type": "code",
      "metadata": {
        "id": "wDnzHC_EliVp",
        "colab_type": "code",
        "colab": {}
      },
      "source": [
        "## 12Xpert tweets\n",
        "xpert_data = pd.read_csv(\"https://raw.githubusercontent.com/papagorgio23/GamblingTwitter_Bot/master/Data/BOT_xpert.csv\")\n",
        "\n",
        "## Joey Knish tweets\n",
        "joey_data = pd.read_csv(\"https://raw.githubusercontent.com/papagorgio23/GamblingTwitter_Bot/master/Data/BOT_knish.csv\")\n",
        "\n",
        "## Michael Schwimer tweets\n",
        "swim_data = pd.read_csv(\"https://raw.githubusercontent.com/papagorgio23/GamblingTwitter_Bot/master/Data/BOT_swimm.csv\")\n",
        "\n",
        "## Pikachu tweets\n",
        "pika_data = pd.read_csv(\"https://raw.githubusercontent.com/papagorgio23/GamblingTwitter_Bot/master/Data/BOT_pikacu.csv\")"
      ],
      "execution_count": 0,
      "outputs": []
    },
    {
      "cell_type": "code",
      "metadata": {
        "id": "O5zwX0XZpO2P",
        "colab_type": "code",
        "outputId": "85e042b7-abb0-4ef1-a745-25da603b3f8f",
        "colab": {
          "base_uri": "https://localhost:8080/",
          "height": 204
        }
      },
      "source": [
        "joey_data.head()"
      ],
      "execution_count": 0,
      "outputs": [
        {
          "output_type": "execute_result",
          "data": {
            "text/html": [
              "<div>\n",
              "<style scoped>\n",
              "    .dataframe tbody tr th:only-of-type {\n",
              "        vertical-align: middle;\n",
              "    }\n",
              "\n",
              "    .dataframe tbody tr th {\n",
              "        vertical-align: top;\n",
              "    }\n",
              "\n",
              "    .dataframe thead th {\n",
              "        text-align: right;\n",
              "    }\n",
              "</style>\n",
              "<table border=\"1\" class=\"dataframe\">\n",
              "  <thead>\n",
              "    <tr style=\"text-align: right;\">\n",
              "      <th></th>\n",
              "      <th>screen_name</th>\n",
              "      <th>text</th>\n",
              "      <th>char_length</th>\n",
              "    </tr>\n",
              "  </thead>\n",
              "  <tbody>\n",
              "    <tr>\n",
              "      <th>0</th>\n",
              "      <td>JoeyKnish22</td>\n",
              "      <td>updated roy via  \\n\\nadjustments after a week:...</td>\n",
              "      <td>314</td>\n",
              "    </tr>\n",
              "    <tr>\n",
              "      <th>1</th>\n",
              "      <td>JoeyKnish22</td>\n",
              "      <td>put together a low risk maybe zion gets hurt  ...</td>\n",
              "      <td>368</td>\n",
              "    </tr>\n",
              "    <tr>\n",
              "      <th>2</th>\n",
              "      <td>JoeyKnish22</td>\n",
              "      <td>ncaa season leaders in completion  %  on non-s...</td>\n",
              "      <td>312</td>\n",
              "    </tr>\n",
              "    <tr>\n",
              "      <th>3</th>\n",
              "      <td>JoeyKnish22</td>\n",
              "      <td>knish invitational payout structure (top 2 0  ...</td>\n",
              "      <td>267</td>\n",
              "    </tr>\n",
              "    <tr>\n",
              "      <th>4</th>\n",
              "      <td>JoeyKnish22</td>\n",
              "      <td>joe burrow played well a year ago but his 2 0 ...</td>\n",
              "      <td>240</td>\n",
              "    </tr>\n",
              "  </tbody>\n",
              "</table>\n",
              "</div>"
            ],
            "text/plain": [
              "   screen_name                                               text  char_length\n",
              "0  JoeyKnish22  updated roy via  \\n\\nadjustments after a week:...          314\n",
              "1  JoeyKnish22  put together a low risk maybe zion gets hurt  ...          368\n",
              "2  JoeyKnish22  ncaa season leaders in completion  %  on non-s...          312\n",
              "3  JoeyKnish22  knish invitational payout structure (top 2 0  ...          267\n",
              "4  JoeyKnish22  joe burrow played well a year ago but his 2 0 ...          240"
            ]
          },
          "metadata": {
            "tags": []
          },
          "execution_count": 9
        }
      ]
    },
    {
      "cell_type": "markdown",
      "metadata": {
        "id": "gh1XNyaz13PO",
        "colab_type": "text"
      },
      "source": [
        "## Clean Data"
      ]
    },
    {
      "cell_type": "code",
      "metadata": {
        "id": "-Cccnozh14mR",
        "colab_type": "code",
        "colab": {}
      },
      "source": [
        "## remove \\n (return) in texts\n",
        "xpert_data['text'] = xpert_data['text'].str.replace(\"\\n\", \" \")\n",
        "joey_data['text'] = joey_data['text'].str.replace(\"\\n\", \" \")\n",
        "swim_data['text'] = swim_data['text'].str.replace(\"\\n\", \" \")\n",
        "pika_data['text'] = pika_data['text'].str.replace(\"\\n\", \" \")"
      ],
      "execution_count": 0,
      "outputs": []
    },
    {
      "cell_type": "code",
      "metadata": {
        "id": "YHqV9Wvo1962",
        "colab_type": "code",
        "colab": {}
      },
      "source": [
        "## combine all his tweets\n",
        "xpert = xpert_data['text']\n",
        "xpert = concatenate_list_data(xpert)\n",
        "joey = joey_data['text']\n",
        "joey = concatenate_list_data(joey)\n",
        "swimm = swim_data['text']\n",
        "swimm = concatenate_list_data(swimm)\n",
        "pikachu = pika_data['text']\n",
        "pikachu = concatenate_list_data(pikachu)"
      ],
      "execution_count": 0,
      "outputs": []
    },
    {
      "cell_type": "code",
      "metadata": {
        "id": "ZMFZrDeKpGPK",
        "colab_type": "code",
        "outputId": "b59631d5-0718-4974-fdb5-4f7cdb62bb31",
        "colab": {
          "base_uri": "https://localhost:8080/",
          "height": 54
        }
      },
      "source": [
        "xpert[:1000]"
      ],
      "execution_count": 0,
      "outputs": [
        {
          "output_type": "execute_result",
          "data": {
            "text/plain": [
              "'||||||||||||||||||||since the start of the current season these are  3 8 -game running points totals. previous record was 1 0 2  held by man city and chelsea. insane.  9 7  9 7  9 7  9 7  9 7  9 7  9 9  1 0 1  9 9  9 9  1 0 1  1 0 1  1 0 1  1 0 1  1 0 1  1 0 1  1 0 1  1 0 1  1 0 1  1 0 1  1 0 4  1 0 4  1 0 4  1 0 6  1 0 8  1 0 8  1 1 0||||||||||||||||||||with full kelly staking (2 .5  %  for odds of 3  1 0  %  for odds of 1 .5 ) expectations after 1 0 0 0  bets starting bank 1 0 0 .  odds = 3 expected (mean) bank = 3 4 9 median bank = 1 8 6 chance of loss = 2 9 .0  %   odds = 1 .5 expected (mean) bank = 1 4 6 5 8 median bank = 1 2 7 4 chance of loss = 1 2 .7  % ||||||||||||||||||||for the record here are the figures for homes. all homes average o/c = 0 .9 9 9 5 winning homes = 1 .0 0 6 7 losing homes = 0 .9 9 3 8 t = 2 6  p = 1 e-1 5 1  figures for aways. all aways average o/c = 1 .0 0 1 2 winning aways = 1 .0 1 2 5 losing aways = 0 .9 9 6 7 t = 2 2  p = 8 e-1 1 0||||||||||||||||||||so'"
            ]
          },
          "metadata": {
            "tags": []
          },
          "execution_count": 17
        }
      ]
    },
    {
      "cell_type": "code",
      "metadata": {
        "id": "A4gWhM2YpHmd",
        "colab_type": "code",
        "outputId": "003eed05-09ad-4037-c1f0-a334524f91f7",
        "colab": {
          "base_uri": "https://localhost:8080/",
          "height": 54
        }
      },
      "source": [
        "joey[:1000]"
      ],
      "execution_count": 0,
      "outputs": [
        {
          "output_type": "execute_result",
          "data": {
            "text/plain": [
              "'||||||||||||||||||||updated roy via    adjustments after a week:  white +1 0 0 0  - +5 0 0 culver +2 0 0 0  - +5 0 0 0 hunter +4 0 0 0  - +2 5 0 0 hachimura +1 2 0 0  - +8 0 0 porter +2 0 0 0  - +5 0 0 0 washington +2 0 0 0 0  - +2 0 0 0 edwards +5 0 0 0  - +1 0 0 0 0 porter +6 0 0 0  - +1 0 0 0 0 thybulle +1 0 0 0 0 0  - +1 0 0 0 0||||||||||||||||||||put together a low risk maybe zion gets hurt  nba roy card: - garland 2 0 /1  .2 5  units  - white 2 5 /1  .2 5  units  - hayes 4 0 /1  .2  units  - herro 6 5 /1  .1 5  units  - clarke 1 0 0 /1  .1  units  - grant williams 1 0 0 /1  .1  units  - pj wash 1 0 0 /1  .1  units  - goga 2 0 0 /1  .1  units   1 .2 5  units . this will not win. but ive spent money on worse.||||||||||||||||||||ncaa season leaders in completion  %  on non-screens  2 0 1 9 : joe burrow 7 7 .2  %  2 0 1 8 : gardner minshew 6 9 .1  %  2 0 1 7 : baker mayfield 6 6 .1  %  2 0 1 6 : luke falk 6 5 .7  %  2 0 1 5 : luke falk 6 6 .0  %  2 0 1 4 : cody kessler 6 7 .3  %   bu'"
            ]
          },
          "metadata": {
            "tags": []
          },
          "execution_count": 163
        }
      ]
    },
    {
      "cell_type": "code",
      "metadata": {
        "id": "R2tx8NUVpHxg",
        "colab_type": "code",
        "outputId": "0a2d4ede-a4e5-4fae-aa57-3711719a5f04",
        "colab": {
          "base_uri": "https://localhost:8080/",
          "height": 54
        }
      },
      "source": [
        "swimm[:1000]"
      ],
      "execution_count": 0,
      "outputs": [
        {
          "output_type": "execute_result",
          "data": {
            "text/plain": [
              "'||||||||||||||||||||below is our record by month.  all publicly verifiable picks.  all 1  unit.  all vs. best available line in us.   2 0 1 9 feb +2 2 .0 0 mar +2 5 .6 0 apr +6 .6 2 may -1 1 .1 4 june +1 1 .8 5 july +4 0 .3 aug +1 1 .6 9 sep +0 .3 1 oct +4 .8 8 nov -2 7 .8 1 dec +5 0 .4 5 2 0 2 0 jan -4 2 .8 feb +1 6 .7  total +1 0 8 .6 5||||||||||||||||||||complete jambos record of only publicly available picks vs. betcris at tor format= total recs (minus pushes) total units -1 1 0  adjusted winning %   nfl= 2 4 6  +1 4 .7 9  5 5 .2 4  %  mlb= 1 4 5 9  +3 9 .9 8  5 3 .6 9  %  ncaabb= 1 0 7 8  +.8 5  5 2 .4 2  %  ncaaf= 4 0 1  -1 0 .3  5 1 .1 5  %  overall= 3 1 8 4  +4 5 .3 2  5 3 .0 7  % ||||||||||||||||||||decent week. complete jambos record of only publicly available picks vs. betcris at tor format= total recs(- pushes)/total units/-1 1 0  adjusted winning %   overall= 3 2 7 9 /+5 0 .1 6 /5 3 .1 1  %  nfl= 2 7 0 /+1 9 .6 8 /5 5 .8 5  %  mlb= 1 4 5 9 /+3 9 .9 8 /5 3 .6 9  %  ncaabb= '"
            ]
          },
          "metadata": {
            "tags": []
          },
          "execution_count": 164
        }
      ]
    },
    {
      "cell_type": "code",
      "metadata": {
        "id": "XiYUDYFX2FMN",
        "colab_type": "code",
        "outputId": "3f8cb976-beb6-4ed9-dd3a-fc7955331bbb",
        "colab": {
          "base_uri": "https://localhost:8080/",
          "height": 54
        }
      },
      "source": [
        "pikachu[:1000]"
      ],
      "execution_count": 0,
      "outputs": [
        {
          "output_type": "execute_result",
          "data": {
            "text/plain": [
              "'||||||||||||||||||||boringggg. who cares. here are my current bottom 1 5  power rankings...any hot takes??  3 5 3  mvsu 3 5 2  chicago st 3 5 1  delaware st 3 5 0  kennesaw st 3 4 9  apb 3 4 8  ccsu 3 4 7  howard 3 4 6  umes 3 4 5  hou baptist 3 4 4  holy cross 3 4 3  incarnate word 3 4 2  al am 3 4 1  se la 3 4 0  high point 3 3 9  tenn tech||||||||||||||||||||so on leap year day in the year of our lord 2 0 2 0  the xfl:  - went for it 4 th down on own 2 8  down by 8  in 3 q - tried 3 -pt pat down by 4  in early 4 q - punted 4 th  inches from the 5 0  down by 2  scores - outgained opponent 3 7 0 -2 7 2  on yardage lost by 3  this league is the||||||||||||||||||||1 . for -1 1 0  its 5 2 .3 8  %  you cant just round down by .0 8  thats a big diff 2 . totals get shaded af and by day of are rarely still -1 0 . but you dont include odds so you just take a freeroll on the -1 5 /-2 0 . today was an exception but thats bc you know weve been calling you out||||||||||||||||||||yes it would. brm'"
            ]
          },
          "metadata": {
            "tags": []
          },
          "execution_count": 165
        }
      ]
    },
    {
      "cell_type": "code",
      "metadata": {
        "id": "31-3SKeT2FSB",
        "colab_type": "code",
        "colab": {}
      },
      "source": [
        "## create a space between special characters to decrease the vocabulary size for each user\n",
        "xpert = re.sub('([!\"#$%&()*+,-./:;<=>?@[\\]^_`{|}~1234567890])', r' \\1 ', xpert)\n",
        "xpert = re.sub('\\s{2,}', ' ', xpert)\n",
        "joey = re.sub('([!\"#$%&()*+,-./:;<=>?@[\\]^_`{|}~1234567890])', r' \\1 ', joey)\n",
        "joey = re.sub('\\s{2,}', ' ', joey)\n",
        "swimm = re.sub('([!\"#$%&()*+,-./:;<=>?@[\\]^_`{|}~1234567890])', r' \\1 ', swimm)\n",
        "swimm = re.sub('\\s{2,}', ' ', swimm)\n",
        "pikachu = re.sub('([!\"#$%&()*+,-./:;<=>?@[\\]^_`{|}~1234567890])', r' \\1 ', pikachu)\n",
        "pikachu = re.sub('\\s{2,}', ' ', pikachu)"
      ],
      "execution_count": 0,
      "outputs": []
    },
    {
      "cell_type": "code",
      "metadata": {
        "id": "0kCLBUGH2FVE",
        "colab_type": "code",
        "outputId": "e39e79cd-d94f-406d-f572-308400d22dbe",
        "colab": {
          "base_uri": "https://localhost:8080/",
          "height": 54
        }
      },
      "source": [
        "pikachu[:1000]"
      ],
      "execution_count": 0,
      "outputs": [
        {
          "output_type": "execute_result",
          "data": {
            "text/plain": [
              "' | | | | | | | | | | | | | | | | | | | | boringggg . who cares . here are my current bottom 1 5 power rankings . . . any hot takes ? ? 3 5 3 mvsu 3 5 2 chicago st 3 5 1 delaware st 3 5 0 kennesaw st 3 4 9 apb 3 4 8 ccsu 3 4 7 howard 3 4 6 umes 3 4 5 hou baptist 3 4 4 holy cross 3 4 3 incarnate word 3 4 2 al am 3 4 1 se la 3 4 0 high point 3 3 9 tenn tech | | | | | | | | | | | | | | | | | | | | so on leap year day in the year of our lord 2 0 2 0 the xfl : - went for it 4 th down on own 2 8 down by 8 in 3 q - tried 3 - pt pat down by 4 in early 4 q - punted 4 th inches from the 5 0 down by 2 scores - outgained opponent 3 7 0 - 2 7 2 on yardage lost by 3 this league is the | | | | | | | | | | | | | | | | | | | | 1 . for - 1 1 0 its 5 2 . 3 8 % you cant just round down by . 0 8 thats a big diff 2 . totals get shaded af and by day of are rarely still - 1 0 . but you dont include odds so you just take a freeroll on the - 1 5 / - 2 0 . today was an exception but thats bc you know weve been ca'"
            ]
          },
          "metadata": {
            "tags": []
          },
          "execution_count": 13
        }
      ]
    },
    {
      "cell_type": "code",
      "metadata": {
        "id": "tqNCJTasPqnv",
        "colab_type": "code",
        "colab": {}
      },
      "source": [
        "import string\n",
        "\n",
        "testing = pikachu.split()\n",
        "# remove punctuation from each token\n",
        "table = str.maketrans('', '', string.punctuation)\n",
        "testing = [w.translate(table) for w in testing]\n",
        "# remove remaining tokens that are not alphabetic\n",
        "testing = [word for word in testing if word.isalpha()]"
      ],
      "execution_count": 0,
      "outputs": []
    },
    {
      "cell_type": "code",
      "metadata": {
        "id": "WLyEEoZhO99M",
        "colab_type": "code",
        "outputId": "e3835543-2d7a-4660-db6a-807930891637",
        "colab": {
          "base_uri": "https://localhost:8080/",
          "height": 54
        }
      },
      "source": [
        "# Python program to find the k most frequent words \n",
        "# from data set \n",
        "from collections import Counter \n",
        "\n",
        "# Pass the split_it list to instance of Counter class. \n",
        "Counter = Counter(testing) \n",
        "\n",
        "# most_common() produces k frequently encountered \n",
        "# input values and their respective counts. \n",
        "most_occur = Counter.most_common(25) \n",
        "\n",
        "print(most_occur) "
      ],
      "execution_count": 0,
      "outputs": [
        {
          "output_type": "stream",
          "text": [
            "[('the', 1777), ('to', 1496), ('you', 1474), ('a', 1448), ('is', 988), ('and', 878), ('i', 875), ('of', 862), ('this', 700), ('for', 652), ('on', 648), ('that', 641), ('in', 593), ('it', 590), ('your', 494), ('not', 483), ('but', 409), ('are', 405), ('so', 371), ('be', 361), ('he', 357), ('about', 353), ('with', 345), ('lol', 343), ('just', 341)]\n"
          ],
          "name": "stdout"
        }
      ]
    },
    {
      "cell_type": "code",
      "metadata": {
        "id": "kLUHjf7kQVsr",
        "colab_type": "code",
        "colab": {}
      },
      "source": [
        "word_feq = pd.DataFrame.from_dict(Counter, orient='index').reset_index()"
      ],
      "execution_count": 0,
      "outputs": []
    },
    {
      "cell_type": "code",
      "metadata": {
        "id": "IljWm7G3QZBz",
        "colab_type": "code",
        "outputId": "f5decf46-eb0c-436f-a63d-95ed5b78f19d",
        "colab": {
          "base_uri": "https://localhost:8080/",
          "height": 1000
        }
      },
      "source": [
        "word_feq.columns = ['Word', 'Frequency']\n",
        "word_feq.sort_values(by='Frequency', ascending=False).reset_index(drop=True).head(50)"
      ],
      "execution_count": 0,
      "outputs": [
        {
          "output_type": "execute_result",
          "data": {
            "text/html": [
              "<div>\n",
              "<style scoped>\n",
              "    .dataframe tbody tr th:only-of-type {\n",
              "        vertical-align: middle;\n",
              "    }\n",
              "\n",
              "    .dataframe tbody tr th {\n",
              "        vertical-align: top;\n",
              "    }\n",
              "\n",
              "    .dataframe thead th {\n",
              "        text-align: right;\n",
              "    }\n",
              "</style>\n",
              "<table border=\"1\" class=\"dataframe\">\n",
              "  <thead>\n",
              "    <tr style=\"text-align: right;\">\n",
              "      <th></th>\n",
              "      <th>Word</th>\n",
              "      <th>Frequency</th>\n",
              "    </tr>\n",
              "  </thead>\n",
              "  <tbody>\n",
              "    <tr>\n",
              "      <th>0</th>\n",
              "      <td>the</td>\n",
              "      <td>1777</td>\n",
              "    </tr>\n",
              "    <tr>\n",
              "      <th>1</th>\n",
              "      <td>to</td>\n",
              "      <td>1496</td>\n",
              "    </tr>\n",
              "    <tr>\n",
              "      <th>2</th>\n",
              "      <td>you</td>\n",
              "      <td>1474</td>\n",
              "    </tr>\n",
              "    <tr>\n",
              "      <th>3</th>\n",
              "      <td>a</td>\n",
              "      <td>1448</td>\n",
              "    </tr>\n",
              "    <tr>\n",
              "      <th>4</th>\n",
              "      <td>is</td>\n",
              "      <td>988</td>\n",
              "    </tr>\n",
              "    <tr>\n",
              "      <th>5</th>\n",
              "      <td>and</td>\n",
              "      <td>878</td>\n",
              "    </tr>\n",
              "    <tr>\n",
              "      <th>6</th>\n",
              "      <td>i</td>\n",
              "      <td>875</td>\n",
              "    </tr>\n",
              "    <tr>\n",
              "      <th>7</th>\n",
              "      <td>of</td>\n",
              "      <td>862</td>\n",
              "    </tr>\n",
              "    <tr>\n",
              "      <th>8</th>\n",
              "      <td>this</td>\n",
              "      <td>700</td>\n",
              "    </tr>\n",
              "    <tr>\n",
              "      <th>9</th>\n",
              "      <td>for</td>\n",
              "      <td>652</td>\n",
              "    </tr>\n",
              "    <tr>\n",
              "      <th>10</th>\n",
              "      <td>on</td>\n",
              "      <td>648</td>\n",
              "    </tr>\n",
              "    <tr>\n",
              "      <th>11</th>\n",
              "      <td>that</td>\n",
              "      <td>641</td>\n",
              "    </tr>\n",
              "    <tr>\n",
              "      <th>12</th>\n",
              "      <td>in</td>\n",
              "      <td>593</td>\n",
              "    </tr>\n",
              "    <tr>\n",
              "      <th>13</th>\n",
              "      <td>it</td>\n",
              "      <td>590</td>\n",
              "    </tr>\n",
              "    <tr>\n",
              "      <th>14</th>\n",
              "      <td>your</td>\n",
              "      <td>494</td>\n",
              "    </tr>\n",
              "    <tr>\n",
              "      <th>15</th>\n",
              "      <td>not</td>\n",
              "      <td>483</td>\n",
              "    </tr>\n",
              "    <tr>\n",
              "      <th>16</th>\n",
              "      <td>but</td>\n",
              "      <td>409</td>\n",
              "    </tr>\n",
              "    <tr>\n",
              "      <th>17</th>\n",
              "      <td>are</td>\n",
              "      <td>405</td>\n",
              "    </tr>\n",
              "    <tr>\n",
              "      <th>18</th>\n",
              "      <td>so</td>\n",
              "      <td>371</td>\n",
              "    </tr>\n",
              "    <tr>\n",
              "      <th>19</th>\n",
              "      <td>be</td>\n",
              "      <td>361</td>\n",
              "    </tr>\n",
              "    <tr>\n",
              "      <th>20</th>\n",
              "      <td>he</td>\n",
              "      <td>357</td>\n",
              "    </tr>\n",
              "    <tr>\n",
              "      <th>21</th>\n",
              "      <td>about</td>\n",
              "      <td>353</td>\n",
              "    </tr>\n",
              "    <tr>\n",
              "      <th>22</th>\n",
              "      <td>with</td>\n",
              "      <td>345</td>\n",
              "    </tr>\n",
              "    <tr>\n",
              "      <th>23</th>\n",
              "      <td>lol</td>\n",
              "      <td>343</td>\n",
              "    </tr>\n",
              "    <tr>\n",
              "      <th>24</th>\n",
              "      <td>just</td>\n",
              "      <td>341</td>\n",
              "    </tr>\n",
              "    <tr>\n",
              "      <th>25</th>\n",
              "      <td>at</td>\n",
              "      <td>339</td>\n",
              "    </tr>\n",
              "    <tr>\n",
              "      <th>26</th>\n",
              "      <td>dont</td>\n",
              "      <td>326</td>\n",
              "    </tr>\n",
              "    <tr>\n",
              "      <th>27</th>\n",
              "      <td>me</td>\n",
              "      <td>322</td>\n",
              "    </tr>\n",
              "    <tr>\n",
              "      <th>28</th>\n",
              "      <td>no</td>\n",
              "      <td>310</td>\n",
              "    </tr>\n",
              "    <tr>\n",
              "      <th>29</th>\n",
              "      <td>all</td>\n",
              "      <td>305</td>\n",
              "    </tr>\n",
              "    <tr>\n",
              "      <th>30</th>\n",
              "      <td>like</td>\n",
              "      <td>298</td>\n",
              "    </tr>\n",
              "    <tr>\n",
              "      <th>31</th>\n",
              "      <td>its</td>\n",
              "      <td>297</td>\n",
              "    </tr>\n",
              "    <tr>\n",
              "      <th>32</th>\n",
              "      <td>if</td>\n",
              "      <td>295</td>\n",
              "    </tr>\n",
              "    <tr>\n",
              "      <th>33</th>\n",
              "      <td>what</td>\n",
              "      <td>292</td>\n",
              "    </tr>\n",
              "    <tr>\n",
              "      <th>34</th>\n",
              "      <td>my</td>\n",
              "      <td>289</td>\n",
              "    </tr>\n",
              "    <tr>\n",
              "      <th>35</th>\n",
              "      <td>have</td>\n",
              "      <td>270</td>\n",
              "    </tr>\n",
              "    <tr>\n",
              "      <th>36</th>\n",
              "      <td>how</td>\n",
              "      <td>261</td>\n",
              "    </tr>\n",
              "    <tr>\n",
              "      <th>37</th>\n",
              "      <td>get</td>\n",
              "      <td>254</td>\n",
              "    </tr>\n",
              "    <tr>\n",
              "      <th>38</th>\n",
              "      <td>do</td>\n",
              "      <td>248</td>\n",
              "    </tr>\n",
              "    <tr>\n",
              "      <th>39</th>\n",
              "      <td>his</td>\n",
              "      <td>235</td>\n",
              "    </tr>\n",
              "    <tr>\n",
              "      <th>40</th>\n",
              "      <td>fucking</td>\n",
              "      <td>233</td>\n",
              "    </tr>\n",
              "    <tr>\n",
              "      <th>41</th>\n",
              "      <td>who</td>\n",
              "      <td>224</td>\n",
              "    </tr>\n",
              "    <tr>\n",
              "      <th>42</th>\n",
              "      <td>as</td>\n",
              "      <td>220</td>\n",
              "    </tr>\n",
              "    <tr>\n",
              "      <th>43</th>\n",
              "      <td>was</td>\n",
              "      <td>211</td>\n",
              "    </tr>\n",
              "    <tr>\n",
              "      <th>44</th>\n",
              "      <td>when</td>\n",
              "      <td>207</td>\n",
              "    </tr>\n",
              "    <tr>\n",
              "      <th>45</th>\n",
              "      <td>or</td>\n",
              "      <td>206</td>\n",
              "    </tr>\n",
              "    <tr>\n",
              "      <th>46</th>\n",
              "      <td>out</td>\n",
              "      <td>206</td>\n",
              "    </tr>\n",
              "    <tr>\n",
              "      <th>47</th>\n",
              "      <td>up</td>\n",
              "      <td>204</td>\n",
              "    </tr>\n",
              "    <tr>\n",
              "      <th>48</th>\n",
              "      <td>now</td>\n",
              "      <td>200</td>\n",
              "    </tr>\n",
              "    <tr>\n",
              "      <th>49</th>\n",
              "      <td>know</td>\n",
              "      <td>196</td>\n",
              "    </tr>\n",
              "  </tbody>\n",
              "</table>\n",
              "</div>"
            ],
            "text/plain": [
              "       Word  Frequency\n",
              "0       the       1777\n",
              "1        to       1496\n",
              "2       you       1474\n",
              "3         a       1448\n",
              "4        is        988\n",
              "5       and        878\n",
              "6         i        875\n",
              "7        of        862\n",
              "8      this        700\n",
              "9       for        652\n",
              "10       on        648\n",
              "11     that        641\n",
              "12       in        593\n",
              "13       it        590\n",
              "14     your        494\n",
              "15      not        483\n",
              "16      but        409\n",
              "17      are        405\n",
              "18       so        371\n",
              "19       be        361\n",
              "20       he        357\n",
              "21    about        353\n",
              "22     with        345\n",
              "23      lol        343\n",
              "24     just        341\n",
              "25       at        339\n",
              "26     dont        326\n",
              "27       me        322\n",
              "28       no        310\n",
              "29      all        305\n",
              "30     like        298\n",
              "31      its        297\n",
              "32       if        295\n",
              "33     what        292\n",
              "34       my        289\n",
              "35     have        270\n",
              "36      how        261\n",
              "37      get        254\n",
              "38       do        248\n",
              "39      his        235\n",
              "40  fucking        233\n",
              "41      who        224\n",
              "42       as        220\n",
              "43      was        211\n",
              "44     when        207\n",
              "45       or        206\n",
              "46      out        206\n",
              "47       up        204\n",
              "48      now        200\n",
              "49     know        196"
            ]
          },
          "metadata": {
            "tags": []
          },
          "execution_count": 73
        }
      ]
    },
    {
      "cell_type": "markdown",
      "metadata": {
        "id": "HzmJIAF7oTzM",
        "colab_type": "text"
      },
      "source": [
        "## Exploratory Data Analysis"
      ]
    },
    {
      "cell_type": "code",
      "metadata": {
        "id": "uc05ZLaqoRxe",
        "colab_type": "code",
        "colab": {}
      },
      "source": [
        "# from data set \n",
        "from collections import Counter \n",
        "\n",
        "# Pass the split_it list to instance of Counter class. \n",
        "Counter = Counter(tokens) \n",
        "\n",
        "# most_common() produces k frequently encountered \n",
        "# input values and their respective counts. \n",
        "most_occur = Counter.most_common(25) \n",
        "\n",
        "print(most_occur) "
      ],
      "execution_count": 0,
      "outputs": []
    },
    {
      "cell_type": "markdown",
      "metadata": {
        "id": "1n8wyDxfeQNK",
        "colab_type": "text"
      },
      "source": [
        "# Joseph Buchdahl (@12Xpert)"
      ]
    },
    {
      "cell_type": "code",
      "metadata": {
        "colab_type": "code",
        "id": "EMI9e1MHoxWJ",
        "colab": {}
      },
      "source": [
        "# define twitter user\n",
        "user = \"Xpert\""
      ],
      "execution_count": 0,
      "outputs": []
    },
    {
      "cell_type": "markdown",
      "metadata": {
        "colab_type": "text",
        "id": "FNOnLWm7oxWM"
      },
      "source": [
        "## Create Vocabulary"
      ]
    },
    {
      "cell_type": "code",
      "metadata": {
        "colab_type": "code",
        "id": "UTOSrnYPoxWN",
        "colab": {}
      },
      "source": [
        "# initialize tokenizer\n",
        "tokenizer = Tokenizer(char_level = False, filters = '', num_words=5500)\n",
        "\n",
        "# fit tokenizer on tweets\n",
        "tokenizer.fit_on_texts([xpert])\n",
        "\n",
        "# tokenize tweets\n",
        "token_list = tokenizer.texts_to_sequences([xpert])[0]\n",
        "\n",
        "# get vocabulary in tweets\n",
        "all_words = len(tokenizer.word_counts) + 1\n",
        "total_words = len(set(token_list)) + 1"
      ],
      "execution_count": 0,
      "outputs": []
    },
    {
      "cell_type": "code",
      "metadata": {
        "colab_type": "code",
        "outputId": "a145a548-5f13-4ebf-a666-3f1ae9f8873e",
        "id": "5TK0JoFkoxWQ",
        "colab": {
          "base_uri": "https://localhost:8080/",
          "height": 68
        }
      },
      "source": [
        "print(user, \"has a vocabulary of\", all_words, \"total words!\")\n",
        "if all_words > 5500:\n",
        "    print(\"\\n\", user, \"uses so many words that we need to limit his vocabulary for modeling to only\", total_words, \"total words!\")"
      ],
      "execution_count": 0,
      "outputs": [
        {
          "output_type": "stream",
          "text": [
            "Xpert has a vocabulary of 8163 total words!\n",
            "\n",
            " Xpert uses so many words that we need to limit his vocabulary for modeling to only 5500 total words!\n"
          ],
          "name": "stdout"
        }
      ]
    },
    {
      "cell_type": "markdown",
      "metadata": {
        "colab_type": "text",
        "id": "pjT_rwqOoxWT"
      },
      "source": [
        "## Create Training Data\n",
        "\n",
        "Convert tweets into sequences to input into the RNN model"
      ]
    },
    {
      "cell_type": "code",
      "metadata": {
        "colab_type": "code",
        "id": "c96IYr5LoxWU",
        "outputId": "f445480d-ce15-4c03-ef93-06e14448db3b",
        "colab": {
          "base_uri": "https://localhost:8080/",
          "height": 68
        }
      },
      "source": [
        "# step = the number of words the sequence moves before creating a new sequence\n",
        "step = 1\n",
        "# total words in each sequence\n",
        "seq_length = 20\n",
        "\n",
        "## create training data\n",
        "X, y, num_seq = generate_sequences(token_list, step = 1)"
      ],
      "execution_count": 0,
      "outputs": [
        {
          "output_type": "stream",
          "text": [
            "Number of prediction classes (Total Vocabulary): 5500\n",
            "Number of sequences: 233367 \n",
            "\n"
          ],
          "name": "stdout"
        }
      ]
    },
    {
      "cell_type": "code",
      "metadata": {
        "colab_type": "code",
        "outputId": "37944ec7-4b4f-4a84-cd60-65f137053a24",
        "id": "7FBAXH_noxWY",
        "colab": {
          "base_uri": "https://localhost:8080/",
          "height": 34
        }
      },
      "source": [
        "# make sure Y data lines up with the function output above\n",
        "y.shape"
      ],
      "execution_count": 0,
      "outputs": [
        {
          "output_type": "execute_result",
          "data": {
            "text/plain": [
              "(233367, 5500)"
            ]
          },
          "metadata": {
            "tags": []
          },
          "execution_count": 24
        }
      ]
    },
    {
      "cell_type": "markdown",
      "metadata": {
        "colab_type": "text",
        "id": "vy2R_Ea5oxWa"
      },
      "source": [
        "## Build Model"
      ]
    },
    {
      "cell_type": "markdown",
      "metadata": {
        "colab_type": "text",
        "id": "GTzGiNGPoxWb"
      },
      "source": [
        "### Early Stopping Settings"
      ]
    },
    {
      "cell_type": "code",
      "metadata": {
        "colab_type": "code",
        "id": "r-uJgt3joxWb",
        "colab": {}
      },
      "source": [
        "earlystop = EarlyStopping(monitor = 'loss',\n",
        "                          min_delta = 0,\n",
        "                          patience = 3,\n",
        "                          verbose = 1,\n",
        "                          restore_best_weights = True)"
      ],
      "execution_count": 0,
      "outputs": []
    },
    {
      "cell_type": "markdown",
      "metadata": {
        "colab_type": "text",
        "id": "ot3c4jfJoxWd"
      },
      "source": [
        "### Model Checkpoint Settings"
      ]
    },
    {
      "cell_type": "code",
      "metadata": {
        "colab_type": "code",
        "id": "WPMoe_MNoxWe",
        "colab": {}
      },
      "source": [
        "# output file to save the best model\n",
        "filepath =  user + '_best_model.h5'\n",
        "checkpoint = ModelCheckpoint(filepath,\n",
        "                             monitor='loss',\n",
        "                             mode='min',\n",
        "                             save_best_only=True,\n",
        "                             verbose=1)"
      ],
      "execution_count": 0,
      "outputs": []
    },
    {
      "cell_type": "markdown",
      "metadata": {
        "colab_type": "text",
        "id": "NUd-DaPMoxWh"
      },
      "source": [
        "### Callback Function"
      ]
    },
    {
      "cell_type": "code",
      "metadata": {
        "colab_type": "code",
        "id": "dHj4j75voxWh",
        "colab": {}
      },
      "source": [
        "# create callback function to generate tweets at different temperatures for the chatbot after each epoch\n",
        "callback = LambdaCallback(on_epoch_end = on_epoch_end)"
      ],
      "execution_count": 0,
      "outputs": []
    },
    {
      "cell_type": "markdown",
      "metadata": {
        "colab_type": "text",
        "id": "I00Bl30SoxWi"
      },
      "source": [
        "### Neural Network Architecture"
      ]
    },
    {
      "cell_type": "code",
      "metadata": {
        "colab_type": "code",
        "id": "RJG-C1dHoxWj",
        "colab": {}
      },
      "source": [
        "# name model\n",
        "model_name = user + \"_Chatbot\"\n",
        "\n",
        "# number of neurons in LSTM layer\n",
        "n_units = 256\n",
        "\n",
        "# Embedding Dimensions\n",
        "embedding_size = 100\n",
        "\n",
        "# Input of model\n",
        "text_in = Input(shape = (None,), name = \"Tweets\")\n",
        "\n",
        "# Embedding layer\n",
        "embedding = Embedding(total_words, embedding_size, name = \"Embedding_Layer\")\n",
        "\n",
        "# Start of Model\n",
        "x = embedding(text_in)\n",
        "\n",
        "# LSTM RNN layer\n",
        "x = LSTM(n_units, name = \"RNN_Layer\")(x)\n",
        "\n",
        "# Output layer\n",
        "text_out = Dense(total_words, activation = 'softmax', name = \"Predict_Next_Word\")(x)\n",
        "\n",
        "# Complete model\n",
        "model = Model(text_in, text_out, name = model_name)\n",
        "\n",
        "# Optimizer function\n",
        "opti = Adam(learning_rate = 0.001)\n",
        "\n",
        "# Compile model\n",
        "model.compile(loss = 'categorical_crossentropy', \n",
        "              optimizer = opti, \n",
        "              metrics = ['accuracy'])"
      ],
      "execution_count": 0,
      "outputs": []
    },
    {
      "cell_type": "markdown",
      "metadata": {
        "colab_type": "text",
        "id": "7zsDaxFnoxWl"
      },
      "source": [
        "### View Model"
      ]
    },
    {
      "cell_type": "code",
      "metadata": {
        "colab_type": "code",
        "outputId": "0c204c42-2b69-4256-d30c-8ab03486184d",
        "id": "yNCLllhRoxWm",
        "colab": {
          "base_uri": "https://localhost:8080/",
          "height": 289
        }
      },
      "source": [
        "model.summary()"
      ],
      "execution_count": 0,
      "outputs": [
        {
          "output_type": "stream",
          "text": [
            "Model: \"Xpert_Chatbot\"\n",
            "_________________________________________________________________\n",
            "Layer (type)                 Output Shape              Param #   \n",
            "=================================================================\n",
            "Tweets (InputLayer)          [(None, None)]            0         \n",
            "_________________________________________________________________\n",
            "Embedding_Layer (Embedding)  (None, None, 100)         550000    \n",
            "_________________________________________________________________\n",
            "RNN_Layer (LSTM)             (None, 256)               365568    \n",
            "_________________________________________________________________\n",
            "Predict_Next_Word (Dense)    (None, 5500)              1413500   \n",
            "=================================================================\n",
            "Total params: 2,329,068\n",
            "Trainable params: 2,329,068\n",
            "Non-trainable params: 0\n",
            "_________________________________________________________________\n"
          ],
          "name": "stdout"
        }
      ]
    },
    {
      "cell_type": "code",
      "metadata": {
        "colab_type": "code",
        "outputId": "310195e2-6d29-43b2-f942-f95a64276d77",
        "id": "SLt8SBFxoxWo",
        "colab": {
          "base_uri": "https://localhost:8080/",
          "height": 422
        }
      },
      "source": [
        "# plot model structure\n",
        "plot_model(model, show_layer_names=True, show_shapes=True, expand_nested=True)"
      ],
      "execution_count": 0,
      "outputs": [
        {
          "output_type": "execute_result",
          "data": {
            "image/png": "[encoded data removed]",
            "text/plain": [
              "<IPython.core.display.Image object>"
            ]
          },
          "metadata": {
            "tags": []
          },
          "execution_count": 30
        }
      ]
    },
    {
      "cell_type": "markdown",
      "metadata": {
        "colab_type": "text",
        "id": "Dbx4bzPXoxWq"
      },
      "source": [
        "## Train Model"
      ]
    },
    {
      "cell_type": "code",
      "metadata": {
        "colab_type": "code",
        "outputId": "d971e5a9-6f1d-4f75-bc47-de4276da27c8",
        "id": "okXc4fD6oxWt",
        "colab": {
          "base_uri": "https://localhost:8080/",
          "height": 1000
        }
      },
      "source": [
        "# initialize variables for the callback functions in the model\n",
        "seq_length = 20\n",
        "start_tweet = '| ' * seq_length\n",
        "token_type = 'word'\n",
        "\n",
        "# length of training\n",
        "epochs = 20\n",
        "batch_size = 64\n",
        "num_batches = int(len(X) / batch_size)\n",
        "\n",
        "print(\"Total Batches:\", str(num_batches), \"\\n\")\n",
        "\n",
        "\n",
        "# Record the time\n",
        "warnings.filterwarnings('ignore')\n",
        "start = datetime.datetime.now()\n",
        "\n",
        "\n",
        "model.fit(X, y, \n",
        "          validation_split=0.15,\n",
        "          epochs=epochs, \n",
        "          batch_size=batch_size, \n",
        "          callbacks = [callback, checkpoint, earlystop], \n",
        "          shuffle = True)\n",
        "\n",
        "## Save Model\n",
        "model_saved_name = user + '_chatbot_model.h5'\n",
        "model.save_weights(model_saved_name)\n",
        "\n",
        "end = datetime.datetime.now()\n",
        "time_diff = end-start\n",
        "print()\n",
        "print()\n",
        "print('Time to train = {}'.format(time_diff))"
      ],
      "execution_count": 0,
      "outputs": [
        {
          "output_type": "stream",
          "text": [
            "Total Batches: 3646 \n",
            "\n",
            "Train on 198361 samples, validate on 35006 samples\n",
            "Epoch 1/20\n",
            "198336/198361 [============================>.] - ETA: 0s - loss: 4.2316 - accuracy: 0.3769\n",
            "\n",
            "\n",
            "--------------------------------------------------\n",
            "Temp 0.2:\n",
            "i the point of the a the . i the the a be . i a be a be . \n",
            "--------------------------------------------------\n",
            "Temp 0.33:\n",
            "i don't be a be . there . i the mean and the the model . i you have . \n",
            "--------------------------------------------------\n",
            "Temp 0.5:\n",
            "this might be . the is the know that only not be is . betting you are back . if it . \n",
            "--------------------------------------------------\n",
            "Temp 0.67:\n",
            "why this for a be for the that you a complaining . what all you the get it . \n",
            "--------------------------------------------------\n",
            "Temp 1.0:\n",
            "on it tells i more : the against true major telling on at have been wage other ( is take rose from touts model for it to now frankly and mean understand million speaking higher . \n",
            "--------------------------------------------------\n",
            "\n",
            "\n",
            "\n",
            "\n",
            "Epoch 00001: loss improved from inf to 4.23149, saving model to Xpert_best_model.h5\n",
            "198361/198361 [==============================] - 358s 2ms/sample - loss: 4.2315 - accuracy: 0.3770 - val_loss: 2.5559 - val_accuracy: 0.6201\n",
            "Epoch 2/20\n",
            "198336/198361 [============================>.] - ETA: 0s - loss: 3.7006 - accuracy: 0.4202\n",
            "\n",
            "\n",
            "--------------------------------------------------\n",
            "Temp 0.2:\n",
            "i don't have to be a lot of the uk . i don't have to be a lot of the same . \n",
            "--------------------------------------------------\n",
            "Temp 0.33:\n",
            "the point is that . i think it is not the good and the way that is not to be to be . \n",
            "--------------------------------------------------\n",
            "Temp 0.5:\n",
            "\" i don't want to be a losing and people with the - . the credible of the two - the and . you can get been . \n",
            "--------------------------------------------------\n",
            "Temp 0.67:\n",
            "i've affected to understand those helpful . i wouldn't have be real - own and data on the odds of those . if the place are outcome and indeed . \n",
            "--------------------------------------------------\n",
            "Temp 1.0:\n",
            "i'm must say this show the moral publish that the \" reason a position that and could reflect it or others tipsters to have a difficulty 1 / 4 8 thousand \n",
            "--------------------------------------------------\n",
            "\n",
            "\n",
            "\n",
            "\n",
            "Epoch 00002: loss improved from 4.23149 to 3.70070, saving model to Xpert_best_model.h5\n",
            "198361/198361 [==============================] - 359s 2ms/sample - loss: 3.7007 - accuracy: 0.4202 - val_loss: 2.4478 - val_accuracy: 0.6246\n",
            "Epoch 3/20\n",
            "198336/198361 [============================>.] - ETA: 0s - loss: 3.4158 - accuracy: 0.4403\n",
            "\n",
            "\n",
            "--------------------------------------------------\n",
            "Temp 0.2:\n",
            "i think you know that the bookmaker is a lot of the market . if you have to be a lot of the same . \n",
            "--------------------------------------------------\n",
            "Temp 0.33:\n",
            "for the case that is the point of the same . i have to be about the market . if you want to be a lot of the same . \n",
            "--------------------------------------------------\n",
            "Temp 0.5:\n",
            "but i wouldn't just be with the same . i don't say that all and basically the problem . \n",
            "--------------------------------------------------\n",
            "Temp 0.67:\n",
            "or closing odds 2 0 1 . 2 0 0 0 0 ( method = 2 6 1 9 - 1 2 . 7 9 1 9 2 . 9 5 % = 2 0 0 0 . 3 . 3 9 - 1 = 0 . 3 5 % of 1 1 % of 1 0 6 8 . \n",
            "--------------------------------------------------\n",
            "Temp 1.0:\n",
            "that's not for the numbers on lays between the trend . not just appears to know that being the latest events player . \n",
            "--------------------------------------------------\n",
            "\n",
            "\n",
            "\n",
            "\n",
            "Epoch 00003: loss improved from 3.70070 to 3.41575, saving model to Xpert_best_model.h5\n",
            "198361/198361 [==============================] - 356s 2ms/sample - loss: 3.4158 - accuracy: 0.4403 - val_loss: 2.4178 - val_accuracy: 0.6283\n",
            "Epoch 4/20\n",
            "198336/198361 [============================>.] - ETA: 0s - loss: 3.1891 - accuracy: 0.4522\n",
            "\n",
            "\n",
            "--------------------------------------------------\n",
            "Temp 0.2:\n",
            "i think you could have a read of the future . but it was a lot of the time . \n",
            "--------------------------------------------------\n",
            "Temp 0.33:\n",
            "new predictions for 2 0 1 9 - 2 0 ( method at including fixture difficulty and more ) . attack strength defence weakness ratings shown by team . data by \n",
            "--------------------------------------------------\n",
            "Temp 0.5:\n",
            "i think i think you think i have said the data . i suspect the point of the results to have a new price - 1 0 0 0 0 0 0 0 0 0 0 0 0 0 0 0 0 1 1 + 1 0 1 9 9 9 / 2 0 1 6 1 7 9 5 ) \n",
            "--------------------------------------------------\n",
            "Temp 0.67:\n",
            "it seems to be considered a behaviour of skin and the latter is not restricted for their numbers . it is not a real thing . \n",
            "--------------------------------------------------\n",
            "Temp 1.0:\n",
            "smaller showing in 1 1 0 9 9 9 : actual odds : 2 0 0 5 7 ( 9 - 1 9 9 9 1 2 yield ) . time . there are based . still 2 4 8 and 2 3 7 i've has been pretty beating : a contention of date . \n",
            "--------------------------------------------------\n",
            "\n",
            "\n",
            "\n",
            "\n",
            "Epoch 00004: loss improved from 3.41575 to 3.18909, saving model to Xpert_best_model.h5\n",
            "198361/198361 [==============================] - 353s 2ms/sample - loss: 3.1891 - accuracy: 0.4522 - val_loss: 2.4395 - val_accuracy: 0.6333\n",
            "Epoch 5/20\n",
            "198336/198361 [============================>.] - ETA: 0s - loss: 2.9746 - accuracy: 0.4632\n",
            "\n",
            "\n",
            "--------------------------------------------------\n",
            "Temp 0.2:\n",
            "i would have to see the data . i would have to see the data . i would be able to make a profit . \n",
            "--------------------------------------------------\n",
            "Temp 0.33:\n",
            "the latest 2 0 1 9 - 2 0 title race based on my predictions ( method at ) . data by \n",
            "--------------------------------------------------\n",
            "Temp 0.5:\n",
            "i think most of the eu would be its good to beat the eu . it wont be a good job . \n",
            "--------------------------------------------------\n",
            "Temp 0.67:\n",
            "yes it's one . i know . i find the first idea that you can others lose . the most is the explanation . \n",
            "--------------------------------------------------\n",
            "Temp 1.0:\n",
            "betfair can help he calling freedoms that ban 5 years for society bookmakers including expect enough . not the difference . to for sure be bad and all the bookmakers can see and this . you have or the sort of skills number of science off . look of a scam ? \" \n",
            "--------------------------------------------------\n",
            "\n",
            "\n",
            "\n",
            "\n",
            "Epoch 00005: loss improved from 3.18909 to 2.97454, saving model to Xpert_best_model.h5\n",
            "198361/198361 [==============================] - 361s 2ms/sample - loss: 2.9745 - accuracy: 0.4632 - val_loss: 2.5080 - val_accuracy: 0.6335\n",
            "Epoch 6/20\n",
            "198336/198361 [============================>.] - ETA: 0s - loss: 2.7749 - accuracy: 0.4782\n",
            "\n",
            "\n",
            "--------------------------------------------------\n",
            "Temp 0.2:\n",
            "i don't doubt that the problem is that is a good job . but i don't think the argument is that i don't know what they do . \n",
            "--------------------------------------------------\n",
            "Temp 0.33:\n",
            "i don't doubt they are . i don't think it is that the bookmaker is because they are not . \n",
            "--------------------------------------------------\n",
            "Temp 0.5:\n",
            "that's not not clear . i don't think they were taking for the bookmakers . people have no idea that things they have been assured . \n",
            "--------------------------------------------------\n",
            "Temp 0.67:\n",
            "yes a relative price the game is how there is no correlated . the only way he have to be a bit of understanding of the same standards . \n",
            "--------------------------------------------------\n",
            "Temp 1.0:\n",
            "the excellent thing is taken with it . i haven't told it and much this way version with - sides / wta ethic of handicap less than outcomes . then in clvh point out single way need to think gambling = they can fuck ? it's never almost anti - zero - advertising markets . \n",
            "--------------------------------------------------\n",
            "\n",
            "\n",
            "\n",
            "\n",
            "Epoch 00006: loss improved from 2.97454 to 2.77500, saving model to Xpert_best_model.h5\n",
            "198361/198361 [==============================] - 362s 2ms/sample - loss: 2.7750 - accuracy: 0.4782 - val_loss: 2.5024 - val_accuracy: 0.6395\n",
            "Epoch 7/20\n",
            "198336/198361 [============================>.] - ETA: 0s - loss: 2.5924 - accuracy: 0.4955\n",
            "\n",
            "\n",
            "--------------------------------------------------\n",
            "Temp 0.2:\n",
            "i think the point is that the tipster is not a ponzi . if you can do it ? \n",
            "--------------------------------------------------\n",
            "Temp 0.33:\n",
            "if you're talking about the data to prove that the closing price is not efficient . i don't know what i find it . \n",
            "--------------------------------------------------\n",
            "Temp 0.5:\n",
            "yes the market was fully efficient for the last - longshot bias but the only way to get a lot to get smashed . \n",
            "--------------------------------------------------\n",
            "Temp 0.67:\n",
            "i know i know . i can see that it would be a 1 0 0 0 0 0 . \n",
            "--------------------------------------------------\n",
            "Temp 1.0:\n",
            "just anyone have to change about the big as good . take people research of them ? the problem are having back closed . its just to fund to many markets . say you can almost bet on bets i guess but you this to do is why would mostly sharp \" it's called so your reflects press wanting to an existential towards psychology more fundamental liability or know how has out their view . which should also be free if they spent the influence of winners to 1 0 minutes now . \n",
            "--------------------------------------------------\n",
            "\n",
            "\n",
            "\n",
            "\n",
            "Epoch 00007: loss improved from 2.77500 to 2.59243, saving model to Xpert_best_model.h5\n",
            "198361/198361 [==============================] - 355s 2ms/sample - loss: 2.5924 - accuracy: 0.4955 - val_loss: 2.6455 - val_accuracy: 0.6282\n",
            "Epoch 8/20\n",
            "198336/198361 [============================>.] - ETA: 0s - loss: 2.4275 - accuracy: 0.5148\n",
            "\n",
            "\n",
            "--------------------------------------------------\n",
            "Temp 0.2:\n",
            "i think the point is that the question is that the proportion of the vig boundaries is that the law of the vig is not quite enough to be addicts . \n",
            "--------------------------------------------------\n",
            "Temp 0.33:\n",
            "i think the answer is that the closing price is a lot of the margin . but i think it didn't apply the data . \n",
            "--------------------------------------------------\n",
            "Temp 0.5:\n",
            "i think its conflating the problem with the one of the bookmaker ? that would be a special case . \n",
            "--------------------------------------------------\n",
            "Temp 0.67:\n",
            "i think there are smaller rights for the vig and anyone with society . we don't you know . i can say what we can show me . \n",
            "--------------------------------------------------\n",
            "Temp 1.0:\n",
            "the greatest of his thinking about betting in the - air country to recorded peoples judgement about luck in general and . seems it despite it and both sides get a moral crusade service all which takes more reasons to me things with \n",
            "--------------------------------------------------\n",
            "\n",
            "\n",
            "\n",
            "\n",
            "Epoch 00008: loss improved from 2.59243 to 2.42743, saving model to Xpert_best_model.h5\n",
            "198361/198361 [==============================] - 360s 2ms/sample - loss: 2.4274 - accuracy: 0.5148 - val_loss: 2.6938 - val_accuracy: 0.6324\n",
            "Epoch 9/20\n",
            "198336/198361 [============================>.] - ETA: 0s - loss: 2.2719 - accuracy: 0.5353\n",
            "\n",
            "\n",
            "--------------------------------------------------\n",
            "Temp 0.2:\n",
            "i don't doubt that i don't know . i don't know what the closing line value is not the same . \n",
            "--------------------------------------------------\n",
            "Temp 0.33:\n",
            "i don't doubt that i don't know what i don't think it is . i don't know that i don't think it is . \n",
            "--------------------------------------------------\n",
            "Temp 0.5:\n",
            "but the most irony that gambling is morally ( and 2 ) are not to the cinema ) . \n",
            "--------------------------------------------------\n",
            "Temp 0.67:\n",
            "i don't believe it's a strong case for why i can do it all . but i don't need to use it . \n",
            "--------------------------------------------------\n",
            "Temp 1.0:\n",
            "if you'd take the figures for 2 0 1 9 its a exist . . . . . how subject me it was been beneficial for it for 9 9 picks \n",
            "--------------------------------------------------\n",
            "\n",
            "\n",
            "\n",
            "\n",
            "Epoch 00009: loss improved from 2.42743 to 2.27191, saving model to Xpert_best_model.h5\n",
            "198361/198361 [==============================] - 365s 2ms/sample - loss: 2.2719 - accuracy: 0.5353 - val_loss: 2.7677 - val_accuracy: 0.6314\n",
            "Epoch 10/20\n",
            "198336/198361 [============================>.] - ETA: 0s - loss: 2.1300 - accuracy: 0.5553\n",
            "\n",
            "\n",
            "--------------------------------------------------\n",
            "Temp 0.2:\n",
            "i think the argument is that is why the standard deviation is that the proportion of the vig shifted . \n",
            "--------------------------------------------------\n",
            "Temp 0.33:\n",
            "i think the argument is that the biggest stakers are the 3 0 % of the time . so long as the number of winners - 1 9 . 6 5 % . \n",
            "--------------------------------------------------\n",
            "Temp 0.5:\n",
            "the reason i did . as you can let you what it is that the more likely to their position was simply just anecdotal . \n",
            "--------------------------------------------------\n",
            "Temp 0.67:\n",
            "that would be beyond the same as a factor in the first idea that the public group will be an research deal . \n",
            "--------------------------------------------------\n",
            "Temp 1.0:\n",
            "the proof . how do you say there are first 3 in 6 / 1 etc . extra leagues . i carry for my article maybe you seem to say it and made it to to do to reduce what you're insisted i are not following . \n",
            "--------------------------------------------------\n",
            "\n",
            "\n",
            "\n",
            "\n",
            "Epoch 00010: loss improved from 2.27191 to 2.13000, saving model to Xpert_best_model.h5\n",
            "198361/198361 [==============================] - 374s 2ms/sample - loss: 2.1300 - accuracy: 0.5553 - val_loss: 2.8548 - val_accuracy: 0.6265\n",
            "Epoch 11/20\n",
            "198336/198361 [============================>.] - ETA: 0s - loss: 2.0008 - accuracy: 0.5766\n",
            "\n",
            "\n",
            "--------------------------------------------------\n",
            "Temp 0.2:\n",
            "the latest 2 0 1 9 - 2 0 title race timeline based on my predictions ( method at ) . data by \n",
            "--------------------------------------------------\n",
            "Temp 0.33:\n",
            "there are not a special case on the way that they are told to be a proper fan they do . \n",
            "--------------------------------------------------\n",
            "Temp 0.5:\n",
            "but the point is that the european elite is striving for most purposes and bookmakers are playing in the same way that is what it is . \n",
            "--------------------------------------------------\n",
            "Temp 0.67:\n",
            "if you get a proper extreme to put up a max - 1 - 1 9 . 9 9 9 . \n",
            "--------------------------------------------------\n",
            "Temp 1.0:\n",
            "is not an argument i'm a well say that i still have some in data still being racing at since betfair exchange too . \n",
            "--------------------------------------------------\n",
            "\n",
            "\n",
            "\n",
            "\n",
            "Epoch 00011: loss improved from 2.13000 to 2.00094, saving model to Xpert_best_model.h5\n",
            "198361/198361 [==============================] - 348s 2ms/sample - loss: 2.0009 - accuracy: 0.5766 - val_loss: 2.9280 - val_accuracy: 0.6264\n",
            "Epoch 12/20\n",
            "198336/198361 [============================>.] - ETA: 0s - loss: 1.8790 - accuracy: 0.5964\n",
            "\n",
            "\n",
            "--------------------------------------------------\n",
            "Temp 0.2:\n",
            "i think the point is that the of the time is that they are . and if you think that they are puzzled why they don't want to be wrong . \n",
            "--------------------------------------------------\n",
            "Temp 0.33:\n",
            "i think the point is that the price are not in the action . it's the best thing : no idea . \n",
            "--------------------------------------------------\n",
            "Temp 0.5:\n",
            "but if you want to know about how a ponzi operates . \" we don't know nothing about this sort of shit . \n",
            "--------------------------------------------------\n",
            "Temp 0.67:\n",
            "the latest comparison tables showing for / against rankings of shots corners shots on target goals points league positions . colour - shaded teams are under / overachieving in certain areas . original match data from \n",
            "--------------------------------------------------\n",
            "Temp 1.0:\n",
            "but you move 1 0 0 losers will have for providing 9 % by their website . \n",
            "--------------------------------------------------\n",
            "\n",
            "\n",
            "\n",
            "\n",
            "Epoch 00012: loss improved from 2.00094 to 1.87909, saving model to Xpert_best_model.h5\n",
            "198361/198361 [==============================] - 364s 2ms/sample - loss: 1.8791 - accuracy: 0.5964 - val_loss: 2.9880 - val_accuracy: 0.6242\n",
            "Epoch 13/20\n",
            "198336/198361 [============================>.] - ETA: 0s - loss: 1.7688 - accuracy: 0.6153\n",
            "\n",
            "\n",
            "--------------------------------------------------\n",
            "Temp 0.2:\n",
            "i think the argument that i think it is a duck swims like a duck and quacks like a duck . i think most people who think it is to be fooled by randomness . \n",
            "--------------------------------------------------\n",
            "Temp 0.33:\n",
            "i don't care that i don't agree with you . i'm not saying that was a story . but i don't think i don't like the data . \n",
            "--------------------------------------------------\n",
            "Temp 0.5:\n",
            "well i think the point is making a lot of bs . it's different with gracenote's can that be casinos . \n",
            "--------------------------------------------------\n",
            "Temp 0.67:\n",
            "my hunch is a simple measure of advantage but as with his tipster it's a significant extent value but the fact that they don't want to lose . \n",
            "--------------------------------------------------\n",
            "Temp 1.0:\n",
            "its not so always more and prices setting or value at those things . this is so indeed for obsessed of brexit and came across the very being ironic a reason to think for them how you mean they are part of pinnacle . \n",
            "--------------------------------------------------\n",
            "\n",
            "\n",
            "\n",
            "\n",
            "Epoch 00013: loss improved from 1.87909 to 1.76877, saving model to Xpert_best_model.h5\n",
            "198361/198361 [==============================] - 353s 2ms/sample - loss: 1.7688 - accuracy: 0.6153 - val_loss: 3.0489 - val_accuracy: 0.6241\n",
            "Epoch 14/20\n",
            "198336/198361 [============================>.] - ETA: 0s - loss: 1.6641 - accuracy: 0.6342\n",
            "\n",
            "\n",
            "--------------------------------------------------\n",
            "Temp 0.2:\n",
            "i think the point is that the biggest stakers were the potential to be winning . but if you are unable to beat pinnacle . \n",
            "--------------------------------------------------\n",
            "Temp 0.33:\n",
            "i guess the odds are the 1 0 3 5 matches from 1 7 7 7 bets variable odds that is the same . it gets bigger than 1 . 5 5 . \n",
            "--------------------------------------------------\n",
            "Temp 0.5:\n",
            "i think the point is that the biggest stakers move from large samples for a sharp book . i just think you are not sure . \n",
            "--------------------------------------------------\n",
            "Temp 0.67:\n",
            "i did . i've had shown to get this analysis to lay you the methodology that you have to make a global work long term the book's profit would have been for a draw . \n",
            "--------------------------------------------------\n",
            "Temp 1.0:\n",
            "just checking in this thread with the start of the lisbon fear . ive decided there points all over your life's quoted account of their life . \n",
            "--------------------------------------------------\n",
            "\n",
            "\n",
            "\n",
            "\n",
            "Epoch 00014: loss improved from 1.76877 to 1.66405, saving model to Xpert_best_model.h5\n",
            "198361/198361 [==============================] - 360s 2ms/sample - loss: 1.6641 - accuracy: 0.6342 - val_loss: 3.1196 - val_accuracy: 0.6210\n",
            "Epoch 15/20\n",
            "198336/198361 [============================>.] - ETA: 0s - loss: 1.5676 - accuracy: 0.6524\n",
            "\n",
            "\n",
            "--------------------------------------------------\n",
            "Temp 0.2:\n",
            "i think we are talking about what i was trying to articulate . the standard deviation of the world is much bigger than the signal ) . i suspect that log method relationship is much more likely to be addicts . \n",
            "--------------------------------------------------\n",
            "Temp 0.33:\n",
            "i think we already knew that the bookmaker hadn't has been in the vig and more because they are working with the size of the vig . \n",
            "--------------------------------------------------\n",
            "Temp 0.5:\n",
            "it doesn't imply that a market is not a sample size a few months ago before they will do this . \n",
            "--------------------------------------------------\n",
            "Temp 0.67:\n",
            "yes that's what its a . yes i was cleverer . i think i believe it would be that to say is whether soft book tipsters who say exactly . \n",
            "--------------------------------------------------\n",
            "Temp 1.0:\n",
            "if the method uses faith is a mix of this doesn't might matter by everyone in general which we're selecting called the represents principle of a point . credit by chance of it . you might limit . \n",
            "--------------------------------------------------\n",
            "\n",
            "\n",
            "\n",
            "\n",
            "Epoch 00015: loss improved from 1.66405 to 1.56753, saving model to Xpert_best_model.h5\n",
            "198361/198361 [==============================] - 363s 2ms/sample - loss: 1.5675 - accuracy: 0.6524 - val_loss: 3.2219 - val_accuracy: 0.6170\n",
            "Epoch 16/20\n",
            "198336/198361 [============================>.] - ETA: 0s - loss: 1.4774 - accuracy: 0.6712\n",
            "\n",
            "\n",
            "--------------------------------------------------\n",
            "Temp 0.2:\n",
            "i think the point is that the response to the way is that a nation ? has a little . \n",
            "--------------------------------------------------\n",
            "Temp 0.33:\n",
            "i would say that is the case for the gambling industry today today . the eu is that without people getting changing the product that is not a sovereign nation . they are seeing and it is not a reason . \n",
            "--------------------------------------------------\n",
            "Temp 0.5:\n",
            "i think you're not something that worked and non - doping is statistically good at a nation to think that it was . \n",
            "--------------------------------------------------\n",
            "Temp 0.67:\n",
            "as the point of \" gambling \" is the essential slightly . all the concept will be finding too . \n",
            "--------------------------------------------------\n",
            "Temp 1.0:\n",
            "whilst the data here is that it would never accept the first piece . but the problem is doesn't really go to the question of being better than . \n",
            "--------------------------------------------------\n",
            "\n",
            "\n",
            "\n",
            "\n",
            "Epoch 00016: loss improved from 1.56753 to 1.47741, saving model to Xpert_best_model.h5\n",
            "198361/198361 [==============================] - 370s 2ms/sample - loss: 1.4774 - accuracy: 0.6712 - val_loss: 3.2853 - val_accuracy: 0.6179\n",
            "Epoch 17/20\n",
            "198336/198361 [============================>.] - ETA: 0s - loss: 1.3932 - accuracy: 0.6871\n",
            "\n",
            "\n",
            "--------------------------------------------------\n",
            "Temp 0.2:\n",
            "i think we should be wasting my twitter . to the problem with that ? it couldn't be a special case and science on the future . \n",
            "--------------------------------------------------\n",
            "Temp 0.33:\n",
            "i think the point is that the doubt many of winners and are addictive in the uk people are sick and it didn't . \n",
            "--------------------------------------------------\n",
            "Temp 0.5:\n",
            "i have no idea because the tipster rate has been done to be in the business line for multinationals to the place . \n",
            "--------------------------------------------------\n",
            "Temp 0.67:\n",
            "i talk about affiliate - remainers with pinnacle and then you're talking about . skybet there are more well just like to offer . hence you can see if they would quickly be . \n",
            "--------------------------------------------------\n",
            "Temp 1.0:\n",
            "retweeting this conclusion following things you could simply thought experiment with that the other 3 is ( the law of the book ) and the public can the property long term the reciprocal of the margin . \n",
            "--------------------------------------------------\n",
            "\n",
            "\n",
            "\n",
            "\n",
            "Epoch 00017: loss improved from 1.47741 to 1.39326, saving model to Xpert_best_model.h5\n",
            "198361/198361 [==============================] - 348s 2ms/sample - loss: 1.3933 - accuracy: 0.6871 - val_loss: 3.3721 - val_accuracy: 0.6120\n",
            "Epoch 18/20\n",
            "198336/198361 [============================>.] - ETA: 0s - loss: 1.3171 - accuracy: 0.7037\n",
            "\n",
            "\n",
            "--------------------------------------------------\n",
            "Temp 0.2:\n",
            "the latest comparison tables showing for / against rankings of shots corners shots on target goals points league positions . colour - shaded teams are under / overachieving in certain areas . original match data from \n",
            "--------------------------------------------------\n",
            "Temp 0.33:\n",
            "i suppose the amongst them would have been a millionaire and test it . i suppose the argument that the ratio of that is what happens . \n",
            "--------------------------------------------------\n",
            "Temp 0.5:\n",
            "i think the argument from the pleasure gained bring via the anticipation of uncertain and not human day . it has a little on a bit of gambling addiction . \n",
            "--------------------------------------------------\n",
            "Temp 0.67:\n",
            "i'm not asking him to care about luck . if you hate me then we don't seem to be ! \" everyone \" they're so you just have nothing constructive to make it anymore . \n",
            "--------------------------------------------------\n",
            "Temp 1.0:\n",
            "this is just a mirror image argument . if i could simply say your position was using ( 1 / 2 no 1 . 4 1 which is 2 . 5 % from 0 . 0 5 1 . 2 5 % and 0 . 0 1 4 expected on 8 3 9 % house prices on 1 7 0 5 0 - so - and only voted a story with real samples but so you have the last 4 of odds it just betting seems an arms race . 2 ) work completely my the number . you can't . or pinny was a few of about luck . i hope it could be an return of players bet if you dont . but since they don't . it's take error towards other countries . perhaps would be really hard why you had time is because of your twitter . can all youre saying no . \n",
            "--------------------------------------------------\n",
            "\n",
            "\n",
            "\n",
            "\n",
            "Epoch 00018: loss improved from 1.39326 to 1.31712, saving model to Xpert_best_model.h5\n",
            "198361/198361 [==============================] - 370s 2ms/sample - loss: 1.3171 - accuracy: 0.7037 - val_loss: 3.4477 - val_accuracy: 0.6124\n",
            "Epoch 19/20\n",
            "198336/198361 [============================>.] - ETA: 0s - loss: 1.2476 - accuracy: 0.7178\n",
            "\n",
            "\n",
            "--------------------------------------------------\n",
            "Temp 0.2:\n",
            "i think we were talking about online book . i think most people are more prepared to human error than others ? \n",
            "--------------------------------------------------\n",
            "Temp 0.33:\n",
            "i think we already knew that football analytics companies are not as good as bookmakers to care about knowing whether it is they are not . \n",
            "--------------------------------------------------\n",
            "Temp 0.5:\n",
            "if you find a sample in the time i know earlier and we are talking about risk and skill about the former . if the uk is a winner tipster i've like some ideas to spend them . just getting into sick of this . \n",
            "--------------------------------------------------\n",
            "Temp 0.67:\n",
            "the only thing i am i actually say that i was trying to articulate . i'm still waiting for the end that the thought i doubt betfair are in closing odds . indeed it would be much smaller than 1 0 0 0 0 s . \n",
            "--------------------------------------------------\n",
            "Temp 1.0:\n",
            "if they had to read a bit of sharp market and losses with a non - zero - weekend . but that do we tell it for all ? \n",
            "--------------------------------------------------\n",
            "\n",
            "\n",
            "\n",
            "\n",
            "Epoch 00019: loss improved from 1.31712 to 1.24765, saving model to Xpert_best_model.h5\n",
            "198361/198361 [==============================] - 367s 2ms/sample - loss: 1.2476 - accuracy: 0.7178 - val_loss: 3.4999 - val_accuracy: 0.6126\n",
            "Epoch 20/20\n",
            "198336/198361 [============================>.] - ETA: 0s - loss: 1.1834 - accuracy: 0.7302\n",
            "\n",
            "\n",
            "--------------------------------------------------\n",
            "Temp 0.2:\n",
            "but the point is that the price has been that a square matter . look at the second best public bad . \n",
            "--------------------------------------------------\n",
            "Temp 0.33:\n",
            "it's a good thing . do you talk about pyckio bookies then have no opportunity to refer to cheating but that is not so much of the other context of the world that the industry is a mistake that it does not fit for purpose . \n",
            "--------------------------------------------------\n",
            "Temp 0.5:\n",
            "it's a good thing . do you think they are blind to point out how you achieve so right ? \n",
            "--------------------------------------------------\n",
            "Temp 0.67:\n",
            "you see what the edges i agree . i would never actually been happy to say what the ratings states do do it at . \n",
            "--------------------------------------------------\n",
            "Temp 1.0:\n",
            "me neither nations get to understand why so everyone will understand it . to be my head of but you follow people these labour tips your profits are just lucky and not in the end not looking for recreational bookmakers . the points from those who want will know too . we need to see what they say it from that they might have a choice . so much about her ever dont . \n",
            "--------------------------------------------------\n",
            "\n",
            "\n",
            "\n",
            "\n",
            "Epoch 00020: loss improved from 1.24765 to 1.18335, saving model to Xpert_best_model.h5\n",
            "198361/198361 [==============================] - 314s 2ms/sample - loss: 1.1833 - accuracy: 0.7302 - val_loss: 3.5959 - val_accuracy: 0.6064\n",
            "\n",
            "\n",
            "Time to train = 1:59:18.197418\n"
          ],
          "name": "stdout"
        }
      ]
    },
    {
      "cell_type": "markdown",
      "metadata": {
        "colab_type": "text",
        "id": "MK_XVUFcvZmL"
      },
      "source": [
        "## Plot Model Training"
      ]
    },
    {
      "cell_type": "markdown",
      "metadata": {
        "colab_type": "text",
        "id": "DF_VF0LuvZmN"
      },
      "source": [
        "### Accuracy"
      ]
    },
    {
      "cell_type": "code",
      "metadata": {
        "colab_type": "code",
        "outputId": "4d0e4c52-ed06-41ca-925a-79e7d199ee25",
        "id": "xEqDuqp3vZmO",
        "colab": {
          "base_uri": "https://localhost:8080/",
          "height": 295
        }
      },
      "source": [
        "# Plot training & validation accuracy values\n",
        "plot_title = user + \" Chatbot Accuracy\"\n",
        "plt.plot(model.history.history['accuracy'])\n",
        "plt.plot(model.history.history['val_accuracy'])\n",
        "plt.title(plot_title)\n",
        "plt.ylabel('Accuracy')\n",
        "plt.xlabel('Epoch')\n",
        "plt.legend(['Train Accuracy', 'Val Accuracy'], loc='upper left')\n",
        "plt.show()"
      ],
      "execution_count": 0,
      "outputs": [
        {
          "output_type": "display_data",
          "data": {
            "image/png": "[encoded data removed]",
            "text/plain": [
              "<Figure size 432x288 with 1 Axes>"
            ]
          },
          "metadata": {
            "tags": []
          }
        }
      ]
    },
    {
      "cell_type": "markdown",
      "metadata": {
        "colab_type": "text",
        "id": "ncxGBj30vZmR"
      },
      "source": [
        "### Loss/Cost"
      ]
    },
    {
      "cell_type": "code",
      "metadata": {
        "colab_type": "code",
        "outputId": "d8b2b643-3ef2-492b-833a-66488beca507",
        "id": "Di113YwkvZmS",
        "colab": {
          "base_uri": "https://localhost:8080/",
          "height": 295
        }
      },
      "source": [
        "# Plot training & validation loss values\n",
        "plot_title = user + \" Chatbot Loss/Cost\"\n",
        "plt.plot(model.history.history['loss'])\n",
        "plt.plot(model.history.history['val_loss'])\n",
        "plt.title(plot_title)\n",
        "plt.ylabel('Loss / Cost')\n",
        "plt.xlabel('Epoch')\n",
        "plt.legend(['Train Loss', 'Val Loss'], loc='upper right')\n",
        "plt.show()"
      ],
      "execution_count": 0,
      "outputs": [
        {
          "output_type": "display_data",
          "data": {
            "image/png": "[encoded data removed]",
            "text/plain": [
              "<Figure size 432x288 with 1 Axes>"
            ]
          },
          "metadata": {
            "tags": []
          }
        }
      ]
    },
    {
      "cell_type": "markdown",
      "metadata": {
        "colab_type": "text",
        "id": "GgmjccKcoxWz"
      },
      "source": [
        "## Use Chatbot"
      ]
    },
    {
      "cell_type": "markdown",
      "metadata": {
        "colab_type": "text",
        "id": "l3cakRrOoxWz"
      },
      "source": [
        "### Load Best Model"
      ]
    },
    {
      "cell_type": "code",
      "metadata": {
        "colab_type": "code",
        "id": "f9GUwZyNoxWz",
        "colab": {}
      },
      "source": [
        "# load best saved model\n",
        "best_model = load_model(filepath)"
      ],
      "execution_count": 0,
      "outputs": []
    },
    {
      "cell_type": "markdown",
      "metadata": {
        "colab_type": "text",
        "id": "YgGjzFT4oxW1"
      },
      "source": [
        "### Temperature: 0.1"
      ]
    },
    {
      "cell_type": "code",
      "metadata": {
        "colab_type": "code",
        "outputId": "1929db30-c120-4bf1-a617-87dc8f3424cf",
        "id": "cfQIi6o1oxW1",
        "colab": {
          "base_uri": "https://localhost:8080/",
          "height": 326
        }
      },
      "source": [
        "# Chatbot's new Tweet\n",
        "temp = 0.1\n",
        "print(\"Temperature: \" + str(temp))\n",
        "print()\n",
        "print(user + \" Chatbot Tweet 1:\")\n",
        "print(generate_text(seed_text = \"\", next_words = 500, model = best_model, max_sequence_len= 20, temp = temp))\n",
        "print()\n",
        "print(user + \" Chatbot Tweet 2:\")\n",
        "print(generate_text(seed_text = \"\", next_words = 500, model = best_model, max_sequence_len= 20, temp = temp))\n",
        "print()\n",
        "print(user + \" Chatbot Tweet 3:\")\n",
        "print(generate_text(seed_text = \"\", next_words = 500, model = best_model, max_sequence_len= 20, temp = temp))\n",
        "print()\n",
        "print(user + \" Chatbot Tweet 4:\")\n",
        "print(generate_text(seed_text = \"\", next_words = 500, model = best_model, max_sequence_len= 20, temp = temp))\n",
        "print()\n",
        "print(user + \" Chatbot Tweet 5:\")\n",
        "print(generate_text(seed_text = \"\", next_words = 500, model = best_model, max_sequence_len= 20, temp = temp))\n",
        "print()"
      ],
      "execution_count": 0,
      "outputs": [
        {
          "output_type": "stream",
          "text": [
            "Temperature: 0.1\n",
            "\n",
            "Xpert Chatbot Tweet 1:\n",
            "i think the point is that the yellow line actually is . if you are not talking about it all my time . \n",
            "\n",
            "Xpert Chatbot Tweet 2:\n",
            "i think the point is that the response to the \" secret report \" . . . . g useless and are tossing coins . \n",
            "\n",
            "Xpert Chatbot Tweet 3:\n",
            "but you still haven't shown for the two data i . e . g . 5 0 % for the profits of 6 5 . 5 % from 4 5 % . \n",
            "\n",
            "Xpert Chatbot Tweet 4:\n",
            "i would say shame that you have a dialogue channel . if you were talking about this then you would be happy to respond to a huge intelligent just by a non - comparison of the process with a good go of the house edge . still only in 1 4 days ago the success is being possible to suggest that the market is random . \n",
            "\n",
            "Xpert Chatbot Tweet 5:\n",
            "i think the point is that the yellow line actually is . if you are not talking about it then it's not a question of how long does it is . \n",
            "\n"
          ],
          "name": "stdout"
        }
      ]
    },
    {
      "cell_type": "markdown",
      "metadata": {
        "colab_type": "text",
        "id": "sk8k2paqoxW2"
      },
      "source": [
        "### Temperature: 0.2"
      ]
    },
    {
      "cell_type": "code",
      "metadata": {
        "colab_type": "code",
        "outputId": "80a84dd9-a8fa-4df0-bb19-1c171dc530ac",
        "id": "-BYLt0uXoxW3",
        "colab": {
          "base_uri": "https://localhost:8080/",
          "height": 326
        }
      },
      "source": [
        "# Chatbot's new Tweet\n",
        "temp = 0.2\n",
        "print(\"Temperature: \" + str(temp))\n",
        "print()\n",
        "print(user + \" Chatbot Tweet 1:\")\n",
        "print(generate_text(seed_text = \"\", next_words = 500, model = best_model, max_sequence_len= 20, temp = temp))\n",
        "print()\n",
        "print(user + \" Chatbot Tweet 2:\")\n",
        "print(generate_text(seed_text = \"\", next_words = 500, model = best_model, max_sequence_len= 20, temp = temp))\n",
        "print()\n",
        "print(user + \" Chatbot Tweet 3:\")\n",
        "print(generate_text(seed_text = \"\", next_words = 500, model = best_model, max_sequence_len= 20, temp = temp))\n",
        "print()\n",
        "print(user + \" Chatbot Tweet 4:\")\n",
        "print(generate_text(seed_text = \"\", next_words = 500, model = best_model, max_sequence_len= 20, temp = temp))\n",
        "print()\n",
        "print(user + \" Chatbot Tweet 5:\")\n",
        "print(generate_text(seed_text = \"\", next_words = 500, model = best_model, max_sequence_len= 20, temp = temp))\n",
        "print()"
      ],
      "execution_count": 0,
      "outputs": [
        {
          "output_type": "stream",
          "text": [
            "Temperature: 0.2\n",
            "\n",
            "Xpert Chatbot Tweet 1:\n",
            "if you mean they wouldn't be fully efficient but they can be errors in the end why would anyone pay me to embark on your own bookmaker . we think this is the case that man city thought have been used in the original time . \n",
            "\n",
            "Xpert Chatbot Tweet 2:\n",
            "but the point is that the biggest stakers are the sharp bookmaker they want to be in the time . \n",
            "\n",
            "Xpert Chatbot Tweet 3:\n",
            "i think the point is that the yellow line actually is . if you are not talking about it all time and then really not going to test it . \n",
            "\n",
            "Xpert Chatbot Tweet 4:\n",
            "the latest 2 0 1 9 - 2 0 title race timeline based on my predictions ( method at ) . data by \n",
            "\n",
            "Xpert Chatbot Tweet 5:\n",
            "but it's the unintended consequences that are not the slightest idea . if it is a very nuanced concept . \n",
            "\n"
          ],
          "name": "stdout"
        }
      ]
    },
    {
      "cell_type": "markdown",
      "metadata": {
        "colab_type": "text",
        "id": "nYmF1z1ZoxW5"
      },
      "source": [
        "### Temperature: 0.3"
      ]
    },
    {
      "cell_type": "code",
      "metadata": {
        "colab_type": "code",
        "id": "fPeeUYRyoxW5",
        "outputId": "261c6a13-a6d9-4076-b2ce-a231527dfb03",
        "colab": {
          "base_uri": "https://localhost:8080/",
          "height": 326
        }
      },
      "source": [
        "# Chatbot's new Tweet\n",
        "temp = 0.3\n",
        "print(\"Temperature: \" + str(temp))\n",
        "print()\n",
        "print(user + \" Chatbot Tweet 1:\")\n",
        "print(generate_text(seed_text = \"\", next_words = 500, model = best_model, max_sequence_len= 20, temp = temp))\n",
        "print()\n",
        "print(user + \" Chatbot Tweet 2:\")\n",
        "print(generate_text(seed_text = \"\", next_words = 500, model = best_model, max_sequence_len= 20, temp = temp))\n",
        "print()\n",
        "print(user + \" Chatbot Tweet 3:\")\n",
        "print(generate_text(seed_text = \"\", next_words = 500, model = best_model, max_sequence_len= 20, temp = temp))\n",
        "print()\n",
        "print(user + \" Chatbot Tweet 4:\")\n",
        "print(generate_text(seed_text = \"\", next_words = 500, model = best_model, max_sequence_len= 20, temp = temp))\n",
        "print()\n",
        "print(user + \" Chatbot Tweet 5:\")\n",
        "print(generate_text(seed_text = \"\", next_words = 500, model = best_model, max_sequence_len= 20, temp = temp))\n",
        "print()"
      ],
      "execution_count": 0,
      "outputs": [
        {
          "output_type": "stream",
          "text": [
            "Temperature: 0.3\n",
            "\n",
            "Xpert Chatbot Tweet 1:\n",
            "but you still haven't shown for the two data i . e . comparing into your turnover and see average . \n",
            "\n",
            "Xpert Chatbot Tweet 2:\n",
            "i know i know . the point is that if it was the way to make a living from betting companies . \n",
            "\n",
            "Xpert Chatbot Tweet 3:\n",
            "the latest 2 0 1 9 - 2 0 title race timeline based on my predictions ( method at ) . data by \n",
            "\n",
            "Xpert Chatbot Tweet 4:\n",
            "if you mean a few / price / price odds / roi from 1 . 9 5 / 1 . 9 5 and 3 8 p - value = 0 . 0 5 e . method = 4 . 4 9 % avg odds = 4 . 2 8 t = 0 . 9 8 4 9 t = 0 . 9 5 % 5 1 / 1 0 4 for me that will be enough as much changes . expected roi = 0 . 1 9 / 1 9 9 9 9 9 7 9 9 9 7 9 . 9 9 % roi of 1 . 0 0 0 0 0 0 0 0 0 0 0 . given the 2 . 9 % roi from 2 2 1 0 0 1 0 . so suppose 4 . 9 % from 2 5 % of 9 9 % if 5 3 8 picks . if 9 5 % of the total come from the total area about 1 1 in 5 3 8 's 1 . 9 5 and the value was 5 0 % of the time . \n",
            "\n",
            "Xpert Chatbot Tweet 5:\n",
            "i think the argument that doesn't have to be useful to this . the problem is that the other country who are evil and looking at all . . oh yeah when that's going to be for the same thing as they are . \n",
            "\n"
          ],
          "name": "stdout"
        }
      ]
    },
    {
      "cell_type": "markdown",
      "metadata": {
        "colab_type": "text",
        "id": "Puz62_64oxW6"
      },
      "source": [
        "### Temperature: 0.4"
      ]
    },
    {
      "cell_type": "code",
      "metadata": {
        "colab_type": "code",
        "id": "jriDS6EHoxW7",
        "outputId": "ccae1ed4-f1ce-438b-eac3-02ca80d4bdb6",
        "colab": {
          "base_uri": "https://localhost:8080/",
          "height": 326
        }
      },
      "source": [
        "# Chatbot's new Tweet\n",
        "temp = 0.4\n",
        "print(\"Temperature: \" + str(temp))\n",
        "print()\n",
        "print(user + \" Chatbot Tweet 1:\")\n",
        "print(generate_text(seed_text = \"\", next_words = 500, model = best_model, max_sequence_len= 20, temp = temp))\n",
        "print()\n",
        "print(user + \" Chatbot Tweet 2:\")\n",
        "print(generate_text(seed_text = \"\", next_words = 500, model = best_model, max_sequence_len= 20, temp = temp))\n",
        "print()\n",
        "print(user + \" Chatbot Tweet 3:\")\n",
        "print(generate_text(seed_text = \"\", next_words = 500, model = best_model, max_sequence_len= 20, temp = temp))\n",
        "print()\n",
        "print(user + \" Chatbot Tweet 4:\")\n",
        "print(generate_text(seed_text = \"\", next_words = 500, model = best_model, max_sequence_len= 20, temp = temp))\n",
        "print()\n",
        "print(user + \" Chatbot Tweet 5:\")\n",
        "print(generate_text(seed_text = \"\", next_words = 500, model = best_model, max_sequence_len= 20, temp = temp))\n",
        "print()"
      ],
      "execution_count": 0,
      "outputs": [
        {
          "output_type": "stream",
          "text": [
            "Temperature: 0.4\n",
            "\n",
            "Xpert Chatbot Tweet 1:\n",
            "you don't know . i don't know how much i would have to do to be betting or more than they do so . \n",
            "\n",
            "Xpert Chatbot Tweet 2:\n",
            "so . but when you want to talk about pyckio here's the eu to avoid the confusion but i don't have to try to educate people to make it work . \n",
            "\n",
            "Xpert Chatbot Tweet 3:\n",
            "yes i agree that is the point . paradox of skill starts a betting market ( expected roi ) for my view ) . i suspect that log method will for be linearly proportional to betshare % . \n",
            "\n",
            "Xpert Chatbot Tweet 4:\n",
            "i would say shame that if you know what the amount you know . 'true' line is meaningless because its not almost random . \n",
            "\n",
            "Xpert Chatbot Tweet 5:\n",
            "the latest 2 0 1 9 - 2 0 title race timeline based on my predictions ( method at ) . data by \n",
            "\n"
          ],
          "name": "stdout"
        }
      ]
    },
    {
      "cell_type": "markdown",
      "metadata": {
        "colab_type": "text",
        "id": "wzc4xRYioxW8"
      },
      "source": [
        "### Temperature: 0.5"
      ]
    },
    {
      "cell_type": "code",
      "metadata": {
        "colab_type": "code",
        "id": "EpcaPV71oxW8",
        "outputId": "3ff85e94-b346-42f4-ba96-fc4d50b81352",
        "colab": {
          "base_uri": "https://localhost:8080/",
          "height": 326
        }
      },
      "source": [
        "# Chatbot's new Tweet\n",
        "temp = 0.5\n",
        "print(\"Temperature: \" + str(temp))\n",
        "print()\n",
        "print(user + \" Chatbot Tweet 1:\")\n",
        "print(generate_text(seed_text = \"\", next_words = 500, model = best_model, max_sequence_len= 20, temp = temp))\n",
        "print()\n",
        "print(user + \" Chatbot Tweet 2:\")\n",
        "print(generate_text(seed_text = \"\", next_words = 500, model = best_model, max_sequence_len= 20, temp = temp))\n",
        "print()\n",
        "print(user + \" Chatbot Tweet 3:\")\n",
        "print(generate_text(seed_text = \"\", next_words = 500, model = best_model, max_sequence_len= 20, temp = temp))\n",
        "print()\n",
        "print(user + \" Chatbot Tweet 4:\")\n",
        "print(generate_text(seed_text = \"\", next_words = 500, model = best_model, max_sequence_len= 20, temp = temp))\n",
        "print()\n",
        "print(user + \" Chatbot Tweet 5:\")\n",
        "print(generate_text(seed_text = \"\", next_words = 500, model = best_model, max_sequence_len= 20, temp = temp))\n",
        "print()"
      ],
      "execution_count": 0,
      "outputs": [
        {
          "output_type": "stream",
          "text": [
            "Temperature: 0.5\n",
            "\n",
            "Xpert Chatbot Tweet 1:\n",
            "this is exactly what happens in the context of betting overs to pinnacle / or surely you would have on positive than . \n",
            "\n",
            "Xpert Chatbot Tweet 2:\n",
            "but when i think it's a scam it's chapter 1 0 years . but she will be a negative yield and difference . we have to talk about this . \n",
            "\n",
            "Xpert Chatbot Tweet 3:\n",
            "but it's the unintended consequences that are not the point . best if indeed it offers you are useful anyway . \n",
            "\n",
            "Xpert Chatbot Tweet 4:\n",
            "but you still haven't answer my original question in my mind . and the long term it would be more efficient than other other than the vig and how many are close . \n",
            "\n",
            "Xpert Chatbot Tweet 5:\n",
            "no i would say it again . i still don't know how to set from your customer name . ill also be banned for my troubles . maxi's . \n",
            "\n"
          ],
          "name": "stdout"
        }
      ]
    },
    {
      "cell_type": "markdown",
      "metadata": {
        "colab_type": "text",
        "id": "VfMKsfxmoxW9"
      },
      "source": [
        "### Temperature: 0.6"
      ]
    },
    {
      "cell_type": "code",
      "metadata": {
        "colab_type": "code",
        "id": "AaCqk-TWoxW-",
        "outputId": "4260a48c-d60c-4937-a9c7-dc846261baa2",
        "colab": {
          "base_uri": "https://localhost:8080/",
          "height": 326
        }
      },
      "source": [
        "# Chatbot's new Tweet\n",
        "temp = 0.6\n",
        "print(\"Temperature: \" + str(temp))\n",
        "print()\n",
        "print(user + \" Chatbot Tweet 1:\")\n",
        "print(generate_text(seed_text = \"\", next_words = 500, model = best_model, max_sequence_len= 20, temp = temp))\n",
        "print()\n",
        "print(user + \" Chatbot Tweet 2:\")\n",
        "print(generate_text(seed_text = \"\", next_words = 500, model = best_model, max_sequence_len= 20, temp = temp))\n",
        "print()\n",
        "print(user + \" Chatbot Tweet 3:\")\n",
        "print(generate_text(seed_text = \"\", next_words = 500, model = best_model, max_sequence_len= 20, temp = temp))\n",
        "print()\n",
        "print(user + \" Chatbot Tweet 4:\")\n",
        "print(generate_text(seed_text = \"\", next_words = 500, model = best_model, max_sequence_len= 20, temp = temp))\n",
        "print()\n",
        "print(user + \" Chatbot Tweet 5:\")\n",
        "print(generate_text(seed_text = \"\", next_words = 500, model = best_model, max_sequence_len= 20, temp = temp))\n",
        "print()"
      ],
      "execution_count": 0,
      "outputs": [
        {
          "output_type": "stream",
          "text": [
            "Temperature: 0.6\n",
            "\n",
            "Xpert Chatbot Tweet 1:\n",
            "but this is this matter what the press talking about \" winners \" and as \" \" so be \" . \" . \" expected = % from 5 % chance is almost no good . \" \n",
            "\n",
            "Xpert Chatbot Tweet 2:\n",
            "i know the point . and if neverleavers exploit them \" easy \" do \" bias \" instead of counting and skill ( and natural expectation ) ? source for example 8 thousand on this linear for curve still \n",
            "\n",
            "Xpert Chatbot Tweet 3:\n",
            "this is just an obvious reality . i haven't noticed . i have to read the piece if we consider doing this truth . if you read the view that this is the same thing and the only thing for that they are and managing risks . that is why you might not be talking to the true probability that it might explain why . \n",
            "\n",
            "Xpert Chatbot Tweet 4:\n",
            "i would say shame we are . if we mean it's a few who would or go down . their fans way gambling is a little bit of those who think they are not . \n",
            "\n",
            "Xpert Chatbot Tweet 5:\n",
            "give me a lot of modelling than the affiliate industry today . i agree with any other in tv having an economic judgement of success and anything that he should lead to his management strategy . \n",
            "\n"
          ],
          "name": "stdout"
        }
      ]
    },
    {
      "cell_type": "markdown",
      "metadata": {
        "colab_type": "text",
        "id": "nUyE7hJPoxXA"
      },
      "source": [
        "### Temperature: 0.7"
      ]
    },
    {
      "cell_type": "code",
      "metadata": {
        "colab_type": "code",
        "id": "W60JiF_5oxXB",
        "outputId": "d13f3b47-0b39-4501-dfbb-ca87792f5898",
        "colab": {
          "base_uri": "https://localhost:8080/",
          "height": 326
        }
      },
      "source": [
        "# Chatbot's new Tweet\n",
        "temp = 0.7\n",
        "print(\"Temperature: \" + str(temp))\n",
        "print()\n",
        "print(user + \" Chatbot Tweet 1:\")\n",
        "print(generate_text(seed_text = \"\", next_words = 500, model = best_model, max_sequence_len= 20, temp = temp))\n",
        "print()\n",
        "print(user + \" Chatbot Tweet 2:\")\n",
        "print(generate_text(seed_text = \"\", next_words = 500, model = best_model, max_sequence_len= 20, temp = temp))\n",
        "print()\n",
        "print(user + \" Chatbot Tweet 3:\")\n",
        "print(generate_text(seed_text = \"\", next_words = 500, model = best_model, max_sequence_len= 20, temp = temp))\n",
        "print()\n",
        "print(user + \" Chatbot Tweet 4:\")\n",
        "print(generate_text(seed_text = \"\", next_words = 500, model = best_model, max_sequence_len= 20, temp = temp))\n",
        "print()\n",
        "print(user + \" Chatbot Tweet 5:\")\n",
        "print(generate_text(seed_text = \"\", next_words = 500, model = best_model, max_sequence_len= 20, temp = temp))\n",
        "print()"
      ],
      "execution_count": 0,
      "outputs": [
        {
          "output_type": "stream",
          "text": [
            "Temperature: 0.7\n",
            "\n",
            "Xpert Chatbot Tweet 1:\n",
            "i think you can certainly be left from the pre - the odds from 1 5 . the do that is that it's possible to imply greater fair price . so it's still paying for a wider variance in parliament . \n",
            "\n",
            "Xpert Chatbot Tweet 2:\n",
            "you will but you have to be suggesting we wouldnt see the problem of \" winners \" to make it better because of this privately and my majority are socioeconomically able to pass in . \n",
            "\n",
            "Xpert Chatbot Tweet 3:\n",
            "i would say shame that the reason all for skilled records is about 9 9 % who are in - year . it's not enough to overcome the margin . \n",
            "\n",
            "Xpert Chatbot Tweet 4:\n",
            "i didn't say i would say that is a decent point and go nuts . but has yet been banned by the paradox of sharp bettors . \n",
            "\n",
            "Xpert Chatbot Tweet 5:\n",
            "if you mean market efficiency or you are more than 1 % . you would need to lose a bonferroni correction . here's a p - value where - 4 knowing how you don't have the data shut to change your expected . \n",
            "\n"
          ],
          "name": "stdout"
        }
      ]
    },
    {
      "cell_type": "markdown",
      "metadata": {
        "colab_type": "text",
        "id": "-kvQH6fFoxXC"
      },
      "source": [
        "### Temperature: 0.8"
      ]
    },
    {
      "cell_type": "code",
      "metadata": {
        "colab_type": "code",
        "id": "YC9WRZwloxXC",
        "outputId": "56a63900-2375-4ff9-a36a-a0f573692f4b",
        "colab": {
          "base_uri": "https://localhost:8080/",
          "height": 326
        }
      },
      "source": [
        "# Chatbot's new Tweet\n",
        "temp = 0.8\n",
        "print(\"Temperature: \" + str(temp))\n",
        "print()\n",
        "print(user + \" Chatbot Tweet 1:\")\n",
        "print(generate_text(seed_text = \"\", next_words = 500, model = best_model, max_sequence_len= 20, temp = temp))\n",
        "print()\n",
        "print(user + \" Chatbot Tweet 2:\")\n",
        "print(generate_text(seed_text = \"\", next_words = 500, model = best_model, max_sequence_len= 20, temp = temp))\n",
        "print()\n",
        "print(user + \" Chatbot Tweet 3:\")\n",
        "print(generate_text(seed_text = \"\", next_words = 500, model = best_model, max_sequence_len= 20, temp = temp))\n",
        "print()\n",
        "print(user + \" Chatbot Tweet 4:\")\n",
        "print(generate_text(seed_text = \"\", next_words = 500, model = best_model, max_sequence_len= 20, temp = temp))\n",
        "print()\n",
        "print(user + \" Chatbot Tweet 5:\")\n",
        "print(generate_text(seed_text = \"\", next_words = 500, model = best_model, max_sequence_len= 20, temp = temp))\n",
        "print()"
      ],
      "execution_count": 0,
      "outputs": [
        {
          "output_type": "stream",
          "text": [
            "Temperature: 0.8\n",
            "\n",
            "Xpert Chatbot Tweet 1:\n",
            "i'm not asking out i simply have to in the book that at is a serious market . which might look down like it's harder to handle law . \n",
            "\n",
            "Xpert Chatbot Tweet 2:\n",
            "are just a little left for me . i've been about one of and / economy which is there are other quicker . \n",
            "\n",
            "Xpert Chatbot Tweet 3:\n",
            "a blog agree to know how a reason to say \" model \" to retag and knowledge particularly about allowing who that is bringing to the market you exploit it . \n",
            "\n",
            "Xpert Chatbot Tweet 4:\n",
            "i would paradox of the sample of 1 1 . 5 but at least the problem it would be able to account for bookmakers . \n",
            "\n",
            "Xpert Chatbot Tweet 5:\n",
            "it is similar for main league . i imagine it's not a bit by that i will never claim to win so much . \n",
            "\n"
          ],
          "name": "stdout"
        }
      ]
    },
    {
      "cell_type": "markdown",
      "metadata": {
        "colab_type": "text",
        "id": "ZIZnGg5PoxXD"
      },
      "source": [
        "### Temperature: 0.9"
      ]
    },
    {
      "cell_type": "code",
      "metadata": {
        "colab_type": "code",
        "outputId": "4a9c6c14-60c3-49cb-aa8c-065c02b4233f",
        "id": "T245iLGnoxXE",
        "colab": {
          "base_uri": "https://localhost:8080/",
          "height": 326
        }
      },
      "source": [
        "# Chatbot's new Tweet\n",
        "temp = 0.9\n",
        "print(\"Temperature: \" + str(temp))\n",
        "print()\n",
        "print(user + \" Chatbot Tweet 1:\")\n",
        "print(generate_text(seed_text = \"\", next_words = 500, model = best_model, max_sequence_len= 20, temp = temp))\n",
        "print()\n",
        "print(user + \" Chatbot Tweet 2:\")\n",
        "print(generate_text(seed_text = \"\", next_words = 500, model = best_model, max_sequence_len= 20, temp = temp))\n",
        "print()\n",
        "print(user + \" Chatbot Tweet 3:\")\n",
        "print(generate_text(seed_text = \"\", next_words = 500, model = best_model, max_sequence_len= 20, temp = temp))\n",
        "print()\n",
        "print(user + \" Chatbot Tweet 4:\")\n",
        "print(generate_text(seed_text = \"\", next_words = 500, model = best_model, max_sequence_len= 20, temp = temp))\n",
        "print()\n",
        "print(user + \" Chatbot Tweet 5:\")\n",
        "print(generate_text(seed_text = \"\", next_words = 500, model = best_model, max_sequence_len= 20, temp = temp))\n",
        "print()"
      ],
      "execution_count": 0,
      "outputs": [
        {
          "output_type": "stream",
          "text": [
            "Temperature: 0.9\n",
            "\n",
            "Xpert Chatbot Tweet 1:\n",
            "i think this is the common different moral of the cycle that sees moral attitudes to gambling flip . there will be anything else to achieve that there are other reasons ? \n",
            "\n",
            "Xpert Chatbot Tweet 2:\n",
            "the fact that recreationals artificially shift markets ? if they beat the closing price ( and most industry then compare for the more there is the bad very dealing in the size of the correct . but with the other hand it all the p - value will be left winner to see and feel better and it had to a closing price . that's the true but it would seem to have a few of the market . 2 % balancing action would be expected to be born \n",
            "\n",
            "Xpert Chatbot Tweet 3:\n",
            "week your bayes factor punters for fivethirtyeight there are not perfectly efficient at least that is what you are . \n",
            "\n",
            "Xpert Chatbot Tweet 4:\n",
            "you just gotta love you simply and see your trading gets words to describe what he bets has might be left has been pointed out . perhaps might there . \n",
            "\n",
            "Xpert Chatbot Tweet 5:\n",
            "that's how they have been implemented in the day . would this be insults by chance real tipsters who haven't done some of shit and only in pockets is best . \n",
            "\n"
          ],
          "name": "stdout"
        }
      ]
    },
    {
      "cell_type": "markdown",
      "metadata": {
        "colab_type": "text",
        "id": "ZaURg2ZpoxXF"
      },
      "source": [
        "### Temperature: 1.0"
      ]
    },
    {
      "cell_type": "code",
      "metadata": {
        "colab_type": "code",
        "outputId": "dd4f87a1-cbf7-4d8f-e38c-9f109916ec56",
        "id": "IG5Ed6TxoxXF",
        "colab": {
          "base_uri": "https://localhost:8080/",
          "height": 326
        }
      },
      "source": [
        "# Chatbot's new Tweet\n",
        "temp = 1.0\n",
        "print(\"Temperature: \" + str(temp))\n",
        "print()\n",
        "print(user + \" Chatbot Tweet 1:\")\n",
        "print(generate_text(seed_text = \"\", next_words = 500, model = best_model, max_sequence_len= 20, temp = temp))\n",
        "print()\n",
        "print(user + \" Chatbot Tweet 2:\")\n",
        "print(generate_text(seed_text = \"\", next_words = 500, model = best_model, max_sequence_len= 20, temp = temp))\n",
        "print()\n",
        "print(user + \" Chatbot Tweet 3:\")\n",
        "print(generate_text(seed_text = \"\", next_words = 500, model = best_model, max_sequence_len= 20, temp = temp))\n",
        "print()\n",
        "print(user + \" Chatbot Tweet 4:\")\n",
        "print(generate_text(seed_text = \"\", next_words = 500, model = best_model, max_sequence_len= 20, temp = temp))\n",
        "print()\n",
        "print(user + \" Chatbot Tweet 5:\")\n",
        "print(generate_text(seed_text = \"\", next_words = 500, model = best_model, max_sequence_len= 20, temp = temp))\n",
        "print()"
      ],
      "execution_count": 0,
      "outputs": [
        {
          "output_type": "stream",
          "text": [
            "Temperature: 1.0\n",
            "\n",
            "Xpert Chatbot Tweet 1:\n",
            "was for the principle of labour follow increase these large numbers . that is good correlation . you would also be told that goal can get in a betting markets to make us get close to why when they were going forward to attract bookmakers rather than them are anyway . that's not it to see for anything . \n",
            "\n",
            "Xpert Chatbot Tweet 2:\n",
            "if they were 1 % who it's willing for place to exist . that's impossible to ban winners at a pinnacle like having respect to his position in the place . given it's already who can seem a person out to his paper worth it . rather going on a decent ! ! ! \n",
            "\n",
            "Xpert Chatbot Tweet 3:\n",
            "if you're keen on markets think you've got it not well it almost everyone \" you are very good at sharing it than . \n",
            "\n",
            "Xpert Chatbot Tweet 4:\n",
            "the only place is whether were a coin flipper with a big records which can't happen to be verified with that you will get access to luck goal . \n",
            "\n",
            "Xpert Chatbot Tweet 5:\n",
            "it's almost always true . for histories but the market where it is more to the bettor because a hypothesis could be a be . \n",
            "\n"
          ],
          "name": "stdout"
        }
      ]
    },
    {
      "cell_type": "markdown",
      "metadata": {
        "colab_type": "text",
        "id": "z4iDP9IOoc88"
      },
      "source": [
        "# Joey Knish (@JoeyKnish22)"
      ]
    },
    {
      "cell_type": "code",
      "metadata": {
        "colab_type": "code",
        "id": "fv57hcYdoc8_",
        "colab": {}
      },
      "source": [
        "# define twitter user\n",
        "user = \"Knish\""
      ],
      "execution_count": 0,
      "outputs": []
    },
    {
      "cell_type": "markdown",
      "metadata": {
        "colab_type": "text",
        "id": "f94ZCo03oc9D"
      },
      "source": [
        "## Create Vocabulary"
      ]
    },
    {
      "cell_type": "code",
      "metadata": {
        "colab_type": "code",
        "id": "MfsU3iuOoc9D",
        "colab": {}
      },
      "source": [
        "# initialize tokenizer\n",
        "tokenizer = Tokenizer(char_level = False, filters = '', num_words=5500)\n",
        "\n",
        "# fit tokenizer on tweets\n",
        "tokenizer.fit_on_texts([joey])\n",
        "\n",
        "# tokenize tweets\n",
        "token_list = tokenizer.texts_to_sequences([joey])[0]\n",
        "\n",
        "# get vocabulary in tweets\n",
        "all_words = len(tokenizer.word_counts) + 1\n",
        "total_words = len(set(token_list)) + 1"
      ],
      "execution_count": 0,
      "outputs": []
    },
    {
      "cell_type": "code",
      "metadata": {
        "colab_type": "code",
        "outputId": "c0eb0132-2f89-46d5-a6dd-b1d445b0f19d",
        "id": "SItPexbZoc9G",
        "colab": {
          "base_uri": "https://localhost:8080/",
          "height": 68
        }
      },
      "source": [
        "print(user, \"has a vocabulary of\", all_words, \"total words!\")\n",
        "if all_words > 5500:\n",
        "    print(\"\\n\", user, \"uses so many words that we need to limit his vocabulary for modeling to only\", total_words, \"total words!\")"
      ],
      "execution_count": 0,
      "outputs": [
        {
          "output_type": "stream",
          "text": [
            "Knish has a vocabulary of 8413 total words!\n",
            "\n",
            " Knish uses so many words that we need to limit his vocabulary for modeling to only 5500 total words!\n"
          ],
          "name": "stdout"
        }
      ]
    },
    {
      "cell_type": "markdown",
      "metadata": {
        "colab_type": "text",
        "id": "xQSggw3Joc9J"
      },
      "source": [
        "## Create Training Data\n",
        "\n",
        "Convert tweets into sequences to input into the RNN model"
      ]
    },
    {
      "cell_type": "code",
      "metadata": {
        "colab_type": "code",
        "outputId": "b7966b41-a4a9-436a-c4ca-1701e59b7aaf",
        "id": "NCyJv46Uoc9J",
        "colab": {
          "base_uri": "https://localhost:8080/",
          "height": 68
        }
      },
      "source": [
        "# step = the number of words the sequence moves before creating a new sequence\n",
        "step = 1\n",
        "# total words in each sequence\n",
        "seq_length = 20\n",
        "\n",
        "## create training data\n",
        "X, y, num_seq = generate_sequences(token_list, step = 1)"
      ],
      "execution_count": 0,
      "outputs": [
        {
          "output_type": "stream",
          "text": [
            "Number of prediction classes (Total Vocabulary): 5500\n",
            "Number of sequences: 186110 \n",
            "\n"
          ],
          "name": "stdout"
        }
      ]
    },
    {
      "cell_type": "code",
      "metadata": {
        "colab_type": "code",
        "outputId": "36d8c2bc-8f13-40e0-f86b-acff35961d6d",
        "id": "wOU7U815oc9M",
        "colab": {
          "base_uri": "https://localhost:8080/",
          "height": 34
        }
      },
      "source": [
        "# make sure Y data lines up with the function output above\n",
        "y.shape"
      ],
      "execution_count": 0,
      "outputs": [
        {
          "output_type": "execute_result",
          "data": {
            "text/plain": [
              "(186110, 5500)"
            ]
          },
          "metadata": {
            "tags": []
          },
          "execution_count": 51
        }
      ]
    },
    {
      "cell_type": "markdown",
      "metadata": {
        "colab_type": "text",
        "id": "xe2dFL3Doc9P"
      },
      "source": [
        "## Build Model"
      ]
    },
    {
      "cell_type": "markdown",
      "metadata": {
        "colab_type": "text",
        "id": "DWVNTQhfoc9P"
      },
      "source": [
        "### Early Stopping Settings"
      ]
    },
    {
      "cell_type": "code",
      "metadata": {
        "colab_type": "code",
        "id": "kQMyE0dXoc9Q",
        "colab": {}
      },
      "source": [
        "earlystop = EarlyStopping(monitor = 'loss',\n",
        "                          min_delta = 0,\n",
        "                          patience = 3,\n",
        "                          verbose = 1,\n",
        "                          restore_best_weights = True)"
      ],
      "execution_count": 0,
      "outputs": []
    },
    {
      "cell_type": "markdown",
      "metadata": {
        "colab_type": "text",
        "id": "KwwrdPGZoc9S"
      },
      "source": [
        "### Model Checkpoint Settings"
      ]
    },
    {
      "cell_type": "code",
      "metadata": {
        "colab_type": "code",
        "id": "VfvMZOBnoc9T",
        "colab": {}
      },
      "source": [
        "# output file to save the best model\n",
        "filepath =  user + '_best_model.h5'\n",
        "checkpoint = ModelCheckpoint(filepath,\n",
        "                             monitor='loss',\n",
        "                             mode='min',\n",
        "                             save_best_only=True,\n",
        "                             verbose=1)"
      ],
      "execution_count": 0,
      "outputs": []
    },
    {
      "cell_type": "markdown",
      "metadata": {
        "colab_type": "text",
        "id": "qpuycWytoc9V"
      },
      "source": [
        "### Callback Function"
      ]
    },
    {
      "cell_type": "code",
      "metadata": {
        "colab_type": "code",
        "id": "BGLh-XpHoc9V",
        "colab": {}
      },
      "source": [
        "# create callback function to generate tweets at different temperatures for the chatbot after each epoch\n",
        "callback = LambdaCallback(on_epoch_end = on_epoch_end)"
      ],
      "execution_count": 0,
      "outputs": []
    },
    {
      "cell_type": "markdown",
      "metadata": {
        "colab_type": "text",
        "id": "hFHM1QDtoc9X"
      },
      "source": [
        "### Neural Network Architecture"
      ]
    },
    {
      "cell_type": "code",
      "metadata": {
        "colab_type": "code",
        "id": "4C9WH5wOoc9Y",
        "colab": {}
      },
      "source": [
        "# name model\n",
        "model_name = user + \"_Chatbot\"\n",
        "\n",
        "# number of neurons in LSTM layer\n",
        "n_units = 256\n",
        "\n",
        "# Embedding Dimensions\n",
        "embedding_size = 100\n",
        "\n",
        "# Input of model\n",
        "text_in = Input(shape = (None,), name = \"Tweets\")\n",
        "\n",
        "# Embedding layer\n",
        "embedding = Embedding(total_words, embedding_size, name = \"Embedding_Layer\")\n",
        "\n",
        "# Start of Model\n",
        "x = embedding(text_in)\n",
        "\n",
        "# LSTM RNN layer\n",
        "x = LSTM(n_units, name = \"RNN_Layer\")(x)\n",
        "\n",
        "# Output layer\n",
        "text_out = Dense(total_words, activation = 'softmax', name = \"Predict_Next_Word\")(x)\n",
        "\n",
        "# Complete model\n",
        "model = Model(text_in, text_out, name = model_name)\n",
        "\n",
        "# Optimizer function\n",
        "opti = Adam(learning_rate = 0.001)\n",
        "\n",
        "# Compile model\n",
        "model.compile(loss = 'categorical_crossentropy', \n",
        "              optimizer = opti, \n",
        "              metrics = ['accuracy'])"
      ],
      "execution_count": 0,
      "outputs": []
    },
    {
      "cell_type": "markdown",
      "metadata": {
        "colab_type": "text",
        "id": "1XYOEAr5oc9Z"
      },
      "source": [
        "### View Model"
      ]
    },
    {
      "cell_type": "code",
      "metadata": {
        "colab_type": "code",
        "outputId": "a65d2645-d184-47a5-98ef-90f84add2815",
        "id": "D_aF26d0oc9a",
        "colab": {
          "base_uri": "https://localhost:8080/",
          "height": 289
        }
      },
      "source": [
        "model.summary()"
      ],
      "execution_count": 0,
      "outputs": [
        {
          "output_type": "stream",
          "text": [
            "Model: \"Knish_Chatbot\"\n",
            "_________________________________________________________________\n",
            "Layer (type)                 Output Shape              Param #   \n",
            "=================================================================\n",
            "Tweets (InputLayer)          [(None, None)]            0         \n",
            "_________________________________________________________________\n",
            "Embedding_Layer (Embedding)  (None, None, 100)         550000    \n",
            "_________________________________________________________________\n",
            "RNN_Layer (LSTM)             (None, 256)               365568    \n",
            "_________________________________________________________________\n",
            "Predict_Next_Word (Dense)    (None, 5500)              1413500   \n",
            "=================================================================\n",
            "Total params: 2,329,068\n",
            "Trainable params: 2,329,068\n",
            "Non-trainable params: 0\n",
            "_________________________________________________________________\n"
          ],
          "name": "stdout"
        }
      ]
    },
    {
      "cell_type": "code",
      "metadata": {
        "colab_type": "code",
        "outputId": "b4af8d47-0354-4b4b-9d85-7464e15d70c6",
        "id": "j9dalEDboc9d",
        "colab": {
          "base_uri": "https://localhost:8080/",
          "height": 422
        }
      },
      "source": [
        "# plot model structure\n",
        "plot_model(model, show_layer_names=True, show_shapes=True, expand_nested=True)"
      ],
      "execution_count": 0,
      "outputs": [
        {
          "output_type": "execute_result",
          "data": {
            "image/png": "[encoded data removed]",
            "text/plain": [
              "<IPython.core.display.Image object>"
            ]
          },
          "metadata": {
            "tags": []
          },
          "execution_count": 57
        }
      ]
    },
    {
      "cell_type": "markdown",
      "metadata": {
        "colab_type": "text",
        "id": "eftPYUBmoc9e"
      },
      "source": [
        "## Train Model"
      ]
    },
    {
      "cell_type": "code",
      "metadata": {
        "colab_type": "code",
        "outputId": "c81e8578-ab11-4e4e-f786-06127faeeb03",
        "id": "4bhJbsttoc9h",
        "colab": {
          "base_uri": "https://localhost:8080/",
          "height": 1000
        }
      },
      "source": [
        "# initialize variables for the callback functions in the model\n",
        "seq_length = 20\n",
        "start_tweet = '| ' * seq_length\n",
        "token_type = 'word'\n",
        "\n",
        "# length of training\n",
        "epochs = 20\n",
        "batch_size = 64\n",
        "num_batches = int(len(X) / batch_size)\n",
        "\n",
        "print(\"Total Batches:\", str(num_batches), \"\\n\")\n",
        "\n",
        "\n",
        "# Record the time\n",
        "warnings.filterwarnings('ignore')\n",
        "start = datetime.datetime.now()\n",
        "\n",
        "\n",
        "model.fit(X, y, \n",
        "          validation_split=0.15,\n",
        "          epochs=epochs, \n",
        "          batch_size=batch_size, \n",
        "          callbacks = [callback, checkpoint, earlystop], \n",
        "          shuffle = True)\n",
        "\n",
        "## Save Model\n",
        "model_saved_name = user + '_chatbot_model.h5'\n",
        "model.save_weights(model_saved_name)\n",
        "\n",
        "end = datetime.datetime.now()\n",
        "time_diff = end-start\n",
        "print()\n",
        "print()\n",
        "print('Time to train = {}'.format(time_diff))"
      ],
      "execution_count": 0,
      "outputs": [
        {
          "output_type": "stream",
          "text": [
            "Total Batches: 2907 \n",
            "\n",
            "Train on 158193 samples, validate on 27917 samples\n",
            "Epoch 1/20\n",
            "158144/158193 [============================>.] - ETA: 0s - loss: 4.2332 - accuracy: 0.4339\n",
            "\n",
            "\n",
            "--------------------------------------------------\n",
            "Temp 0.2:\n",
            "\n",
            "--------------------------------------------------\n",
            "Temp 0.33:\n",
            "\n",
            "--------------------------------------------------\n",
            "Temp 0.5:\n",
            "\n",
            "--------------------------------------------------\n",
            "Temp 0.67:\n",
            "\n",
            "--------------------------------------------------\n",
            "Temp 1.0:\n",
            "\n",
            "--------------------------------------------------\n",
            "\n",
            "\n",
            "\n",
            "\n",
            "Epoch 00001: loss improved from inf to 4.23348, saving model to Knish_best_model.h5\n",
            "158193/158193 [==============================] - 242s 2ms/sample - loss: 4.2335 - accuracy: 0.4338 - val_loss: 2.3789 - val_accuracy: 0.6687\n",
            "Epoch 2/20\n",
            "158144/158193 [============================>.] - ETA: 0s - loss: 3.7679 - accuracy: 0.4499\n",
            "\n",
            "\n",
            "--------------------------------------------------\n",
            "Temp 0.2:\n",
            "i dont be the be the 2 0 0 0 - 0 0 0 0 0 0 0 0 0 0 0 0 0 0 0 0 0 0 0 0 0 0 0 0 0 0 0 0 0 0 0 0 0 0 0 0 0 0 0 . 5 0 0 0 0 0 0 0 0 0 2 0 0 0 0 0 0 0 0 0 0 0 0 0 0 0 0 0 0 0 0 0 0 0 0 0 0 0 0 0 0 0 0 0 0 0 0 0 0 0 0 0 0 0 0 0 0 0 - 1 0 0 0 0 0 0 0 0 0 0 0 0 0 0 0 0 0 0 0 0 0 0 0 0 0 0 0 0 0 0 0 0 0 0 0 0 0 0 0 0 0 0 0 0 0 0 0 1 0 0 0 0 0 0 0 0 0 0 0 0 0 0 0 0 0 0 0 0 0 0 0 0 0 0 0 0 0 0 0 0 0 0 0 0 0 0 0 0 0 0 0 0 0 0 0 0 0 0 0 0 0 0 0 0 0 0 0 0 0 0 0 . \n",
            "--------------------------------------------------\n",
            "Temp 0.33:\n",
            "i think i think you the be the the great game . \n",
            "--------------------------------------------------\n",
            "Temp 0.5:\n",
            "i think i think i have a couple or be the first fcs . \n",
            "--------------------------------------------------\n",
            "Temp 0.67:\n",
            "ive the be last 2 5 in - 1 0 0 . he had . \n",
            "--------------------------------------------------\n",
            "Temp 1.0:\n",
            "although knish huge donald on the good hes chance how a getting 1 arguing . \n",
            "--------------------------------------------------\n",
            "\n",
            "\n",
            "\n",
            "\n",
            "Epoch 00002: loss improved from 4.23348 to 3.76778, saving model to Knish_best_model.h5\n",
            "158193/158193 [==============================] - 252s 2ms/sample - loss: 3.7678 - accuracy: 0.4499 - val_loss: 2.2312 - val_accuracy: 0.6717\n",
            "Epoch 3/20\n",
            "158144/158193 [============================>.] - ETA: 0s - loss: 3.5105 - accuracy: 0.4672\n",
            "\n",
            "\n",
            "--------------------------------------------------\n",
            "Temp 0.2:\n",
            "i think i think i think i think i think i dont think i think i think i think the is a couple . \n",
            "--------------------------------------------------\n",
            "Temp 0.33:\n",
            "i think i think i think i think i think i have the . \n",
            "--------------------------------------------------\n",
            "Temp 0.5:\n",
            "the wait of the weekend . conditions are the money with sports . \n",
            "--------------------------------------------------\n",
            "Temp 0.67:\n",
            "some of with the bad on rockets and thought we can like you can get in this field . \n",
            "--------------------------------------------------\n",
            "Temp 1.0:\n",
            "he she has put me when nba winner on this drive media evidence a senior asking with a cooler and east lakers pivot for flat says you putting the burrow exact . \n",
            "--------------------------------------------------\n",
            "\n",
            "\n",
            "\n",
            "\n",
            "Epoch 00003: loss improved from 3.76778 to 3.51041, saving model to Knish_best_model.h5\n",
            "158193/158193 [==============================] - 246s 2ms/sample - loss: 3.5104 - accuracy: 0.4672 - val_loss: 2.2088 - val_accuracy: 0.6712\n",
            "Epoch 4/20\n",
            "158144/158193 [============================>.] - ETA: 0s - loss: 3.3157 - accuracy: 0.4774\n",
            "\n",
            "\n",
            "--------------------------------------------------\n",
            "Temp 0.2:\n",
            "i agree . i think the guy is a bit of the bowl . \n",
            "--------------------------------------------------\n",
            "Temp 0.33:\n",
            "i dont think the guy is a lot of the next . ( to be a real . \n",
            "--------------------------------------------------\n",
            "Temp 0.5:\n",
            "i dont believe it is this . i think my book of the game . \n",
            "--------------------------------------------------\n",
            "Temp 0.67:\n",
            "if you guys on the school . the would be interest . the results what all better on the life . \n",
            "--------------------------------------------------\n",
            "Temp 1.0:\n",
            "could line no ahead with they had her credit and free out as down up some defensive trump and didnt do you deal now enjoy . \n",
            "--------------------------------------------------\n",
            "\n",
            "\n",
            "\n",
            "\n",
            "Epoch 00004: loss improved from 3.51041 to 3.31571, saving model to Knish_best_model.h5\n",
            "158193/158193 [==============================] - 244s 2ms/sample - loss: 3.3157 - accuracy: 0.4774 - val_loss: 2.2124 - val_accuracy: 0.6727\n",
            "Epoch 5/20\n",
            "158144/158193 [============================>.] - ETA: 0s - loss: 3.1355 - accuracy: 0.4852\n",
            "\n",
            "\n",
            "--------------------------------------------------\n",
            "Temp 0.2:\n",
            "i think you can see the first . but i dont think the guy is the people . \n",
            "--------------------------------------------------\n",
            "Temp 0.33:\n",
            "i think i dont think i had to do you ever . but i dont want to get it . \n",
            "--------------------------------------------------\n",
            "Temp 0.5:\n",
            "i think its a couple . but i could be you many . \n",
            "--------------------------------------------------\n",
            "Temp 0.67:\n",
            "the scam isnt a professional . always a knish girlfriend who can know theyre to the account and i think glasgow even to see it . \n",
            "--------------------------------------------------\n",
            "Temp 1.0:\n",
            "my buddy more customers is 8 ever could go ) at gf a dm you get not bet . \n",
            "--------------------------------------------------\n",
            "\n",
            "\n",
            "\n",
            "\n",
            "Epoch 00005: loss improved from 3.31571 to 3.13546, saving model to Knish_best_model.h5\n",
            "158193/158193 [==============================] - 242s 2ms/sample - loss: 3.1355 - accuracy: 0.4851 - val_loss: 2.2160 - val_accuracy: 0.6760\n",
            "Epoch 6/20\n",
            "158144/158193 [============================>.] - ETA: 0s - loss: 2.9414 - accuracy: 0.4931\n",
            "\n",
            "\n",
            "--------------------------------------------------\n",
            "Temp 0.2:\n",
            "i think the guy is a bit on the league . but i think the guy is a great fan . \n",
            "--------------------------------------------------\n",
            "Temp 0.33:\n",
            "i think the guy is a great guy . i think the prices is the . \n",
            "--------------------------------------------------\n",
            "Temp 0.5:\n",
            "the matchups was not saying the of the time . i think he was the other guy . \n",
            "--------------------------------------------------\n",
            "Temp 0.67:\n",
            "the end of the office is out of the other . will be us in the contest . . . \n",
            "--------------------------------------------------\n",
            "Temp 1.0:\n",
            "thompson rox been first game there on the daily . williams still subscribe of us i missed the intermediary pathetic is he clear doesnt see maybe take 5 current as any opinion on vegas . \n",
            "--------------------------------------------------\n",
            "\n",
            "\n",
            "\n",
            "\n",
            "Epoch 00006: loss improved from 3.13546 to 2.94151, saving model to Knish_best_model.h5\n",
            "158193/158193 [==============================] - 249s 2ms/sample - loss: 2.9415 - accuracy: 0.4931 - val_loss: 2.2784 - val_accuracy: 0.6771\n",
            "Epoch 7/20\n",
            "158144/158193 [============================>.] - ETA: 0s - loss: 2.7350 - accuracy: 0.5037\n",
            "\n",
            "\n",
            "--------------------------------------------------\n",
            "Temp 0.2:\n",
            "i think the guy is not a great guy but i think the guy is not . \n",
            "--------------------------------------------------\n",
            "Temp 0.33:\n",
            "i mean the guy is a lot of the guy i think the guy is not . \n",
            "--------------------------------------------------\n",
            "Temp 0.5:\n",
            "i think the people was a great guy at the super bowl . not sure this is not sure how we makes a ton of bourbon knish invitational . \n",
            "--------------------------------------------------\n",
            "Temp 0.67:\n",
            "yes if you need the bet by 6 7 or sure would be much you / + 1 0 . 5 state is a drafted . \n",
            "--------------------------------------------------\n",
            "Temp 1.0:\n",
            "i think far is not gonna have an near buying the laws . hell need a recovery system + 1 normal beating some . \n",
            "--------------------------------------------------\n",
            "\n",
            "\n",
            "\n",
            "\n",
            "Epoch 00007: loss improved from 2.94151 to 2.73497, saving model to Knish_best_model.h5\n",
            "158193/158193 [==============================] - 249s 2ms/sample - loss: 2.7350 - accuracy: 0.5037 - val_loss: 2.3579 - val_accuracy: 0.6739\n",
            "Epoch 8/20\n",
            "158144/158193 [============================>.] - ETA: 0s - loss: 2.5282 - accuracy: 0.5205\n",
            "\n",
            "\n",
            "--------------------------------------------------\n",
            "Temp 0.2:\n",
            "i think the guy is a great advisor to the trap maize and dont want to overreact . \n",
            "--------------------------------------------------\n",
            "Temp 0.33:\n",
            "i think the data is not a single job and traveled a few years ago . \n",
            "--------------------------------------------------\n",
            "Temp 0.5:\n",
            "i think the one of the account is not sure how much about you . \n",
            "--------------------------------------------------\n",
            "Temp 0.67:\n",
            "to see you know what $ 1 0 0 0 / coin when this is a very stressful fucking we should be - 1 0 0 0 0 free . \n",
            "--------------------------------------------------\n",
            "Temp 1.0:\n",
            "lol . 6 drive of tennessee in the knish invitational . best penalties will be legit as me . god 5 - 1 % afternoon last season . . really made a real game but hell suck be solid than that is over . \n",
            "--------------------------------------------------\n",
            "\n",
            "\n",
            "\n",
            "\n",
            "Epoch 00008: loss improved from 2.73497 to 2.52820, saving model to Knish_best_model.h5\n",
            "158193/158193 [==============================] - 248s 2ms/sample - loss: 2.5282 - accuracy: 0.5205 - val_loss: 2.4121 - val_accuracy: 0.6742\n",
            "Epoch 9/20\n",
            "158144/158193 [============================>.] - ETA: 0s - loss: 2.3361 - accuracy: 0.5424\n",
            "\n",
            "\n",
            "--------------------------------------------------\n",
            "Temp 0.2:\n",
            "i think the owner is a fantastic . but the guy is a great speech . \n",
            "--------------------------------------------------\n",
            "Temp 0.33:\n",
            "the fact youre not a delusional lunatic is not a bit surprised you can go . \n",
            "--------------------------------------------------\n",
            "Temp 0.5:\n",
            "i agree . you guys dont want to do . it will be a rough size rsw money . \n",
            "--------------------------------------------------\n",
            "Temp 0.67:\n",
            "i like how you two cause im not to be a tough dimes down . \n",
            "--------------------------------------------------\n",
            "Temp 1.0:\n",
            "that can have jameis tucker at 6 2 0 when hes wish thats 4 0 th . so knish of getting theyre in ab to live . now stays in the bottom issues . qb or almost fans in game and from taking the reg dont give me / free or national god stay . if you already quite her yet ? ? ? \n",
            "--------------------------------------------------\n",
            "\n",
            "\n",
            "\n",
            "\n",
            "Epoch 00009: loss improved from 2.52820 to 2.33619, saving model to Knish_best_model.h5\n",
            "158193/158193 [==============================] - 245s 2ms/sample - loss: 2.3362 - accuracy: 0.5424 - val_loss: 2.5110 - val_accuracy: 0.6720\n",
            "Epoch 10/20\n",
            "158144/158193 [============================>.] - ETA: 0s - loss: 2.1610 - accuracy: 0.5659\n",
            "\n",
            "\n",
            "--------------------------------------------------\n",
            "Temp 0.2:\n",
            "i know this is a fantastic . i know ( lol ) . but i think the major trolls are legitimate . \n",
            "--------------------------------------------------\n",
            "Temp 0.33:\n",
            "i just thought he was gonna be a true punch you . so i guess . \n",
            "--------------------------------------------------\n",
            "Temp 0.5:\n",
            "i like the bread back for the air . if they do any of the price ? ? ? ? \n",
            "--------------------------------------------------\n",
            "Temp 0.67:\n",
            "and nice out of my cousin with me accounts for caesars and i think they can get a shot and read back . \n",
            "--------------------------------------------------\n",
            "Temp 1.0:\n",
            "for that annoying and said not at least a million in my phone and live a pr ill keep up drinks . \n",
            "--------------------------------------------------\n",
            "\n",
            "\n",
            "\n",
            "\n",
            "Epoch 00010: loss improved from 2.33619 to 2.16100, saving model to Knish_best_model.h5\n",
            "158193/158193 [==============================] - 245s 2ms/sample - loss: 2.1610 - accuracy: 0.5659 - val_loss: 2.5789 - val_accuracy: 0.6689\n",
            "Epoch 11/20\n",
            "158144/158193 [============================>.] - ETA: 0s - loss: 2.0036 - accuracy: 0.5898\n",
            "\n",
            "\n",
            "--------------------------------------------------\n",
            "Temp 0.2:\n",
            "i think the guy were gonna be a rough ride and the other way . \n",
            "--------------------------------------------------\n",
            "Temp 0.33:\n",
            "i dont think hes fully healthy . i wouldnt see the sports on the nfl . \n",
            "--------------------------------------------------\n",
            "Temp 0.5:\n",
            "i know the section is the line is the pot of the people . the only are been a fantastic . \n",
            "--------------------------------------------------\n",
            "Temp 0.67:\n",
            "its not a cash team when youre a guy in a few months . if youre a concrete public . \n",
            "--------------------------------------------------\n",
            "Temp 1.0:\n",
            "cash ppl havent spent oddsmaker secret again . youve got it baby . not even easy a bunch of media cases who actually work ) at or slow in the life when they finish in 1 - 0 . ill you only whale 2 0 c as such a tiebreaker \n",
            "--------------------------------------------------\n",
            "\n",
            "\n",
            "\n",
            "\n",
            "Epoch 00011: loss improved from 2.16100 to 2.00366, saving model to Knish_best_model.h5\n",
            "158193/158193 [==============================] - 245s 2ms/sample - loss: 2.0037 - accuracy: 0.5898 - val_loss: 2.6601 - val_accuracy: 0.6667\n",
            "Epoch 12/20\n",
            "158144/158193 [============================>.] - ETA: 0s - loss: 1.8574 - accuracy: 0.6128\n",
            "\n",
            "\n",
            "--------------------------------------------------\n",
            "Temp 0.2:\n",
            "i think the guy were gonna be a rough delta between the new trenches and 2 0 0 0 . \n",
            "--------------------------------------------------\n",
            "Temp 0.33:\n",
            "i like how akron recruited 5 thousand in football . but agree is a sinking war coffee . \n",
            "--------------------------------------------------\n",
            "Temp 0.5:\n",
            "i think a couple of a guy who would be stopping in the nfl and a friday tip . \n",
            "--------------------------------------------------\n",
            "Temp 0.67:\n",
            "i dont care you had like this game is not a habit in a few hours . \n",
            "--------------------------------------------------\n",
            "Temp 1.0:\n",
            "derrick his gives the large wc bet and touched the playoffs and dont believe my family here . idk so that was not putting em at the street . \n",
            "--------------------------------------------------\n",
            "\n",
            "\n",
            "\n",
            "\n",
            "Epoch 00012: loss improved from 2.00366 to 1.85734, saving model to Knish_best_model.h5\n",
            "158193/158193 [==============================] - 252s 2ms/sample - loss: 1.8573 - accuracy: 0.6128 - val_loss: 2.7302 - val_accuracy: 0.6646\n",
            "Epoch 13/20\n",
            "158144/158193 [============================>.] - ETA: 0s - loss: 1.7229 - accuracy: 0.6357\n",
            "\n",
            "\n",
            "--------------------------------------------------\n",
            "Temp 0.2:\n",
            "i think the guy were gonna be up . but the rollover is the next way to the fact . \n",
            "--------------------------------------------------\n",
            "Temp 0.33:\n",
            "lol . i think the xfl and was a bit that delta between the field . and if youre a coincidence ? \n",
            "--------------------------------------------------\n",
            "Temp 0.5:\n",
            "i thought the weekday sun belt officiating crew are solid . but if i would really assume i wouldnt assume hurts . \n",
            "--------------------------------------------------\n",
            "Temp 0.67:\n",
            "you are a lot of money on the . but in my site . but it really used a ton of juice week the sandwich with them for the nfl . these days but just felt like a photo . \n",
            "--------------------------------------------------\n",
            "Temp 1.0:\n",
            "check out for over 5 minutes at - aid on xfl field totals contest was takes by over all parties power ratings are - tweet fact but very celtics or running up in it . \n",
            "--------------------------------------------------\n",
            "\n",
            "\n",
            "\n",
            "\n",
            "Epoch 00013: loss improved from 1.85734 to 1.72294, saving model to Knish_best_model.h5\n",
            "158193/158193 [==============================] - 248s 2ms/sample - loss: 1.7229 - accuracy: 0.6357 - val_loss: 2.7893 - val_accuracy: 0.6615\n",
            "Epoch 14/20\n",
            "158144/158193 [============================>.] - ETA: 0s - loss: 1.5970 - accuracy: 0.6584\n",
            "\n",
            "\n",
            "--------------------------------------------------\n",
            "Temp 0.2:\n",
            "if you get corona or you can find a free up to get home and change dming for a shit . \n",
            "--------------------------------------------------\n",
            "Temp 0.33:\n",
            "i think im not a bit . but not a bit of ppl that could be able to be cancelled . \n",
            "--------------------------------------------------\n",
            "Temp 0.5:\n",
            "i love the parlays where they got up and cleaned that i doubt you should be on that i might go . \n",
            "--------------------------------------------------\n",
            "Temp 0.67:\n",
            "my dad thinks a lot of a missed time up the losers . not saying your money obviously have to be a ton of money . \n",
            "--------------------------------------------------\n",
            "Temp 1.0:\n",
            "am everything is just any school was not too . with slay up smooth check . and used to do all the look to be a hard bet and sports betting after a hit up . \n",
            "--------------------------------------------------\n",
            "\n",
            "\n",
            "\n",
            "\n",
            "Epoch 00014: loss improved from 1.72294 to 1.59724, saving model to Knish_best_model.h5\n",
            "158193/158193 [==============================] - 244s 2ms/sample - loss: 1.5972 - accuracy: 0.6584 - val_loss: 2.8664 - val_accuracy: 0.6623\n",
            "Epoch 15/20\n",
            "158144/158193 [============================>.] - ETA: 0s - loss: 1.4817 - accuracy: 0.6802\n",
            "\n",
            "\n",
            "--------------------------------------------------\n",
            "Temp 0.2:\n",
            "i think im gonna stop in tomorrow this year . but i think the league will happen . \n",
            "--------------------------------------------------\n",
            "Temp 0.33:\n",
            "i dont think hes fully healthy . i wouldnt agree with the pool is setting up . \n",
            "--------------------------------------------------\n",
            "Temp 0.5:\n",
            "i really thought you had some 5 minutes about that handle and a late shift . but theres a ton of player on the locker award and steal the top dogs . \n",
            "--------------------------------------------------\n",
            "Temp 0.67:\n",
            "the xfl is gonna send him a lot of ppl that bet looks like that are on the daily tees . \n",
            "--------------------------------------------------\n",
            "Temp 1.0:\n",
            "cal bet all 2 things but still 4 5 % 5 were absurd not any incredible . \n",
            "--------------------------------------------------\n",
            "\n",
            "\n",
            "\n",
            "\n",
            "Epoch 00015: loss improved from 1.59724 to 1.48179, saving model to Knish_best_model.h5\n",
            "158193/158193 [==============================] - 241s 2ms/sample - loss: 1.4818 - accuracy: 0.6802 - val_loss: 2.9320 - val_accuracy: 0.6586\n",
            "Epoch 16/20\n",
            "158144/158193 [============================>.] - ETA: 0s - loss: 1.3735 - accuracy: 0.7009\n",
            "\n",
            "\n",
            "--------------------------------------------------\n",
            "Temp 0.2:\n",
            "i know you took a bunch of juice before but i think hell do a ton of money . \n",
            "--------------------------------------------------\n",
            "Temp 0.33:\n",
            "i know the owner and become is a real time to the economy . hopefully that is gonna overreact . but would likely be a handful of people . \n",
            "--------------------------------------------------\n",
            "Temp 0.5:\n",
            "i dont think its fixed . but is something . but i think thats the costa individual watching that . \n",
            "--------------------------------------------------\n",
            "Temp 0.67:\n",
            "i see the one in the story that days from the patterson . its always a panic . \n",
            "--------------------------------------------------\n",
            "Temp 1.0:\n",
            "last year already had for trolling the states to put out the money line last week as what theyll take him here . but that business is betting the amount of clientele ( not always our people for fire ) but its a wild year any book is parlay plenty . \n",
            "--------------------------------------------------\n",
            "\n",
            "\n",
            "\n",
            "\n",
            "Epoch 00016: loss improved from 1.48179 to 1.37352, saving model to Knish_best_model.h5\n",
            "158193/158193 [==============================] - 245s 2ms/sample - loss: 1.3735 - accuracy: 0.7009 - val_loss: 2.9972 - val_accuracy: 0.6577\n",
            "Epoch 17/20\n",
            "158144/158193 [============================>.] - ETA: 0s - loss: 1.2717 - accuracy: 0.7221\n",
            "\n",
            "\n",
            "--------------------------------------------------\n",
            "Temp 0.2:\n",
            "i think the funnier part is actually i agree with the future room . \n",
            "--------------------------------------------------\n",
            "Temp 0.33:\n",
            "i think one of my favorite of my guys on a football and they dont need to kill myself with a segment . \n",
            "--------------------------------------------------\n",
            "Temp 0.5:\n",
            "i think the prop piece on 9 9 . 5 is a lower coaching too much washed . \n",
            "--------------------------------------------------\n",
            "Temp 0.67:\n",
            "i think tj watt + 9 0 0 a month after a 9 month . \n",
            "--------------------------------------------------\n",
            "Temp 1.0:\n",
            "uncle knish may got a small 1 0 . 5 tries + 8 1 a month \n",
            "--------------------------------------------------\n",
            "\n",
            "\n",
            "\n",
            "\n",
            "Epoch 00017: loss improved from 1.37352 to 1.27179, saving model to Knish_best_model.h5\n",
            "158193/158193 [==============================] - 242s 2ms/sample - loss: 1.2718 - accuracy: 0.7220 - val_loss: 3.0606 - val_accuracy: 0.6569\n",
            "Epoch 18/20\n",
            "158144/158193 [============================>.] - ETA: 0s - loss: 1.1768 - accuracy: 0.7412\n",
            "\n",
            "\n",
            "--------------------------------------------------\n",
            "Temp 0.2:\n",
            "i dont think that is much more popular but had me a good sized good ham to this summer . but im not even a real speed . i need this the knishwich half in the detroit without the same . \n",
            "--------------------------------------------------\n",
            "Temp 0.33:\n",
            "i think the 9 9 ers and made the crew here is a big missed . \n",
            "--------------------------------------------------\n",
            "Temp 0.5:\n",
            "welp . this died a quick death with a group who got more into the others that are the worst segment . \n",
            "--------------------------------------------------\n",
            "Temp 0.67:\n",
            "most of a buy one of charge for the wnba and just enjoying it . \n",
            "--------------------------------------------------\n",
            "Temp 1.0:\n",
            "give myself ill go down to michigan or a couple more glass of whale call that could come \n",
            "--------------------------------------------------\n",
            "\n",
            "\n",
            "\n",
            "\n",
            "Epoch 00018: loss improved from 1.27179 to 1.17681, saving model to Knish_best_model.h5\n",
            "158193/158193 [==============================] - 245s 2ms/sample - loss: 1.1768 - accuracy: 0.7412 - val_loss: 3.1153 - val_accuracy: 0.6559\n",
            "Epoch 19/20\n",
            "158144/158193 [============================>.] - ETA: 0s - loss: 1.0914 - accuracy: 0.7593\n",
            "\n",
            "\n",
            "--------------------------------------------------\n",
            "Temp 0.2:\n",
            "i think its kind of a generally accepted public narrative atm tbh . but i think its mass shootings are used . \n",
            "--------------------------------------------------\n",
            "Temp 0.33:\n",
            "i think the 9 9 ers pending is right about food after front of the . \n",
            "--------------------------------------------------\n",
            "Temp 0.5:\n",
            "if you need me ill be checking prices as a 1 0 min for a late cash and ill be tough to the local props . \n",
            "--------------------------------------------------\n",
            "Temp 0.67:\n",
            "i bought some of those things to play ol and a couple hundred shots to start around and i needed a couple of the top 1 0 yard td . hes hedge there like a clue . theres never been a great group . \n",
            "--------------------------------------------------\n",
            "Temp 1.0:\n",
            "thats i just cant think about that really dont see the sports twitter \n",
            "--------------------------------------------------\n",
            "\n",
            "\n",
            "\n",
            "\n",
            "Epoch 00019: loss improved from 1.17681 to 1.09147, saving model to Knish_best_model.h5\n",
            "158193/158193 [==============================] - 243s 2ms/sample - loss: 1.0915 - accuracy: 0.7592 - val_loss: 3.1955 - val_accuracy: 0.6530\n",
            "Epoch 20/20\n",
            "158144/158193 [============================>.] - ETA: 0s - loss: 1.0097 - accuracy: 0.7780\n",
            "\n",
            "\n",
            "--------------------------------------------------\n",
            "Temp 0.2:\n",
            "i think its a light mac book . hillbillys love golf but i hope that would be dead in the business breaks ive have a good guy and i have myself . the sun risk of pirate ) \n",
            "--------------------------------------------------\n",
            "Temp 0.33:\n",
            "i think its official . the touts have really made a great bag of the future before i have a 3 % on that that in the world cup . \n",
            "--------------------------------------------------\n",
            "Temp 0.5:\n",
            "i like how owner isnt a market \" in football but ill be a great way to get him a bit . \n",
            "--------------------------------------------------\n",
            "Temp 0.67:\n",
            "what i do charity work the virus while you got it . not sure how to be a deal and respond to say the pats . \n",
            "--------------------------------------------------\n",
            "Temp 1.0:\n",
            "not pleased you listed other ? somebody knows dont do $ 2 0 bucks . \n",
            "--------------------------------------------------\n",
            "\n",
            "\n",
            "\n",
            "\n",
            "Epoch 00020: loss improved from 1.09147 to 1.00975, saving model to Knish_best_model.h5\n",
            "158193/158193 [==============================] - 248s 2ms/sample - loss: 1.0098 - accuracy: 0.7779 - val_loss: 3.2571 - val_accuracy: 0.6538\n",
            "\n",
            "\n",
            "Time to train = 1:21:56.517385\n"
          ],
          "name": "stdout"
        }
      ]
    },
    {
      "cell_type": "markdown",
      "metadata": {
        "colab_type": "text",
        "id": "osSlaL6ivUDO"
      },
      "source": [
        "## Plot Model Training"
      ]
    },
    {
      "cell_type": "markdown",
      "metadata": {
        "colab_type": "text",
        "id": "x865JRI0vUDS"
      },
      "source": [
        "### Accuracy"
      ]
    },
    {
      "cell_type": "code",
      "metadata": {
        "colab_type": "code",
        "outputId": "eb02092a-55e2-4a5d-d957-b1ce50624982",
        "id": "FS5LRQq8vUDT",
        "colab": {
          "base_uri": "https://localhost:8080/",
          "height": 295
        }
      },
      "source": [
        "# Plot training & validation accuracy values\n",
        "plot_title = user + \" Chatbot Accuracy\"\n",
        "plt.plot(model.history.history['accuracy'])\n",
        "plt.plot(model.history.history['val_accuracy'])\n",
        "plt.title(plot_title)\n",
        "plt.ylabel('Accuracy')\n",
        "plt.xlabel('Epoch')\n",
        "plt.legend(['Train Accuracy', 'Val Accuracy'], loc='upper left')\n",
        "plt.show()"
      ],
      "execution_count": 0,
      "outputs": [
        {
          "output_type": "display_data",
          "data": {
            "image/png": "[encoded data removed]",
            "text/plain": [
              "<Figure size 432x288 with 1 Axes>"
            ]
          },
          "metadata": {
            "tags": []
          }
        }
      ]
    },
    {
      "cell_type": "markdown",
      "metadata": {
        "colab_type": "text",
        "id": "4yJYrSM8vUDX"
      },
      "source": [
        "### Loss/Cost"
      ]
    },
    {
      "cell_type": "code",
      "metadata": {
        "colab_type": "code",
        "outputId": "9db265d2-2bf9-4c47-b3c0-3aa71bf6062b",
        "id": "68sKyDczvUDY",
        "colab": {
          "base_uri": "https://localhost:8080/",
          "height": 295
        }
      },
      "source": [
        "# Plot training & validation loss values\n",
        "plot_title = user + \" Chatbot Loss/Cost\"\n",
        "plt.plot(model.history.history['loss'])\n",
        "plt.plot(model.history.history['val_loss'])\n",
        "plt.title(plot_title)\n",
        "plt.ylabel('Loss / Cost')\n",
        "plt.xlabel('Epoch')\n",
        "plt.legend(['Train Loss', 'Val Loss'], loc='upper right')\n",
        "plt.show()"
      ],
      "execution_count": 0,
      "outputs": [
        {
          "output_type": "display_data",
          "data": {
            "image/png": "[encoded data removed]",
            "text/plain": [
              "<Figure size 432x288 with 1 Axes>"
            ]
          },
          "metadata": {
            "tags": []
          }
        }
      ]
    },
    {
      "cell_type": "markdown",
      "metadata": {
        "colab_type": "text",
        "id": "sKGJ_avhoc9n"
      },
      "source": [
        "## Use Chatbot"
      ]
    },
    {
      "cell_type": "markdown",
      "metadata": {
        "colab_type": "text",
        "id": "yBj_imXkoc9n"
      },
      "source": [
        "### Load Best Model"
      ]
    },
    {
      "cell_type": "code",
      "metadata": {
        "colab_type": "code",
        "id": "3NjmvF_5oc9o",
        "colab": {}
      },
      "source": [
        "# load best saved model\n",
        "best_model = load_model(filepath)"
      ],
      "execution_count": 0,
      "outputs": []
    },
    {
      "cell_type": "markdown",
      "metadata": {
        "colab_type": "text",
        "id": "oCLtfGvqoc9p"
      },
      "source": [
        "### Temperature: 0.1"
      ]
    },
    {
      "cell_type": "code",
      "metadata": {
        "colab_type": "code",
        "outputId": "c91790cd-9682-45ad-b7f7-4a765e0d42ae",
        "id": "OsB4vNnpoc9p",
        "colab": {
          "base_uri": "https://localhost:8080/",
          "height": 326
        }
      },
      "source": [
        "# Chatbot's new Tweet\n",
        "temp = 0.1\n",
        "print(\"Temperature: \" + str(temp))\n",
        "print()\n",
        "print(user + \" Chatbot Tweet 1:\")\n",
        "print(generate_text(seed_text = \"\", next_words = 500, model = best_model, max_sequence_len= 20, temp = temp))\n",
        "print()\n",
        "print(user + \" Chatbot Tweet 2:\")\n",
        "print(generate_text(seed_text = \"\", next_words = 500, model = best_model, max_sequence_len= 20, temp = temp))\n",
        "print()\n",
        "print(user + \" Chatbot Tweet 3:\")\n",
        "print(generate_text(seed_text = \"\", next_words = 500, model = best_model, max_sequence_len= 20, temp = temp))\n",
        "print()\n",
        "print(user + \" Chatbot Tweet 4:\")\n",
        "print(generate_text(seed_text = \"\", next_words = 500, model = best_model, max_sequence_len= 20, temp = temp))\n",
        "print()\n",
        "print(user + \" Chatbot Tweet 5:\")\n",
        "print(generate_text(seed_text = \"\", next_words = 500, model = best_model, max_sequence_len= 20, temp = temp))\n",
        "print()"
      ],
      "execution_count": 0,
      "outputs": [
        {
          "output_type": "stream",
          "text": [
            "Temperature: 0.1\n",
            "\n",
            "Knish Chatbot Tweet 1:\n",
            "i think its a light mac book . hillbillys love golf for a little being p 1 0 months . i like this game . but if you took the least an playoffs with a couple more days . \n",
            "\n",
            "Knish Chatbot Tweet 2:\n",
            "i think the one guys at the game . but its not too much at the conference and a prize week . \n",
            "\n",
            "Knish Chatbot Tweet 3:\n",
            "i think its a light mac book . hillbillys love golf . buy twitter before live betting becomes . \n",
            "\n",
            "Knish Chatbot Tweet 4:\n",
            "i think the one guys at the office that are from the front office . \n",
            "\n",
            "Knish Chatbot Tweet 5:\n",
            "i think the one guys at the game . but its not too much at the conference and a player to get the run for 3 0 thousand giveaway before he was 1 0 . 5 qbs in the 4 9 ers 1 6 . \n",
            "\n"
          ],
          "name": "stdout"
        }
      ]
    },
    {
      "cell_type": "markdown",
      "metadata": {
        "colab_type": "text",
        "id": "toXlxmfioc9r"
      },
      "source": [
        "### Temperature: 0.2"
      ]
    },
    {
      "cell_type": "code",
      "metadata": {
        "colab_type": "code",
        "outputId": "f613b993-1151-43a9-f830-c1e3fd80a1ce",
        "id": "anDpTVnxoc9r",
        "colab": {
          "base_uri": "https://localhost:8080/",
          "height": 326
        }
      },
      "source": [
        "# Chatbot's new Tweet\n",
        "temp = 0.2\n",
        "print(\"Temperature: \" + str(temp))\n",
        "print()\n",
        "print(user + \" Chatbot Tweet 1:\")\n",
        "print(generate_text(seed_text = \"\", next_words = 500, model = best_model, max_sequence_len= 20, temp = temp))\n",
        "print()\n",
        "print(user + \" Chatbot Tweet 2:\")\n",
        "print(generate_text(seed_text = \"\", next_words = 500, model = best_model, max_sequence_len= 20, temp = temp))\n",
        "print()\n",
        "print(user + \" Chatbot Tweet 3:\")\n",
        "print(generate_text(seed_text = \"\", next_words = 500, model = best_model, max_sequence_len= 20, temp = temp))\n",
        "print()\n",
        "print(user + \" Chatbot Tweet 4:\")\n",
        "print(generate_text(seed_text = \"\", next_words = 500, model = best_model, max_sequence_len= 20, temp = temp))\n",
        "print()\n",
        "print(user + \" Chatbot Tweet 5:\")\n",
        "print(generate_text(seed_text = \"\", next_words = 500, model = best_model, max_sequence_len= 20, temp = temp))\n",
        "print()"
      ],
      "execution_count": 0,
      "outputs": [
        {
          "output_type": "stream",
          "text": [
            "Temperature: 0.2\n",
            "\n",
            "Knish Chatbot Tweet 1:\n",
            "i think im gonna stop in tomorrow night . i think a ticket at me and see the ticket will be dead if they can take the popular vote ( say this year ) \n",
            "\n",
            "Knish Chatbot Tweet 2:\n",
            "i think the one guys at the office they just depends for a couple points in the panel with this trash \n",
            "\n",
            "Knish Chatbot Tweet 3:\n",
            "i think the one guys at the game . but its not too much at the conference and it in the country . and only of the pool setting about him in - 2 weeks . and i went up ? \n",
            "\n",
            "Knish Chatbot Tweet 4:\n",
            "i think its a light mac book . hillbillys and texans / and dont like usc from regularly . \n",
            "\n",
            "Knish Chatbot Tweet 5:\n",
            "i think its a light mac book . hillbillys love shit and metcalf and look out to the . \n",
            "\n"
          ],
          "name": "stdout"
        }
      ]
    },
    {
      "cell_type": "markdown",
      "metadata": {
        "colab_type": "text",
        "id": "tZJz2kQ2oc9t"
      },
      "source": [
        "### Temperature: 0.3"
      ]
    },
    {
      "cell_type": "code",
      "metadata": {
        "colab_type": "code",
        "id": "kwBuoj2Boc9t",
        "outputId": "488788ed-eda0-423c-abbc-58ed4effa7a2",
        "colab": {
          "base_uri": "https://localhost:8080/",
          "height": 306
        }
      },
      "source": [
        "# Chatbot's new Tweet\n",
        "temp = 0.3\n",
        "print(\"Temperature: \" + str(temp))\n",
        "print()\n",
        "print(user + \" Chatbot Tweet 1:\")\n",
        "print(generate_text(seed_text = \"\", next_words = 500, model = best_model, max_sequence_len= 20, temp = temp))\n",
        "print()\n",
        "print(user + \" Chatbot Tweet 2:\")\n",
        "print(generate_text(seed_text = \"\", next_words = 500, model = best_model, max_sequence_len= 20, temp = temp))\n",
        "print()\n",
        "print(user + \" Chatbot Tweet 3:\")\n",
        "print(generate_text(seed_text = \"\", next_words = 500, model = best_model, max_sequence_len= 20, temp = temp))\n",
        "print()\n",
        "print(user + \" Chatbot Tweet 4:\")\n",
        "print(generate_text(seed_text = \"\", next_words = 500, model = best_model, max_sequence_len= 20, temp = temp))\n",
        "print()\n",
        "print(user + \" Chatbot Tweet 5:\")\n",
        "print(generate_text(seed_text = \"\", next_words = 500, model = best_model, max_sequence_len= 20, temp = temp))\n",
        "print()"
      ],
      "execution_count": 0,
      "outputs": [
        {
          "output_type": "stream",
          "text": [
            "Temperature: 0.3\n",
            "\n",
            "Knish Chatbot Tweet 1:\n",
            "i think i bet on rutgers at halftime . and if you miss lsu futures in a wedding contest with a game coming . \n",
            "\n",
            "Knish Chatbot Tweet 2:\n",
            "if you have a dm to go up to stay and get the knishwich up 8 . \n",
            "\n",
            "Knish Chatbot Tweet 3:\n",
            "i think im gonna drive franky lol but never been a couple of it 4 th but didnt get the line . \n",
            "\n",
            "Knish Chatbot Tweet 4:\n",
            "i think its official . the touts can be a shot . great list ( tampa ) even in detroit case to make you even doing for us . \n",
            "\n",
            "Knish Chatbot Tweet 5:\n",
            "i know you . with the load 1 7 but is too much of the . \n",
            "\n"
          ],
          "name": "stdout"
        }
      ]
    },
    {
      "cell_type": "markdown",
      "metadata": {
        "colab_type": "text",
        "id": "l9qczJ5xoc9w"
      },
      "source": [
        "### Temperature: 0.4"
      ]
    },
    {
      "cell_type": "code",
      "metadata": {
        "colab_type": "code",
        "id": "svVy28Vaoc9w",
        "outputId": "cbb4ee8f-fd6c-4cbc-bf9e-098954fb142a",
        "colab": {
          "base_uri": "https://localhost:8080/",
          "height": 326
        }
      },
      "source": [
        "# Chatbot's new Tweet\n",
        "temp = 0.4\n",
        "print(\"Temperature: \" + str(temp))\n",
        "print()\n",
        "print(user + \" Chatbot Tweet 1:\")\n",
        "print(generate_text(seed_text = \"\", next_words = 500, model = best_model, max_sequence_len= 20, temp = temp))\n",
        "print()\n",
        "print(user + \" Chatbot Tweet 2:\")\n",
        "print(generate_text(seed_text = \"\", next_words = 500, model = best_model, max_sequence_len= 20, temp = temp))\n",
        "print()\n",
        "print(user + \" Chatbot Tweet 3:\")\n",
        "print(generate_text(seed_text = \"\", next_words = 500, model = best_model, max_sequence_len= 20, temp = temp))\n",
        "print()\n",
        "print(user + \" Chatbot Tweet 4:\")\n",
        "print(generate_text(seed_text = \"\", next_words = 500, model = best_model, max_sequence_len= 20, temp = temp))\n",
        "print()\n",
        "print(user + \" Chatbot Tweet 5:\")\n",
        "print(generate_text(seed_text = \"\", next_words = 500, model = best_model, max_sequence_len= 20, temp = temp))\n",
        "print()"
      ],
      "execution_count": 0,
      "outputs": [
        {
          "output_type": "stream",
          "text": [
            "Temperature: 0.4\n",
            "\n",
            "Knish Chatbot Tweet 1:\n",
            "the clips couldnt keep us couldnt walk to trade . but theyll be able to retire by jack the nfl without so if i had . but at a winning one week with 1 2 - 1 9 conference title games that is going into power ratings . \n",
            "\n",
            "Knish Chatbot Tweet 2:\n",
            "i think the have realized instagram is what the only lives off the list . \n",
            "\n",
            "Knish Chatbot Tweet 3:\n",
            "i think the guy was also too much too . * betting nfl playoffs ? \n",
            "\n",
            "Knish Chatbot Tweet 4:\n",
            "but i could have gotten to this . but if i feel good to canada a few hours . but im not saying it was pretty honest ? \n",
            "\n",
            "Knish Chatbot Tweet 5:\n",
            "i know youre reeling after the rest of the oregon ol . the part of the pro bowl game is a truly fact . \n",
            "\n"
          ],
          "name": "stdout"
        }
      ]
    },
    {
      "cell_type": "markdown",
      "metadata": {
        "colab_type": "text",
        "id": "6SBAy1rAoc9y"
      },
      "source": [
        "### Temperature: 0.5"
      ]
    },
    {
      "cell_type": "code",
      "metadata": {
        "colab_type": "code",
        "id": "-9ImaEbvoc9y",
        "outputId": "1b9fcf5c-a7f3-4f12-f77c-6656fd32014b",
        "colab": {
          "base_uri": "https://localhost:8080/",
          "height": 326
        }
      },
      "source": [
        "# Chatbot's new Tweet\n",
        "temp = 0.5\n",
        "print(\"Temperature: \" + str(temp))\n",
        "print()\n",
        "print(user + \" Chatbot Tweet 1:\")\n",
        "print(generate_text(seed_text = \"\", next_words = 500, model = best_model, max_sequence_len= 20, temp = temp))\n",
        "print()\n",
        "print(user + \" Chatbot Tweet 2:\")\n",
        "print(generate_text(seed_text = \"\", next_words = 500, model = best_model, max_sequence_len= 20, temp = temp))\n",
        "print()\n",
        "print(user + \" Chatbot Tweet 3:\")\n",
        "print(generate_text(seed_text = \"\", next_words = 500, model = best_model, max_sequence_len= 20, temp = temp))\n",
        "print()\n",
        "print(user + \" Chatbot Tweet 4:\")\n",
        "print(generate_text(seed_text = \"\", next_words = 500, model = best_model, max_sequence_len= 20, temp = temp))\n",
        "print()\n",
        "print(user + \" Chatbot Tweet 5:\")\n",
        "print(generate_text(seed_text = \"\", next_words = 500, model = best_model, max_sequence_len= 20, temp = temp))\n",
        "print()"
      ],
      "execution_count": 0,
      "outputs": [
        {
          "output_type": "stream",
          "text": [
            "Temperature: 0.5\n",
            "\n",
            "Knish Chatbot Tweet 1:\n",
            "that moment when you go to your non / walk for 2 5 8 million ? youll be a great at home and the spread but were in the ohio - 1 4 . 5 imo . \n",
            "\n",
            "Knish Chatbot Tweet 2:\n",
            "the hospital horror stories + lack of supplies in epicenter areas is bad . real bad . wouldnt see me following me a sandwich . \n",
            "\n",
            "Knish Chatbot Tweet 3:\n",
            "you know if benny is dunking on ya on the al world . it was hard to form . \n",
            "\n",
            "Knish Chatbot Tweet 4:\n",
            "i think i would have to do this . but nobody is an nba qb play : the joke i went going for me . also probably not got the best qb in the house in the country . \n",
            "\n",
            "Knish Chatbot Tweet 5:\n",
            "i think you should stop in the game but the part of the next game . \n",
            "\n"
          ],
          "name": "stdout"
        }
      ]
    },
    {
      "cell_type": "markdown",
      "metadata": {
        "colab_type": "text",
        "id": "6zbK4jtEoc90"
      },
      "source": [
        "### Temperature: 0.6"
      ]
    },
    {
      "cell_type": "code",
      "metadata": {
        "colab_type": "code",
        "id": "l5hyVYJOoc90",
        "outputId": "9cd32389-d5d3-4ff8-b2dd-050ad3c33bbf",
        "colab": {
          "base_uri": "https://localhost:8080/",
          "height": 326
        }
      },
      "source": [
        "# Chatbot's new Tweet\n",
        "temp = 0.6\n",
        "print(\"Temperature: \" + str(temp))\n",
        "print()\n",
        "print(user + \" Chatbot Tweet 1:\")\n",
        "print(generate_text(seed_text = \"\", next_words = 500, model = best_model, max_sequence_len= 20, temp = temp))\n",
        "print()\n",
        "print(user + \" Chatbot Tweet 2:\")\n",
        "print(generate_text(seed_text = \"\", next_words = 500, model = best_model, max_sequence_len= 20, temp = temp))\n",
        "print()\n",
        "print(user + \" Chatbot Tweet 3:\")\n",
        "print(generate_text(seed_text = \"\", next_words = 500, model = best_model, max_sequence_len= 20, temp = temp))\n",
        "print()\n",
        "print(user + \" Chatbot Tweet 4:\")\n",
        "print(generate_text(seed_text = \"\", next_words = 500, model = best_model, max_sequence_len= 20, temp = temp))\n",
        "print()\n",
        "print(user + \" Chatbot Tweet 5:\")\n",
        "print(generate_text(seed_text = \"\", next_words = 500, model = best_model, max_sequence_len= 20, temp = temp))\n",
        "print()"
      ],
      "execution_count": 0,
      "outputs": [
        {
          "output_type": "stream",
          "text": [
            "Temperature: 0.6\n",
            "\n",
            "Knish Chatbot Tweet 1:\n",
            "i think it comes to the . but nobodys got an personal soccer play in the night \n",
            "\n",
            "Knish Chatbot Tweet 2:\n",
            "for the very very many game him on the 3 minutes to suspend us down the country . . . . see a special season rec buddy who could have a ton of story of every studio itself . it sucks . \n",
            "\n",
            "Knish Chatbot Tweet 3:\n",
            "the knish incredible football he in the super bowl . the of the big in the board . \n",
            "\n",
            "Knish Chatbot Tweet 4:\n",
            "i know what it is a bit \" was 5 to make him not sure i figured this out there had to properly . \n",
            "\n",
            "Knish Chatbot Tweet 5:\n",
            "last year bud to interview the entire site is in the world would be open for 5 thousand on football but not sure how much absolutely dm . \n",
            "\n"
          ],
          "name": "stdout"
        }
      ]
    },
    {
      "cell_type": "markdown",
      "metadata": {
        "colab_type": "text",
        "id": "FWMZzo-voc91"
      },
      "source": [
        "### Temperature: 0.7"
      ]
    },
    {
      "cell_type": "code",
      "metadata": {
        "colab_type": "code",
        "id": "QznOLRuyoc92",
        "outputId": "a0b3bdfb-a2fc-41bd-c1a0-36e94f354f77",
        "colab": {
          "base_uri": "https://localhost:8080/",
          "height": 306
        }
      },
      "source": [
        "# Chatbot's new Tweet\n",
        "temp = 0.7\n",
        "print(\"Temperature: \" + str(temp))\n",
        "print()\n",
        "print(user + \" Chatbot Tweet 1:\")\n",
        "print(generate_text(seed_text = \"\", next_words = 500, model = best_model, max_sequence_len= 20, temp = temp))\n",
        "print()\n",
        "print(user + \" Chatbot Tweet 2:\")\n",
        "print(generate_text(seed_text = \"\", next_words = 500, model = best_model, max_sequence_len= 20, temp = temp))\n",
        "print()\n",
        "print(user + \" Chatbot Tweet 3:\")\n",
        "print(generate_text(seed_text = \"\", next_words = 500, model = best_model, max_sequence_len= 20, temp = temp))\n",
        "print()\n",
        "print(user + \" Chatbot Tweet 4:\")\n",
        "print(generate_text(seed_text = \"\", next_words = 500, model = best_model, max_sequence_len= 20, temp = temp))\n",
        "print()\n",
        "print(user + \" Chatbot Tweet 5:\")\n",
        "print(generate_text(seed_text = \"\", next_words = 500, model = best_model, max_sequence_len= 20, temp = temp))\n",
        "print()"
      ],
      "execution_count": 0,
      "outputs": [
        {
          "output_type": "stream",
          "text": [
            "Temperature: 0.7\n",
            "\n",
            "Knish Chatbot Tweet 1:\n",
            "nah if you dmd matt not a reality of his knowledge probably be fine . \n",
            "\n",
            "Knish Chatbot Tweet 2:\n",
            "i mean hes as healthy is changed up on them for appy : ? \n",
            "\n",
            "Knish Chatbot Tweet 3:\n",
            "if youre going to it here . not sure you gonna make it to just supply it to be shit . \n",
            "\n",
            "Knish Chatbot Tweet 4:\n",
            "i think the funnier part is 1 5 0 times bol way to get a couple more days that would double check it off two and enjoy it . \n",
            "\n",
            "Knish Chatbot Tweet 5:\n",
            "a mac coaching staff not realizing the bears / 4 . 5 which was a good time for him to justify what just the quick or get some prop . \n",
            "\n"
          ],
          "name": "stdout"
        }
      ]
    },
    {
      "cell_type": "markdown",
      "metadata": {
        "colab_type": "text",
        "id": "2KivYVTooc94"
      },
      "source": [
        "### Temperature: 0.8"
      ]
    },
    {
      "cell_type": "code",
      "metadata": {
        "colab_type": "code",
        "id": "mYgS-nwGoc95",
        "outputId": "ba140551-3593-4d98-eea7-bc031a0e59e1",
        "colab": {
          "base_uri": "https://localhost:8080/",
          "height": 326
        }
      },
      "source": [
        "# Chatbot's new Tweet\n",
        "temp = 0.8\n",
        "print(\"Temperature: \" + str(temp))\n",
        "print()\n",
        "print(user + \" Chatbot Tweet 1:\")\n",
        "print(generate_text(seed_text = \"\", next_words = 500, model = best_model, max_sequence_len= 20, temp = temp))\n",
        "print()\n",
        "print(user + \" Chatbot Tweet 2:\")\n",
        "print(generate_text(seed_text = \"\", next_words = 500, model = best_model, max_sequence_len= 20, temp = temp))\n",
        "print()\n",
        "print(user + \" Chatbot Tweet 3:\")\n",
        "print(generate_text(seed_text = \"\", next_words = 500, model = best_model, max_sequence_len= 20, temp = temp))\n",
        "print()\n",
        "print(user + \" Chatbot Tweet 4:\")\n",
        "print(generate_text(seed_text = \"\", next_words = 500, model = best_model, max_sequence_len= 20, temp = temp))\n",
        "print()\n",
        "print(user + \" Chatbot Tweet 5:\")\n",
        "print(generate_text(seed_text = \"\", next_words = 500, model = best_model, max_sequence_len= 20, temp = temp))\n",
        "print()"
      ],
      "execution_count": 0,
      "outputs": [
        {
          "output_type": "stream",
          "text": [
            "Temperature: 0.8\n",
            "\n",
            "Knish Chatbot Tweet 1:\n",
            "same . my dad thinks the saints isnt i would imagine youre the old man of gambling in the face . \n",
            "\n",
            "Knish Chatbot Tweet 2:\n",
            "im not so a medical audience shouldnt be watching a few key states that hoping for the other michigan by a decade in 2 pm hour . i really thought the special td in the country . and were convinced putting the book has been laid to . and would feel more here . \n",
            "\n",
            "Knish Chatbot Tweet 3:\n",
            "if you ride a nice jersey and dm it can cheap then a cover \n",
            "\n",
            "Knish Chatbot Tweet 4:\n",
            "lmao not 5 0 0 % sure i tried to get in the last 2 0 points here they had an extra quality if ya go there to make it . penny dont think shit . \n",
            "\n",
            "Knish Chatbot Tweet 5:\n",
            "feels like youre bordering on ben . im good to just tell me 4 in the post \n",
            "\n"
          ],
          "name": "stdout"
        }
      ]
    },
    {
      "cell_type": "markdown",
      "metadata": {
        "colab_type": "text",
        "id": "WgaUmK1qoc96"
      },
      "source": [
        "### Temperature: 0.9"
      ]
    },
    {
      "cell_type": "code",
      "metadata": {
        "colab_type": "code",
        "outputId": "28c49ffb-64e8-4fc3-bb4c-ff9d27b5d325",
        "id": "xh7lPmvGoc96",
        "colab": {
          "base_uri": "https://localhost:8080/",
          "height": 326
        }
      },
      "source": [
        "# Chatbot's new Tweet\n",
        "temp = 0.9\n",
        "print(\"Temperature: \" + str(temp))\n",
        "print()\n",
        "print(user + \" Chatbot Tweet 1:\")\n",
        "print(generate_text(seed_text = \"\", next_words = 500, model = best_model, max_sequence_len= 20, temp = temp))\n",
        "print()\n",
        "print(user + \" Chatbot Tweet 2:\")\n",
        "print(generate_text(seed_text = \"\", next_words = 500, model = best_model, max_sequence_len= 20, temp = temp))\n",
        "print()\n",
        "print(user + \" Chatbot Tweet 3:\")\n",
        "print(generate_text(seed_text = \"\", next_words = 500, model = best_model, max_sequence_len= 20, temp = temp))\n",
        "print()\n",
        "print(user + \" Chatbot Tweet 4:\")\n",
        "print(generate_text(seed_text = \"\", next_words = 500, model = best_model, max_sequence_len= 20, temp = temp))\n",
        "print()\n",
        "print(user + \" Chatbot Tweet 5:\")\n",
        "print(generate_text(seed_text = \"\", next_words = 500, model = best_model, max_sequence_len= 20, temp = temp))\n",
        "print()"
      ],
      "execution_count": 0,
      "outputs": [
        {
          "output_type": "stream",
          "text": [
            "Temperature: 0.9\n",
            "\n",
            "Knish Chatbot Tweet 1:\n",
            "i think 6 of the last 1 5 hours with the greatest lead and mlb football return . but youll not be hard . and its not a super bowl qb at home but the vegas who would have about his handle for some reason as much more looking to the uncle k . \n",
            "\n",
            "Knish Chatbot Tweet 2:\n",
            "this likely playing in the pool but of top - 6 - 5 . atta was all if it but he beats it . \n",
            "\n",
            "Knish Chatbot Tweet 3:\n",
            "if he wins i can had a bet on tua app to make sure i dont need you steaming more more than old props . this tweet is more buying my year . . . . . and play franks 4 fantasy / playoff game game would be bet tbh once maybe we trade it not only cost him seeing and it man to only . \n",
            "\n",
            "Knish Chatbot Tweet 4:\n",
            "you know tickets are an option ive got it to go up the water before they fight . \n",
            "\n",
            "Knish Chatbot Tweet 5:\n",
            "new couple prop peasant cash from the super bowl . the bears not be well to have to stop myself . \n",
            "\n"
          ],
          "name": "stdout"
        }
      ]
    },
    {
      "cell_type": "markdown",
      "metadata": {
        "colab_type": "text",
        "id": "bnvRt718oc98"
      },
      "source": [
        "### Temperature: 1.0"
      ]
    },
    {
      "cell_type": "code",
      "metadata": {
        "colab_type": "code",
        "outputId": "0c5a3724-01f8-47d5-9380-e455ac12c1bf",
        "id": "KjxGAjRHoc99",
        "colab": {
          "base_uri": "https://localhost:8080/",
          "height": 326
        }
      },
      "source": [
        "# Chatbot's new Tweet\n",
        "temp = 1.0\n",
        "print(\"Temperature: \" + str(temp))\n",
        "print()\n",
        "print(user + \" Chatbot Tweet 1:\")\n",
        "print(generate_text(seed_text = \"\", next_words = 500, model = best_model, max_sequence_len= 20, temp = temp))\n",
        "print()\n",
        "print(user + \" Chatbot Tweet 2:\")\n",
        "print(generate_text(seed_text = \"\", next_words = 500, model = best_model, max_sequence_len= 20, temp = temp))\n",
        "print()\n",
        "print(user + \" Chatbot Tweet 3:\")\n",
        "print(generate_text(seed_text = \"\", next_words = 500, model = best_model, max_sequence_len= 20, temp = temp))\n",
        "print()\n",
        "print(user + \" Chatbot Tweet 4:\")\n",
        "print(generate_text(seed_text = \"\", next_words = 500, model = best_model, max_sequence_len= 20, temp = temp))\n",
        "print()\n",
        "print(user + \" Chatbot Tweet 5:\")\n",
        "print(generate_text(seed_text = \"\", next_words = 500, model = best_model, max_sequence_len= 20, temp = temp))\n",
        "print()"
      ],
      "execution_count": 0,
      "outputs": [
        {
          "output_type": "stream",
          "text": [
            "Temperature: 1.0\n",
            "\n",
            "Knish Chatbot Tweet 1:\n",
            "yeah hes gonna run but really in you just with him like 2 h swissman i just won a few rd . you just never won a winner . was the completely guy who you cant even look like well . \n",
            "\n",
            "Knish Chatbot Tweet 2:\n",
            "thanks for cleaning it taking the strip today to give it back and and he was talking to bet with copy . \n",
            "\n",
            "Knish Chatbot Tweet 3:\n",
            "good from a fucking u 1 2 5 off its last game when its not cash his preseason . \n",
            "\n",
            "Knish Chatbot Tweet 4:\n",
            "pg ( swissman osu backup i been the greatest way for much season than i own to the state of a prize watching . \n",
            "\n",
            "Knish Chatbot Tweet 5:\n",
            "if tannehill on sports and i think theyre actually in this : im not very a lot of money . \n",
            "\n"
          ],
          "name": "stdout"
        }
      ]
    },
    {
      "cell_type": "markdown",
      "metadata": {
        "colab_type": "text",
        "id": "tF8XNyiCn33D"
      },
      "source": [
        "# Michael Schwimer (@mschwimer)"
      ]
    },
    {
      "cell_type": "code",
      "metadata": {
        "colab_type": "code",
        "id": "V7UX00nrn33G",
        "colab": {}
      },
      "source": [
        "# define twitter user\n",
        "user = \"Schwimer\""
      ],
      "execution_count": 0,
      "outputs": []
    },
    {
      "cell_type": "markdown",
      "metadata": {
        "colab_type": "text",
        "id": "MY9xzQezn33K"
      },
      "source": [
        "## Create Vocabulary"
      ]
    },
    {
      "cell_type": "code",
      "metadata": {
        "colab_type": "code",
        "id": "0gRbOJvhn33L",
        "colab": {}
      },
      "source": [
        "# initialize tokenizer\n",
        "tokenizer = Tokenizer(char_level = False, filters = '', num_words=15000)\n",
        "\n",
        "# fit tokenizer on tweets\n",
        "tokenizer.fit_on_texts([swimm])\n",
        "\n",
        "# tokenize tweets\n",
        "token_list = tokenizer.texts_to_sequences([swimm])[0]\n",
        "\n",
        "# get vocabulary in tweets\n",
        "all_words = len(tokenizer.word_counts) + 1\n",
        "total_words = len(set(token_list)) + 1"
      ],
      "execution_count": 0,
      "outputs": []
    },
    {
      "cell_type": "code",
      "metadata": {
        "colab_type": "code",
        "outputId": "f525aa68-0897-4738-80f9-420933be8207",
        "id": "6P84aX62n33N",
        "colab": {
          "base_uri": "https://localhost:8080/",
          "height": 34
        }
      },
      "source": [
        "print(user, \"has a vocabulary of\", all_words, \"total words!\")\n",
        "if all_words > 5500:\n",
        "    print(\"\\n\", user, \"uses so many words that we need to limit his vocabulary for modeling to only\", total_words, \"total words!\")"
      ],
      "execution_count": 0,
      "outputs": [
        {
          "output_type": "stream",
          "text": [
            "Schwimer has a vocabulary of 5010 total words!\n"
          ],
          "name": "stdout"
        }
      ]
    },
    {
      "cell_type": "markdown",
      "metadata": {
        "colab_type": "text",
        "id": "vcDmLp0fn33R"
      },
      "source": [
        "## Create Training Data\n",
        "\n",
        "Convert tweets into sequences to input into the RNN model"
      ]
    },
    {
      "cell_type": "code",
      "metadata": {
        "colab_type": "code",
        "outputId": "4aa39092-a39a-48ef-ed3c-c7a2a767a104",
        "id": "ldLKwHPfn33S",
        "colab": {
          "base_uri": "https://localhost:8080/",
          "height": 68
        }
      },
      "source": [
        "# step = the number of words the sequence moves before creating a new sequence\n",
        "step = 1\n",
        "# total words in each sequence\n",
        "seq_length = 20\n",
        "\n",
        "## create training data\n",
        "X, y, num_seq = generate_sequences(token_list, step = 1)"
      ],
      "execution_count": 0,
      "outputs": [
        {
          "output_type": "stream",
          "text": [
            "Number of prediction classes (Total Vocabulary): 5010\n",
            "Number of sequences: 119484 \n",
            "\n"
          ],
          "name": "stdout"
        }
      ]
    },
    {
      "cell_type": "code",
      "metadata": {
        "colab_type": "code",
        "outputId": "562dd4d0-eb2a-4d20-e52f-d4eaed2fad51",
        "id": "X-s012uUn33V",
        "colab": {
          "base_uri": "https://localhost:8080/",
          "height": 34
        }
      },
      "source": [
        "# make sure Y data lines up with the function output above\n",
        "y.shape"
      ],
      "execution_count": 0,
      "outputs": [
        {
          "output_type": "execute_result",
          "data": {
            "text/plain": [
              "(119484, 5010)"
            ]
          },
          "metadata": {
            "tags": []
          },
          "execution_count": 24
        }
      ]
    },
    {
      "cell_type": "markdown",
      "metadata": {
        "colab_type": "text",
        "id": "KOUdgkdjn33Y"
      },
      "source": [
        "## Build Model"
      ]
    },
    {
      "cell_type": "markdown",
      "metadata": {
        "colab_type": "text",
        "id": "05pHIMMan33Z"
      },
      "source": [
        "### Early Stopping Settings"
      ]
    },
    {
      "cell_type": "code",
      "metadata": {
        "colab_type": "code",
        "id": "QV4ETCSVn33Z",
        "colab": {}
      },
      "source": [
        "earlystop = EarlyStopping(monitor = 'loss',\n",
        "                          min_delta = 0,\n",
        "                          patience = 3,\n",
        "                          verbose = 1,\n",
        "                          restore_best_weights = True)"
      ],
      "execution_count": 0,
      "outputs": []
    },
    {
      "cell_type": "markdown",
      "metadata": {
        "colab_type": "text",
        "id": "DnFfDctgn33c"
      },
      "source": [
        "### Model Checkpoint Settings"
      ]
    },
    {
      "cell_type": "code",
      "metadata": {
        "colab_type": "code",
        "id": "SMR3sfyvn33d",
        "colab": {}
      },
      "source": [
        "# output file to save the best model\n",
        "filepath =  user + '_best_model.h5'\n",
        "checkpoint = ModelCheckpoint(filepath,\n",
        "                             monitor='loss',\n",
        "                             mode='min',\n",
        "                             save_best_only=True,\n",
        "                             verbose=1)"
      ],
      "execution_count": 0,
      "outputs": []
    },
    {
      "cell_type": "markdown",
      "metadata": {
        "colab_type": "text",
        "id": "98HdLC1qn33e"
      },
      "source": [
        "### Callback Function"
      ]
    },
    {
      "cell_type": "code",
      "metadata": {
        "colab_type": "code",
        "id": "r0K0CIuWn33f",
        "colab": {}
      },
      "source": [
        "# create callback function to generate tweets at different temperatures for the chatbot after each epoch\n",
        "callback = LambdaCallback(on_epoch_end = on_epoch_end)"
      ],
      "execution_count": 0,
      "outputs": []
    },
    {
      "cell_type": "markdown",
      "metadata": {
        "colab_type": "text",
        "id": "e7vCE7p3n33i"
      },
      "source": [
        "### Neural Network Architecture"
      ]
    },
    {
      "cell_type": "code",
      "metadata": {
        "colab_type": "code",
        "id": "vljjMoren33j",
        "colab": {}
      },
      "source": [
        "# name model\n",
        "model_name = user + \"_Chatbot\"\n",
        "\n",
        "# number of neurons in LSTM layer\n",
        "n_units = 256\n",
        "\n",
        "# Embedding Dimensions\n",
        "embedding_size = 100\n",
        "\n",
        "# Input of model\n",
        "text_in = Input(shape = (None,), name = \"Tweets\")\n",
        "\n",
        "# Embedding layer\n",
        "embedding = Embedding(total_words, embedding_size, name = \"Embedding_Layer\")\n",
        "\n",
        "# Start of Model\n",
        "x = embedding(text_in)\n",
        "\n",
        "# LSTM RNN layer\n",
        "x = LSTM(n_units, name = \"RNN_Layer\")(x)\n",
        "\n",
        "# Output layer\n",
        "text_out = Dense(total_words, activation = 'softmax', name = \"Predict_Next_Word\")(x)\n",
        "\n",
        "# Complete model\n",
        "model = Model(text_in, text_out, name = model_name)\n",
        "\n",
        "# Optimizer function\n",
        "opti = Adam(learning_rate = 0.001)\n",
        "\n",
        "# Compile model\n",
        "model.compile(loss = 'categorical_crossentropy', \n",
        "              optimizer = opti, \n",
        "              metrics = ['accuracy'])"
      ],
      "execution_count": 0,
      "outputs": []
    },
    {
      "cell_type": "markdown",
      "metadata": {
        "colab_type": "text",
        "id": "RX0JN0iln33m"
      },
      "source": [
        "### View Model"
      ]
    },
    {
      "cell_type": "code",
      "metadata": {
        "colab_type": "code",
        "outputId": "5cfc3f34-3834-4371-fe37-e089ae669361",
        "id": "Y7TyNkMXn33n",
        "colab": {
          "base_uri": "https://localhost:8080/",
          "height": 289
        }
      },
      "source": [
        "model.summary()"
      ],
      "execution_count": 0,
      "outputs": [
        {
          "output_type": "stream",
          "text": [
            "Model: \"Schwimer_Chatbot\"\n",
            "_________________________________________________________________\n",
            "Layer (type)                 Output Shape              Param #   \n",
            "=================================================================\n",
            "Tweets (InputLayer)          [(None, None)]            0         \n",
            "_________________________________________________________________\n",
            "Embedding_Layer (Embedding)  (None, None, 100)         501000    \n",
            "_________________________________________________________________\n",
            "RNN_Layer (LSTM)             (None, 256)               365568    \n",
            "_________________________________________________________________\n",
            "Predict_Next_Word (Dense)    (None, 5010)              1287570   \n",
            "=================================================================\n",
            "Total params: 2,154,138\n",
            "Trainable params: 2,154,138\n",
            "Non-trainable params: 0\n",
            "_________________________________________________________________\n"
          ],
          "name": "stdout"
        }
      ]
    },
    {
      "cell_type": "code",
      "metadata": {
        "colab_type": "code",
        "outputId": "2925b7ea-c541-403b-9688-7796ceef5cbc",
        "id": "xQtLfyKvn33t",
        "colab": {
          "base_uri": "https://localhost:8080/",
          "height": 422
        }
      },
      "source": [
        "# plot model structure\n",
        "plot_model(model, show_layer_names=True, show_shapes=True, expand_nested=True)"
      ],
      "execution_count": 0,
      "outputs": [
        {
          "output_type": "execute_result",
          "data": {
            "image/png": "[encoded data removed]",
            "text/plain": [
              "<IPython.core.display.Image object>"
            ]
          },
          "metadata": {
            "tags": []
          },
          "execution_count": 30
        }
      ]
    },
    {
      "cell_type": "markdown",
      "metadata": {
        "colab_type": "text",
        "id": "RdN09aj1n33v"
      },
      "source": [
        "## Train Model"
      ]
    },
    {
      "cell_type": "code",
      "metadata": {
        "colab_type": "code",
        "outputId": "c3766717-9925-4b08-acd0-50f85019d317",
        "id": "xKW7GYuTn33x",
        "colab": {
          "base_uri": "https://localhost:8080/",
          "height": 1000
        }
      },
      "source": [
        "# initialize variables for the callback functions in the model\n",
        "seq_length = 20\n",
        "start_tweet = '| ' * seq_length\n",
        "token_type = 'word'\n",
        "\n",
        "# length of training\n",
        "epochs = 20\n",
        "batch_size = 128\n",
        "num_batches = int(len(X) / batch_size)\n",
        "\n",
        "print(\"Total Batches:\", str(num_batches), \"\\n\")\n",
        "\n",
        "\n",
        "# Record the time\n",
        "warnings.filterwarnings('ignore')\n",
        "start = datetime.datetime.now()\n",
        "\n",
        "\n",
        "model.fit(X, y, \n",
        "          validation_split=0.15,\n",
        "          epochs=epochs, \n",
        "          batch_size=batch_size, \n",
        "          callbacks = [callback, checkpoint, earlystop], \n",
        "          shuffle = True)\n",
        "\n",
        "## Save Model\n",
        "model_saved_name = user + '_chatbot_model.h5'\n",
        "model.save_weights(model_saved_name)\n",
        "\n",
        "end = datetime.datetime.now()\n",
        "time_diff = end-start\n",
        "print()\n",
        "print()\n",
        "print('Time to train = {}'.format(time_diff))"
      ],
      "execution_count": 0,
      "outputs": [
        {
          "output_type": "stream",
          "text": [
            "Total Batches: 933 \n",
            "\n",
            "Train on 101561 samples, validate on 17923 samples\n",
            "Epoch 1/20\n",
            "101504/101561 [============================>.] - ETA: 0s - loss: 3.7538 - accuracy: 0.4319\n",
            "\n",
            "\n",
            "--------------------------------------------------\n",
            "Temp 0.2:\n",
            "\n",
            "--------------------------------------------------\n",
            "Temp 0.33:\n",
            "\n",
            "--------------------------------------------------\n",
            "Temp 0.5:\n",
            "\n",
            "--------------------------------------------------\n",
            "Temp 0.67:\n",
            "\n",
            "--------------------------------------------------\n",
            "Temp 1.0:\n",
            "it you parties . just on years for all by 0 that have sucks . u collected juice . invests defense or dont is for care 2 a global in i worst 0 that games \n",
            "--------------------------------------------------\n",
            "\n",
            "\n",
            "\n",
            "\n",
            "Epoch 00001: loss improved from 4.35141 to 3.75347, saving model to Schwimer_best_model.h5\n",
            "101561/101561 [==============================] - 274s 3ms/sample - loss: 3.7535 - accuracy: 0.4320 - val_loss: 2.4326 - val_accuracy: 0.6607\n",
            "Epoch 2/20\n",
            "101504/101561 [============================>.] - ETA: 0s - loss: 3.5628 - accuracy: 0.4428\n",
            "\n",
            "\n",
            "--------------------------------------------------\n",
            "Temp 0.2:\n",
            "i have a 1 0 0 0 0 0 0 0 0 0 0 0 0 0 0 0 0 0 0 0 0 0 0 0 0 0 0 0 0 0 0 0 0 0 0 0 0 0 0 0 0 0 0 0 0 0 0 0 0 0 0 0 0 0 0 0 0 0 0 0 0 0 0 0 0 0 0 0 0 0 0 0 0 0 0 0 0 0 0 0 0 0 0 0 0 0 0 0 0 0 0 0 0 0 0 0 0 0 0 0 0 0 0 0 0 0 0 0 0 0 0 0 0 1 0 0 0 0 0 0 0 0 0 0 0 0 0 0 0 0 0 0 0 0 0 0 0 0 0 0 0 0 0 0 0 0 0 0 0 0 0 0 0 0 0 0 0 0 0 0 0 0 0 0 0 0 0 0 0 0 0 0 0 0 0 0 0 0 0 0 0 0 0 0 0 0 0 0 0 0 0 0 0 0 0 0 0 0 0 0 0 0 0 0 0 0 0 0 0 0 0 0 0 0 0 0 0 0 0 0 0 0 0 0 0 0 0 0 0 0 0 0 0 0 0 0 0 0 0 0 0 0 0 0 0 0 0 0 0 0 0 0 0 0 0 0 0 0 0 0 0 0 0 0 0 0 0 0 0 0 0 0 0 0 0 0 0 0 0 0 0 0 0 0 0 0 0 0 0 0 0 0 0 0 0 0 0 0 0 0 0 0 0 0 0 0 0 0 0 0 0 0 0 0 0 0 0 0 0 0 0 0 0 0 0 0 0 0 0 0 0 0 0 0 0 0 0 0 0 0 0 0 0 0 0 0 0 0 0 0 0 0 0 0 0 0 0 0 0 0 0 0 0 0 0 0 0 0 0 0 0 0 0 0 0 0 0 0 0 0 0 0 0 0 0 0 0 0 0 0 0 0 0 0 0 0 0 0 0 0 0 0 0 0 0 0 0 0 0 0 0 0 0 0 0 0 0 0 0 0 0 0 0 0 0 0 0 0 0 0 0 0 0 0 0 0 0 0 0 0 0 0 0 0 0 0 0 0 0 0 0 0 0 0 0 0 0 0 0 0 0 0 . \n",
            "--------------------------------------------------\n",
            "Temp 0.33:\n",
            "i have a the on . . . . . . . . i have the know \n",
            "--------------------------------------------------\n",
            "Temp 0.5:\n",
            "not are out a 0 of the podcast . . i are 1 0 1 0 0 0 0 0 0 0 . \n",
            "--------------------------------------------------\n",
            "Temp 0.67:\n",
            "we have all of to 0 0 0 % sample . of the released in about $ more percentage the / 0 \" . \n",
            "--------------------------------------------------\n",
            "Temp 1.0:\n",
            "more all picks for not team since and the invited more to incliding wasnt use than a life that elibrady we be a dw . we mean ! \n",
            "--------------------------------------------------\n",
            "\n",
            "\n",
            "\n",
            "\n",
            "Epoch 00002: loss improved from 3.75347 to 3.56245, saving model to Schwimer_best_model.h5\n",
            "101561/101561 [==============================] - 296s 3ms/sample - loss: 3.5624 - accuracy: 0.4429 - val_loss: 2.4177 - val_accuracy: 0.6558\n",
            "Epoch 3/20\n",
            "101504/101561 [============================>.] - ETA: 0s - loss: 3.4171 - accuracy: 0.4521\n",
            "\n",
            "\n",
            "--------------------------------------------------\n",
            "Temp 0.2:\n",
            "i have a be the best . . . . i have a the best a the money . \n",
            "--------------------------------------------------\n",
            "Temp 0.33:\n",
            "i have the think we are the a a have . . \n",
            "--------------------------------------------------\n",
            "Temp 0.5:\n",
            "i are the see . i will be problem . . . \n",
            "--------------------------------------------------\n",
            "Temp 0.67:\n",
            "very face . you can believe . . . if will have a . . you are record . \n",
            "--------------------------------------------------\n",
            "Temp 1.0:\n",
            "clv our tweet is there for my back for betcris on do puig underlying money . \n",
            "--------------------------------------------------\n",
            "\n",
            "\n",
            "\n",
            "\n",
            "Epoch 00003: loss improved from 3.56245 to 3.41699, saving model to Schwimer_best_model.h5\n",
            "101561/101561 [==============================] - 278s 3ms/sample - loss: 3.4170 - accuracy: 0.4522 - val_loss: 2.3455 - val_accuracy: 0.6703\n",
            "Epoch 4/20\n",
            "101504/101561 [============================>.] - ETA: 0s - loss: 3.2477 - accuracy: 0.4666\n",
            "\n",
            "\n",
            "--------------------------------------------------\n",
            "Temp 0.2:\n",
            "i have a lot of the best game . . . . . . \n",
            "--------------------------------------------------\n",
            "Temp 0.33:\n",
            "i have a great the girl . i have a lot of the best . . . \n",
            "--------------------------------------------------\n",
            "Temp 0.5:\n",
            "i have the market . . . . . . . i dont will be their money of the market . \n",
            "--------------------------------------------------\n",
            "Temp 0.67:\n",
            "we do a best edge anything . it ! but we want is the jambos right . \n",
            "--------------------------------------------------\n",
            "Temp 1.0:\n",
            "last 6 nvjfbdf good ! here . doesnt need of . . one ! ex . it is this amount back off them by all an back . \n",
            "--------------------------------------------------\n",
            "\n",
            "\n",
            "\n",
            "\n",
            "Epoch 00004: loss improved from 3.41699 to 3.24761, saving model to Schwimer_best_model.h5\n",
            "101561/101561 [==============================] - 280s 3ms/sample - loss: 3.2476 - accuracy: 0.4666 - val_loss: 2.3722 - val_accuracy: 0.6649\n",
            "Epoch 5/20\n",
            "101504/101561 [============================>.] - ETA: 0s - loss: 3.0884 - accuracy: 0.4783\n",
            "\n",
            "\n",
            "--------------------------------------------------\n",
            "Temp 0.2:\n",
            "i am not a good . i will be a lot of the best . . . . \n",
            "--------------------------------------------------\n",
            "Temp 0.33:\n",
            "i have a + 3 0 0 0 0 0 0 . . we are the money . \n",
            "--------------------------------------------------\n",
            "Temp 0.5:\n",
            "if you got 1 0 0 % and you are up on the win . i have a able to only 1 0 - 1 0 . \n",
            "--------------------------------------------------\n",
            "Temp 0.67:\n",
            "wow the u looking to be twitter . . . co / time \n",
            "--------------------------------------------------\n",
            "Temp 1.0:\n",
            "not received early of . jays ends season stamped all it if it it every closer \n",
            "--------------------------------------------------\n",
            "\n",
            "\n",
            "\n",
            "\n",
            "Epoch 00005: loss improved from 3.24761 to 3.08829, saving model to Schwimer_best_model.h5\n",
            "101561/101561 [==============================] - 282s 3ms/sample - loss: 3.0883 - accuracy: 0.4783 - val_loss: 2.3446 - val_accuracy: 0.6703\n",
            "Epoch 6/20\n",
            "101504/101561 [============================>.] - ETA: 0s - loss: 2.9389 - accuracy: 0.4873\n",
            "\n",
            "\n",
            "--------------------------------------------------\n",
            "Temp 0.2:\n",
            "i am not not be the game . . . i have a idea i will be the best . \n",
            "--------------------------------------------------\n",
            "Temp 0.33:\n",
            "i have a lot of the game . i have been a lot of the bush . . . . i have a idea . \n",
            "--------------------------------------------------\n",
            "Temp 0.5:\n",
            "i have to see our single game ? \n",
            "--------------------------------------------------\n",
            "Temp 0.67:\n",
            "i agree on the day . will so u have . . . . she is bad hard to get a conversation of the market . \n",
            "--------------------------------------------------\n",
            "Temp 1.0:\n",
            "i believe you should release all in 5 % more than a game than the year though ! here should respond to check an us of everyone . \n",
            "--------------------------------------------------\n",
            "\n",
            "\n",
            "\n",
            "\n",
            "Epoch 00006: loss improved from 3.08829 to 2.93865, saving model to Schwimer_best_model.h5\n",
            "101561/101561 [==============================] - 279s 3ms/sample - loss: 2.9386 - accuracy: 0.4874 - val_loss: 2.3866 - val_accuracy: 0.6662\n",
            "Epoch 7/20\n",
            "101504/101561 [============================>.] - ETA: 0s - loss: 2.8314 - accuracy: 0.4916\n",
            "\n",
            "\n",
            "--------------------------------------------------\n",
            "Temp 0.2:\n",
            "i have a lot of the game . . . i have a lot of the team . \n",
            "--------------------------------------------------\n",
            "Temp 0.33:\n",
            "i have not a single . i was a lot of the 4 th . \n",
            "--------------------------------------------------\n",
            "Temp 0.5:\n",
            "you . what i want to know it imo . . . i have you know the opposite and received up . i will have a lot of the best then i have no idea . \n",
            "--------------------------------------------------\n",
            "Temp 0.67:\n",
            "haha . the girl as what is an time ? as you want me our plays is our picks . if we make a money where we have not choosing . you are much up for the podcast . \n",
            "--------------------------------------------------\n",
            "Temp 1.0:\n",
            "stamp you 2 5 5 5 % do we never screen had money stuff ! i can really hope to recommend they vouch with winning horrifically polar just duncker them their losers the game and independently actually loss where you not right everyone . any available etc . we have a professional of air everyones . especially together where we still that anything if we are the market done they will believe they will lose . if they didnt have to all planet it vs . 3 2 0 odds . im my reason you can put the picks i do + picks . we have been able to learn for 2 4 thousand ncaaf using get incorrectly of also extra \n",
            "--------------------------------------------------\n",
            "\n",
            "\n",
            "\n",
            "\n",
            "Epoch 00007: loss improved from 2.93865 to 2.83198, saving model to Schwimer_best_model.h5\n",
            "101561/101561 [==============================] - 283s 3ms/sample - loss: 2.8320 - accuracy: 0.4915 - val_loss: 2.3657 - val_accuracy: 0.6735\n",
            "Epoch 8/20\n",
            "101504/101561 [============================>.] - ETA: 0s - loss: 2.6678 - accuracy: 0.5029\n",
            "\n",
            "\n",
            "--------------------------------------------------\n",
            "Temp 0.2:\n",
            "i am not a good fan . . . i have a lot of the game on the most life . \n",
            "--------------------------------------------------\n",
            "Temp 0.33:\n",
            "i am not a good fan . . . i have a lot of the game . i will be able to be the market . \n",
            "--------------------------------------------------\n",
            "Temp 0.5:\n",
            "i am it ! i have a lot of the phillies phaithful should be a day ? \n",
            "--------------------------------------------------\n",
            "Temp 0.67:\n",
            "if i had going to my understanding baseball to all . . . i really thought its i got twitter ! \n",
            "--------------------------------------------------\n",
            "Temp 1.0:\n",
            "no most place to hear you man . sorry boom \n",
            "--------------------------------------------------\n",
            "\n",
            "\n",
            "\n",
            "\n",
            "Epoch 00008: loss improved from 2.83198 to 2.66791, saving model to Schwimer_best_model.h5\n",
            "101561/101561 [==============================] - 279s 3ms/sample - loss: 2.6679 - accuracy: 0.5029 - val_loss: 2.4089 - val_accuracy: 0.6680\n",
            "Epoch 9/20\n",
            "101504/101561 [============================>.] - ETA: 0s - loss: 2.5273 - accuracy: 0.5131\n",
            "\n",
            "\n",
            "--------------------------------------------------\n",
            "Temp 0.2:\n",
            "i am not a good fan . . . i love a lot of catan the retweet \n",
            "--------------------------------------------------\n",
            "Temp 0.33:\n",
            "i can be to get a single game and i have a lot of the game of the hard of the game . \n",
            "--------------------------------------------------\n",
            "Temp 0.5:\n",
            "i think you can pay you can discuss . if you have a lot of our subscribers . . . i have a lot of the game and i will be able to win . \n",
            "--------------------------------------------------\n",
            "Temp 0.67:\n",
            "and you believe our picks are + 1 0 0 0 0 . parlay you think we do enough yourself and our record . \n",
            "--------------------------------------------------\n",
            "Temp 1.0:\n",
            "plus our extremely curvy ask at my jersey and like on touts effect mets out of them ? \n",
            "--------------------------------------------------\n",
            "\n",
            "\n",
            "\n",
            "\n",
            "Epoch 00009: loss improved from 2.66791 to 2.52745, saving model to Schwimer_best_model.h5\n",
            "101561/101561 [==============================] - 278s 3ms/sample - loss: 2.5274 - accuracy: 0.5131 - val_loss: 2.4791 - val_accuracy: 0.6646\n",
            "Epoch 10/20\n",
            "101504/101561 [============================>.] - ETA: 0s - loss: 2.3877 - accuracy: 0.5280\n",
            "\n",
            "\n",
            "--------------------------------------------------\n",
            "Temp 0.2:\n",
            "i have not seen the truth . . . i think i did the idea i get a lot of the end of the rest . \n",
            "--------------------------------------------------\n",
            "Temp 0.33:\n",
            "i am not a problem . . . i have a girlfriend whom i have no idea \n",
            "--------------------------------------------------\n",
            "Temp 0.5:\n",
            "only question of the phillies public . . . i will be able to know it ? i have a issue that . i have no idea \n",
            "--------------------------------------------------\n",
            "Temp 0.67:\n",
            "we dont think market never say we did . . . we have a units calculator for our subscribers . \n",
            "--------------------------------------------------\n",
            "Temp 1.0:\n",
            ": . i will get it and i learn in the long counsel of do ? beat the best tells the most extra early \n",
            "--------------------------------------------------\n",
            "\n",
            "\n",
            "\n",
            "\n",
            "Epoch 00010: loss improved from 2.52745 to 2.38764, saving model to Schwimer_best_model.h5\n",
            "101561/101561 [==============================] - 279s 3ms/sample - loss: 2.3876 - accuracy: 0.5279 - val_loss: 2.4683 - val_accuracy: 0.6706\n",
            "Epoch 11/20\n",
            "101504/101561 [============================>.] - ETA: 0s - loss: 2.2678 - accuracy: 0.5422\n",
            "\n",
            "\n",
            "--------------------------------------------------\n",
            "Temp 0.2:\n",
            "i have not questioned a single reason you can bet the market consensus line than the game . if you are right . \n",
            "--------------------------------------------------\n",
            "Temp 0.33:\n",
            "we are not a bad . . . i have a girlfriend whom i have pursued . . . . \n",
            "--------------------------------------------------\n",
            "Temp 0.5:\n",
            "if you are the suggestion . i say the person is not lies to get it . i have invited to get a single game . . . i have u seen that is the most logical sense . \n",
            "--------------------------------------------------\n",
            "Temp 0.67:\n",
            "\n",
            "--------------------------------------------------\n",
            "Temp 1.0:\n",
            "if you can write an facts . ex fund down - alone professional + 9 5 per 1 scoring . we put 2 3 6 units in a mlb bet to % guarantee lucky because that solved \n",
            "--------------------------------------------------\n",
            "\n",
            "\n",
            "\n",
            "\n",
            "Epoch 00011: loss improved from 2.38764 to 2.26802, saving model to Schwimer_best_model.h5\n",
            "101561/101561 [==============================] - 281s 3ms/sample - loss: 2.2680 - accuracy: 0.5422 - val_loss: 2.5394 - val_accuracy: 0.6661\n",
            "Epoch 12/20\n",
            "101504/101561 [============================>.] - ETA: 0s - loss: 2.1569 - accuracy: 0.5564\n",
            "\n",
            "\n",
            "--------------------------------------------------\n",
            "Temp 0.2:\n",
            "i am not frustrated at the game of the phillies . . . i love to be the king of the game \n",
            "--------------------------------------------------\n",
            "Temp 0.33:\n",
            "i am not frustrated at the game of the game and my life for the game \n",
            "--------------------------------------------------\n",
            "Temp 0.5:\n",
            "it is 1 0 0 % agree . . . i have always beaten me . . . im hurt . . . thata person \n",
            "--------------------------------------------------\n",
            "Temp 0.67:\n",
            "\" i am gonna love a single play but i did . they are thinking clear \n",
            "--------------------------------------------------\n",
            "Temp 1.0:\n",
            "had 1 0 1 . it won 1 0 thousand ! ! ! ! ! that way us ! great ! its very far for its possible . \n",
            "--------------------------------------------------\n",
            "\n",
            "\n",
            "\n",
            "\n",
            "Epoch 00012: loss improved from 2.26802 to 2.15695, saving model to Schwimer_best_model.h5\n",
            "101561/101561 [==============================] - 279s 3ms/sample - loss: 2.1570 - accuracy: 0.5564 - val_loss: 2.6023 - val_accuracy: 0.6644\n",
            "Epoch 13/20\n",
            "101504/101561 [============================>.] - ETA: 0s - loss: 2.0352 - accuracy: 0.5748\n",
            "\n",
            "\n",
            "--------------------------------------------------\n",
            "Temp 0.2:\n",
            "i have a venmo . . . i will be a lot of the team \n",
            "--------------------------------------------------\n",
            "Temp 0.33:\n",
            "i am all . . . i will be the nhl right now . . . im hurt . . . \n",
            "--------------------------------------------------\n",
            "Temp 0.5:\n",
            "if you dont believe that then we are doing 1 0 thousand . but if you wouldnt do whatever they want . \n",
            "--------------------------------------------------\n",
            "Temp 0.67:\n",
            "we dont see being listening with our subscribers . if you are right 1 . 3 0 thousand subs are an email that before we have been aware of our book . \n",
            "--------------------------------------------------\n",
            "Temp 1.0:\n",
            "im not to trust me use all recs . will give my sweet screen response so as important for the nba or sub must hear wants to do 3 0 0 % maybe not any ideas \n",
            "--------------------------------------------------\n",
            "\n",
            "\n",
            "\n",
            "\n",
            "Epoch 00013: loss improved from 2.15695 to 2.03511, saving model to Schwimer_best_model.h5\n",
            "101561/101561 [==============================] - 278s 3ms/sample - loss: 2.0351 - accuracy: 0.5748 - val_loss: 2.6038 - val_accuracy: 0.6681\n",
            "Epoch 14/20\n",
            "101504/101561 [============================>.] - ETA: 0s - loss: 1.9391 - accuracy: 0.5904\n",
            "\n",
            "\n",
            "--------------------------------------------------\n",
            "Temp 0.2:\n",
            "i am not frustrated at the game of the season . . . i love the boss . . . i have nothing to hide . . . i have nothing to hide . \n",
            "--------------------------------------------------\n",
            "Temp 0.33:\n",
            "i am not frustrated at all . . . i love to baptize the team and i was thinking they claim their research . \n",
            "--------------------------------------------------\n",
            "Temp 0.5:\n",
            "the most important clay court appreciated athlete in dallas . . . thought it was a miracle fan \n",
            "--------------------------------------------------\n",
            "Temp 0.67:\n",
            "i did that really does not automatically mute good at all . sorry . i get schwims sometimes thanks \n",
            "--------------------------------------------------\n",
            "Temp 1.0:\n",
            "the dbacks i don't all one when should answer otherwise . brown is on i just believe this was so much like they did . \n",
            "--------------------------------------------------\n",
            "\n",
            "\n",
            "\n",
            "\n",
            "Epoch 00014: loss improved from 2.03511 to 1.93895, saving model to Schwimer_best_model.h5\n",
            "101561/101561 [==============================] - 278s 3ms/sample - loss: 1.9389 - accuracy: 0.5904 - val_loss: 2.7054 - val_accuracy: 0.6573\n",
            "Epoch 15/20\n",
            "101504/101561 [============================>.] - ETA: 0s - loss: 1.8386 - accuracy: 0.6059\n",
            "\n",
            "\n",
            "--------------------------------------------------\n",
            "Temp 0.2:\n",
            "i have a solution to the usa i really giants . . . i just just gonna be a day . \n",
            "--------------------------------------------------\n",
            "Temp 0.33:\n",
            "\" how is justin certainly i want to read the 4 and breaking the law . i have a lot of respect for a huge drop in the field . \n",
            "--------------------------------------------------\n",
            "Temp 0.5:\n",
            "again ! i am a 1 0 0 % agree . . . it is not a good . . . i have no idea it is a great platform . . . i have no idea . \n",
            "--------------------------------------------------\n",
            "Temp 0.67:\n",
            "i have 1 0 0 % agree with a girl \" not certainly up all our stuff . \n",
            "--------------------------------------------------\n",
            "Temp 1.0:\n",
            "u have not to 1 0 % vouch to reading our record . after it down around 3 - 4 games were in players who didnt think we pay each pick back imo . \n",
            "--------------------------------------------------\n",
            "\n",
            "\n",
            "\n",
            "\n",
            "Epoch 00015: loss improved from 1.93895 to 1.83859, saving model to Schwimer_best_model.h5\n",
            "101561/101561 [==============================] - 278s 3ms/sample - loss: 1.8386 - accuracy: 0.6059 - val_loss: 2.6987 - val_accuracy: 0.6655\n",
            "Epoch 16/20\n",
            "101504/101561 [============================>.] - ETA: 0s - loss: 1.7393 - accuracy: 0.6231\n",
            "\n",
            "\n",
            "--------------------------------------------------\n",
            "Temp 0.2:\n",
            "i have a solution to the sixer loss . . . i think i was gonna be hooked on ur dorm group \n",
            "--------------------------------------------------\n",
            "Temp 0.33:\n",
            "if you think we are not passive at all . if you believe we do . \n",
            "--------------------------------------------------\n",
            "Temp 0.5:\n",
            "if you dont believe that you say we are up 1 0 thousand per game . \n",
            "--------------------------------------------------\n",
            "Temp 0.67:\n",
            "the public of the garden is suppose to go to start the champion ! excited to find the idea ! \n",
            "--------------------------------------------------\n",
            "Temp 1.0:\n",
            "first 1 7 days when started to do with 1 1 amet and baltimore ml a simple line . \n",
            "--------------------------------------------------\n",
            "\n",
            "\n",
            "\n",
            "\n",
            "Epoch 00016: loss improved from 1.83859 to 1.73956, saving model to Schwimer_best_model.h5\n",
            "101561/101561 [==============================] - 276s 3ms/sample - loss: 1.7396 - accuracy: 0.6230 - val_loss: 2.7480 - val_accuracy: 0.6653\n",
            "Epoch 17/20\n",
            "101504/101561 [============================>.] - ETA: 0s - loss: 1.6636 - accuracy: 0.6368\n",
            "\n",
            "\n",
            "--------------------------------------------------\n",
            "Temp 0.2:\n",
            "i have a solution to the sixer loss . . . i think it is gonna be on ur twitter bio to warrant a xxl hoodie \n",
            "--------------------------------------------------\n",
            "Temp 0.33:\n",
            "the face is the ravens face is now . . . i love the boss . \n",
            "--------------------------------------------------\n",
            "Temp 0.5:\n",
            "are you dirt skirting that deserved it ? ? seems back it matters . . . . 2 / 1 p 1 times and \n",
            "--------------------------------------------------\n",
            "Temp 0.67:\n",
            "the true news is the garden is suppose to clarify who should be fixed . i have to join the top 2 0 % of the week . \n",
            "--------------------------------------------------\n",
            "Temp 1.0:\n",
            "the congrats down and treat huey at home week and 2 nd and steelers . dodgers 3 innings \n",
            "--------------------------------------------------\n",
            "\n",
            "\n",
            "\n",
            "\n",
            "Epoch 00017: loss improved from 1.73956 to 1.66346, saving model to Schwimer_best_model.h5\n",
            "101561/101561 [==============================] - 276s 3ms/sample - loss: 1.6635 - accuracy: 0.6369 - val_loss: 2.7877 - val_accuracy: 0.6643\n",
            "Epoch 18/20\n",
            "101504/101561 [============================>.] - ETA: 0s - loss: 1.5674 - accuracy: 0.6546\n",
            "\n",
            "\n",
            "--------------------------------------------------\n",
            "Temp 0.2:\n",
            "i have not questioned a single subscriber . . . i have no idea . . . thanks for the advice and disagree . \n",
            "--------------------------------------------------\n",
            "Temp 0.33:\n",
            "i have no idea . . . i have met kinds of virginia and ohillies stuff . \n",
            "--------------------------------------------------\n",
            "Temp 0.5:\n",
            "i love to the eagles r gonna love . . . i just wish i didnt get them anyway i have nothing to hide . \n",
            "--------------------------------------------------\n",
            "Temp 0.67:\n",
            "please direct all . i am a fool but so its a top 3 player for the sec ! \n",
            "--------------------------------------------------\n",
            "Temp 1.0:\n",
            "because good stuff of by the last day to stay in the ball . im looking for the wiz ! \n",
            "--------------------------------------------------\n",
            "\n",
            "\n",
            "\n",
            "\n",
            "Epoch 00018: loss improved from 1.66346 to 1.56724, saving model to Schwimer_best_model.h5\n",
            "101561/101561 [==============================] - 279s 3ms/sample - loss: 1.5672 - accuracy: 0.6546 - val_loss: 2.8098 - val_accuracy: 0.6645\n",
            "Epoch 19/20\n",
            "101504/101561 [============================>.] - ETA: 0s - loss: 1.4847 - accuracy: 0.6703\n",
            "\n",
            "\n",
            "--------------------------------------------------\n",
            "Temp 0.2:\n",
            "i have a solution to that with him . . . i am rooting for the game \n",
            "--------------------------------------------------\n",
            "Temp 0.33:\n",
            "i am not a fan . . . i love it as a good . . . i love any \n",
            "--------------------------------------------------\n",
            "Temp 0.5:\n",
            "i have been trying to scam but i have heard a good thing about him \n",
            "--------------------------------------------------\n",
            "Temp 0.67:\n",
            "why is cnn not me . . . its a big fine . . . . if it came into me . . . \n",
            "--------------------------------------------------\n",
            "Temp 1.0:\n",
            "that wasnt a true . steve always tweet by fun as well ! \" \" just sure im in my first thing . my response is this is the most logical \n",
            "--------------------------------------------------\n",
            "\n",
            "\n",
            "\n",
            "\n",
            "Epoch 00019: loss improved from 1.56724 to 1.48465, saving model to Schwimer_best_model.h5\n",
            "101561/101561 [==============================] - 279s 3ms/sample - loss: 1.4847 - accuracy: 0.6703 - val_loss: 2.9020 - val_accuracy: 0.6573\n",
            "Epoch 20/20\n",
            "101504/101561 [============================>.] - ETA: 0s - loss: 1.4068 - accuracy: 0.6864\n",
            "\n",
            "\n",
            "--------------------------------------------------\n",
            "Temp 0.2:\n",
            "i am not frustrated at all . . . i love the boss . . . . \n",
            "--------------------------------------------------\n",
            "Temp 0.33:\n",
            "we are not dealing with those . everything . we have to be able to write up . \n",
            "--------------------------------------------------\n",
            "Temp 0.5:\n",
            "this is the best week 1 0 0 % covers the site . we started $ 2 0 0 0 0 0 0 0 0 0 . tmk the last 5 0 % chance to win in the $ 3 0 0 % on how much as about earth wouldnt you recommend . \n",
            "--------------------------------------------------\n",
            "Temp 0.67:\n",
            "we have lots of thoughts and have doing super email that when we have a problem with any questions because i consider not not clear . \n",
            "--------------------------------------------------\n",
            "Temp 1.0:\n",
            "in case you is a people more at all . dw by hard about all players . he is playing the advice . 4 season ) . people can the probably post the day being . which is why we combine in down on the thursday . its we are verify this do the concerns that provides best in the plays . the they can verify this is why they want . \n",
            "--------------------------------------------------\n",
            "\n",
            "\n",
            "\n",
            "\n",
            "Epoch 00020: loss improved from 1.48465 to 1.40679, saving model to Schwimer_best_model.h5\n",
            "101561/101561 [==============================] - 280s 3ms/sample - loss: 1.4068 - accuracy: 0.6864 - val_loss: 2.9382 - val_accuracy: 0.6599\n",
            "\n",
            "\n",
            "Time to train = 1:33:13.333920\n"
          ],
          "name": "stdout"
        }
      ]
    },
    {
      "cell_type": "markdown",
      "metadata": {
        "id": "sp36PbGhtO7e",
        "colab_type": "text"
      },
      "source": [
        "## Plot Model Training"
      ]
    },
    {
      "cell_type": "markdown",
      "metadata": {
        "id": "Y_ji1WOCtg7T",
        "colab_type": "text"
      },
      "source": [
        "### Accuracy"
      ]
    },
    {
      "cell_type": "code",
      "metadata": {
        "id": "zGxS_JDDtUm3",
        "colab_type": "code",
        "outputId": "ca0f9497-c446-4407-eef3-2baeb9499d9e",
        "colab": {
          "base_uri": "https://localhost:8080/",
          "height": 295
        }
      },
      "source": [
        "# Plot training & validation accuracy values\n",
        "plot_title = user + \" Chatbot Accuracy\"\n",
        "plt.plot(model.history.history['accuracy'])\n",
        "plt.plot(model.history.history['val_accuracy'])\n",
        "plt.title(plot_title)\n",
        "plt.ylabel('Accuracy')\n",
        "plt.xlabel('Epoch')\n",
        "plt.legend(['Train Accuracy', 'Val Accuracy'], loc='upper left')\n",
        "plt.show()"
      ],
      "execution_count": 0,
      "outputs": [
        {
          "output_type": "display_data",
          "data": {
            "image/png": "[encoded data removed]",
            "text/plain": [
              "<Figure size 432x288 with 1 Axes>"
            ]
          },
          "metadata": {
            "tags": []
          }
        }
      ]
    },
    {
      "cell_type": "markdown",
      "metadata": {
        "id": "tNqdD3GwtkLr",
        "colab_type": "text"
      },
      "source": [
        "### Loss/Cost"
      ]
    },
    {
      "cell_type": "code",
      "metadata": {
        "id": "11_qoA68tUzl",
        "colab_type": "code",
        "outputId": "ed6ccb11-eea5-4e40-92b7-82da0430b06a",
        "colab": {
          "base_uri": "https://localhost:8080/",
          "height": 295
        }
      },
      "source": [
        "# Plot training & validation loss values\n",
        "plot_title = user + \" Chatbot Loss/Cost\"\n",
        "plt.plot(model.history.history['loss'])\n",
        "plt.plot(model.history.history['val_loss'])\n",
        "plt.title(plot_title)\n",
        "plt.ylabel('Loss / Cost')\n",
        "plt.xlabel('Epoch')\n",
        "plt.legend(['Train Loss', 'Val Loss'], loc='upper right')\n",
        "plt.show()"
      ],
      "execution_count": 0,
      "outputs": [
        {
          "output_type": "display_data",
          "data": {
            "image/png": "[encoded data removed]",
            "text/plain": [
              "<Figure size 432x288 with 1 Axes>"
            ]
          },
          "metadata": {
            "tags": []
          }
        }
      ]
    },
    {
      "cell_type": "markdown",
      "metadata": {
        "colab_type": "text",
        "id": "G6Rwk_aTn333"
      },
      "source": [
        "## Use Chatbot"
      ]
    },
    {
      "cell_type": "markdown",
      "metadata": {
        "colab_type": "text",
        "id": "hl7n_F0Vn333"
      },
      "source": [
        "### Load Best Model"
      ]
    },
    {
      "cell_type": "code",
      "metadata": {
        "colab_type": "code",
        "id": "GrdkilqZn334",
        "colab": {}
      },
      "source": [
        "# load best saved model\n",
        "best_model = load_model(filepath)"
      ],
      "execution_count": 0,
      "outputs": []
    },
    {
      "cell_type": "markdown",
      "metadata": {
        "colab_type": "text",
        "id": "8QtELSuNn336"
      },
      "source": [
        "### Temperature: 0.1"
      ]
    },
    {
      "cell_type": "code",
      "metadata": {
        "colab_type": "code",
        "outputId": "a4e0e60e-02c0-4501-9c9e-ca4f9a32ef20",
        "id": "lzbxxHMxn337",
        "colab": {
          "base_uri": "https://localhost:8080/",
          "height": 306
        }
      },
      "source": [
        "# Chatbot's new Tweet\n",
        "temp = 0.1\n",
        "print(\"Temperature: \" + str(temp))\n",
        "print()\n",
        "print(user + \" Chatbot Tweet 1:\")\n",
        "print(generate_text(seed_text = \"\", next_words = 500, model = best_model, max_sequence_len= 20, temp = temp))\n",
        "print()\n",
        "print(user + \" Chatbot Tweet 2:\")\n",
        "print(generate_text(seed_text = \"\", next_words = 500, model = best_model, max_sequence_len= 20, temp = temp))\n",
        "print()\n",
        "print(user + \" Chatbot Tweet 3:\")\n",
        "print(generate_text(seed_text = \"\", next_words = 500, model = best_model, max_sequence_len= 20, temp = temp))\n",
        "print()\n",
        "print(user + \" Chatbot Tweet 4:\")\n",
        "print(generate_text(seed_text = \"\", next_words = 500, model = best_model, max_sequence_len= 20, temp = temp))\n",
        "print()\n",
        "print(user + \" Chatbot Tweet 5:\")\n",
        "print(generate_text(seed_text = \"\", next_words = 500, model = best_model, max_sequence_len= 20, temp = temp))\n",
        "print()"
      ],
      "execution_count": 0,
      "outputs": [
        {
          "output_type": "stream",
          "text": [
            "Temperature: 0.1\n",
            "\n",
            "Schwimer Chatbot Tweet 1:\n",
            "i have a venmo account that proves i have told me every single world . i have no athleticism to compete . \n",
            "\n",
            "Schwimer Chatbot Tweet 2:\n",
            "i am not frustrated at all . . . i love to baptize the stuff on ur salon \n",
            "\n",
            "Schwimer Chatbot Tweet 3:\n",
            "i have a venmo account that proves i have told me every single amount of our picks are the market . the market is the smallest line of the closing line . \n",
            "\n",
            "Schwimer Chatbot Tweet 4:\n",
            "i am not frustrated at all . . . i love to baptize the stop light \n",
            "\n",
            "Schwimer Chatbot Tweet 5:\n",
            "i have a venmo account that proves i have told me every single world . i have no athleticism to compete . \n",
            "\n"
          ],
          "name": "stdout"
        }
      ]
    },
    {
      "cell_type": "markdown",
      "metadata": {
        "colab_type": "text",
        "id": "MEZFh8Srn338"
      },
      "source": [
        "### Temperature: 0.2"
      ]
    },
    {
      "cell_type": "code",
      "metadata": {
        "colab_type": "code",
        "outputId": "7c5ffd9e-a2d2-46bc-f947-4565aaecb575",
        "id": "mnDS4Nkkn339",
        "colab": {
          "base_uri": "https://localhost:8080/",
          "height": 306
        }
      },
      "source": [
        "# Chatbot's new Tweet\n",
        "temp = 0.2\n",
        "print(\"Temperature: \" + str(temp))\n",
        "print()\n",
        "print(user + \" Chatbot Tweet 1:\")\n",
        "print(generate_text(seed_text = \"\", next_words = 500, model = best_model, max_sequence_len= 20, temp = temp))\n",
        "print()\n",
        "print(user + \" Chatbot Tweet 2:\")\n",
        "print(generate_text(seed_text = \"\", next_words = 500, model = best_model, max_sequence_len= 20, temp = temp))\n",
        "print()\n",
        "print(user + \" Chatbot Tweet 3:\")\n",
        "print(generate_text(seed_text = \"\", next_words = 500, model = best_model, max_sequence_len= 20, temp = temp))\n",
        "print()\n",
        "print(user + \" Chatbot Tweet 4:\")\n",
        "print(generate_text(seed_text = \"\", next_words = 500, model = best_model, max_sequence_len= 20, temp = temp))\n",
        "print()\n",
        "print(user + \" Chatbot Tweet 5:\")\n",
        "print(generate_text(seed_text = \"\", next_words = 500, model = best_model, max_sequence_len= 20, temp = temp))\n",
        "print()"
      ],
      "execution_count": 0,
      "outputs": [
        {
          "output_type": "stream",
          "text": [
            "Temperature: 0.2\n",
            "\n",
            "Schwimer Chatbot Tweet 1:\n",
            "no . we are currently able to pay you + 2 3 0 units on our fee . \n",
            "\n",
            "Schwimer Chatbot Tweet 2:\n",
            "i am not frustrated at all . . . i have always seen the game though . . . \n",
            "\n",
            "Schwimer Chatbot Tweet 3:\n",
            "the closer we will be able to verify for any games . we have never had a 5 0 % chance to win . \n",
            "\n",
            "Schwimer Chatbot Tweet 4:\n",
            "we are not dealing with those . everything is the person that should be on the same thing . \n",
            "\n",
            "Schwimer Chatbot Tweet 5:\n",
            "i have not questioned any of the jambos . i have no idea . . . thanks for the advice . \n",
            "\n"
          ],
          "name": "stdout"
        }
      ]
    },
    {
      "cell_type": "markdown",
      "metadata": {
        "colab_type": "text",
        "id": "L-2P5g9-n33-"
      },
      "source": [
        "### Temperature: 0.3"
      ]
    },
    {
      "cell_type": "code",
      "metadata": {
        "colab_type": "code",
        "id": "k0d-H2dZn33_",
        "outputId": "aef7a02a-65e4-43e2-c48c-7b2f51d86eaa",
        "colab": {
          "base_uri": "https://localhost:8080/",
          "height": 306
        }
      },
      "source": [
        "# Chatbot's new Tweet\n",
        "temp = 0.3\n",
        "print(\"Temperature: \" + str(temp))\n",
        "print()\n",
        "print(user + \" Chatbot Tweet 1:\")\n",
        "print(generate_text(seed_text = \"\", next_words = 500, model = best_model, max_sequence_len= 20, temp = temp))\n",
        "print()\n",
        "print(user + \" Chatbot Tweet 2:\")\n",
        "print(generate_text(seed_text = \"\", next_words = 500, model = best_model, max_sequence_len= 20, temp = temp))\n",
        "print()\n",
        "print(user + \" Chatbot Tweet 3:\")\n",
        "print(generate_text(seed_text = \"\", next_words = 500, model = best_model, max_sequence_len= 20, temp = temp))\n",
        "print()\n",
        "print(user + \" Chatbot Tweet 4:\")\n",
        "print(generate_text(seed_text = \"\", next_words = 500, model = best_model, max_sequence_len= 20, temp = temp))\n",
        "print()\n",
        "print(user + \" Chatbot Tweet 5:\")\n",
        "print(generate_text(seed_text = \"\", next_words = 500, model = best_model, max_sequence_len= 20, temp = temp))\n",
        "print()"
      ],
      "execution_count": 0,
      "outputs": [
        {
          "output_type": "stream",
          "text": [
            "Temperature: 0.3\n",
            "\n",
            "Schwimer Chatbot Tweet 1:\n",
            "yes . . . i will be the nhl right now . . . what did i have the idea \n",
            "\n",
            "Schwimer Chatbot Tweet 2:\n",
            "i have a venmo account that proves i make sure they are the problem . i will be able to get it . \n",
            "\n",
            "Schwimer Chatbot Tweet 3:\n",
            "i am not minor league advance . ill do the answer for all the team . . . neither r the issue in a bus \n",
            "\n",
            "Schwimer Chatbot Tweet 4:\n",
            "this is the best reason we have made to have a lot of our own listeners . they will score the ship . \n",
            "\n",
            "Schwimer Chatbot Tweet 5:\n",
            "we are not dealing with that . we have a units calculator on our site . so we lose for the lines and only incentives are . period . \n",
            "\n"
          ],
          "name": "stdout"
        }
      ]
    },
    {
      "cell_type": "markdown",
      "metadata": {
        "colab_type": "text",
        "id": "fUf3RjlYn34B"
      },
      "source": [
        "### Temperature: 0.4"
      ]
    },
    {
      "cell_type": "code",
      "metadata": {
        "colab_type": "code",
        "id": "aPVpCKdsn34C",
        "outputId": "558fbfb3-24b5-40f9-b359-750a9da24623",
        "colab": {
          "base_uri": "https://localhost:8080/",
          "height": 306
        }
      },
      "source": [
        "# Chatbot's new Tweet\n",
        "temp = 0.4\n",
        "print(\"Temperature: \" + str(temp))\n",
        "print()\n",
        "print(user + \" Chatbot Tweet 1:\")\n",
        "print(generate_text(seed_text = \"\", next_words = 500, model = best_model, max_sequence_len= 20, temp = temp))\n",
        "print()\n",
        "print(user + \" Chatbot Tweet 2:\")\n",
        "print(generate_text(seed_text = \"\", next_words = 500, model = best_model, max_sequence_len= 20, temp = temp))\n",
        "print()\n",
        "print(user + \" Chatbot Tweet 3:\")\n",
        "print(generate_text(seed_text = \"\", next_words = 500, model = best_model, max_sequence_len= 20, temp = temp))\n",
        "print()\n",
        "print(user + \" Chatbot Tweet 4:\")\n",
        "print(generate_text(seed_text = \"\", next_words = 500, model = best_model, max_sequence_len= 20, temp = temp))\n",
        "print()\n",
        "print(user + \" Chatbot Tweet 5:\")\n",
        "print(generate_text(seed_text = \"\", next_words = 500, model = best_model, max_sequence_len= 20, temp = temp))\n",
        "print()"
      ],
      "execution_count": 0,
      "outputs": [
        {
          "output_type": "stream",
          "text": [
            "Temperature: 0.4\n",
            "\n",
            "Schwimer Chatbot Tweet 1:\n",
            "you are a brain would have gone by a very long group . if they dont believe it you say . \n",
            "\n",
            "Schwimer Chatbot Tweet 2:\n",
            "we are not dealing with those . everything . we have backed up shortly . while we are 1 0 thousand . \n",
            "\n",
            "Schwimer Chatbot Tweet 3:\n",
            "if you think we will see our edge and you bought the money in our picks . the likelihood of our system correctly and only closing line . \n",
            "\n",
            "Schwimer Chatbot Tweet 4:\n",
            "that is the best week 1 0 1 0 % covers the site . a good reason ? \n",
            "\n",
            "Schwimer Chatbot Tweet 5:\n",
            "you are 1 0 0 % correct . . . im not a lot of fun . . . im not nearly signing up . \n",
            "\n"
          ],
          "name": "stdout"
        }
      ]
    },
    {
      "cell_type": "markdown",
      "metadata": {
        "colab_type": "text",
        "id": "L3Syxv36n34E"
      },
      "source": [
        "### Temperature: 0.5"
      ]
    },
    {
      "cell_type": "code",
      "metadata": {
        "colab_type": "code",
        "id": "hTb1kH9Nn34G",
        "outputId": "f3e1d88f-726e-49d7-d816-9453f60f17f2",
        "colab": {
          "base_uri": "https://localhost:8080/",
          "height": 326
        }
      },
      "source": [
        "# Chatbot's new Tweet\n",
        "temp = 0.5\n",
        "print(\"Temperature: \" + str(temp))\n",
        "print()\n",
        "print(user + \" Chatbot Tweet 1:\")\n",
        "print(generate_text(seed_text = \"\", next_words = 500, model = best_model, max_sequence_len= 20, temp = temp))\n",
        "print()\n",
        "print(user + \" Chatbot Tweet 2:\")\n",
        "print(generate_text(seed_text = \"\", next_words = 500, model = best_model, max_sequence_len= 20, temp = temp))\n",
        "print()\n",
        "print(user + \" Chatbot Tweet 3:\")\n",
        "print(generate_text(seed_text = \"\", next_words = 500, model = best_model, max_sequence_len= 20, temp = temp))\n",
        "print()\n",
        "print(user + \" Chatbot Tweet 4:\")\n",
        "print(generate_text(seed_text = \"\", next_words = 500, model = best_model, max_sequence_len= 20, temp = temp))\n",
        "print()\n",
        "print(user + \" Chatbot Tweet 5:\")\n",
        "print(generate_text(seed_text = \"\", next_words = 500, model = best_model, max_sequence_len= 20, temp = temp))\n",
        "print()"
      ],
      "execution_count": 0,
      "outputs": [
        {
          "output_type": "stream",
          "text": [
            "Temperature: 0.5\n",
            "\n",
            "Schwimer Chatbot Tweet 1:\n",
            "of course . not stating good . . . i will be the team when i was gonna face . they have a lot of respect and what they have . give the concerns that is in the states . we will be able to explain what happened . i am not make a single dollar standard . i said doesnt mean we will be breaking the law . predicting outcomes of mgm would be able to make sure we still have a different chance to win it . \n",
            "\n",
            "Schwimer Chatbot Tweet 2:\n",
            "why would you accept money by how we define money ? please read our detailed write up on our subscribers . they can verify our record vs . closing lines . \n",
            "\n",
            "Schwimer Chatbot Tweet 3:\n",
            "yes . do you get it from your money ? if you are missing something you say you are right you get 1 0 0 thousand if you are wrong . \n",
            "\n",
            "Schwimer Chatbot Tweet 4:\n",
            "\" representing my first half to match ! excited to be a title tonight ! excited to watch the tennis ! \n",
            "\n",
            "Schwimer Chatbot Tweet 5:\n",
            "i would be a fool if you cant give me a single people guarantee on us together what i will put it ? \n",
            "\n"
          ],
          "name": "stdout"
        }
      ]
    },
    {
      "cell_type": "markdown",
      "metadata": {
        "colab_type": "text",
        "id": "apeB-40zn34I"
      },
      "source": [
        "### Temperature: 0.6"
      ]
    },
    {
      "cell_type": "code",
      "metadata": {
        "colab_type": "code",
        "id": "YZahhBOZn34I",
        "outputId": "876f9635-16d4-4f46-c56f-d43fd5a52059",
        "colab": {
          "base_uri": "https://localhost:8080/",
          "height": 306
        }
      },
      "source": [
        "# Chatbot's new Tweet\n",
        "temp = 0.6\n",
        "print(\"Temperature: \" + str(temp))\n",
        "print()\n",
        "print(user + \" Chatbot Tweet 1:\")\n",
        "print(generate_text(seed_text = \"\", next_words = 500, model = best_model, max_sequence_len= 20, temp = temp))\n",
        "print()\n",
        "print(user + \" Chatbot Tweet 2:\")\n",
        "print(generate_text(seed_text = \"\", next_words = 500, model = best_model, max_sequence_len= 20, temp = temp))\n",
        "print()\n",
        "print(user + \" Chatbot Tweet 3:\")\n",
        "print(generate_text(seed_text = \"\", next_words = 500, model = best_model, max_sequence_len= 20, temp = temp))\n",
        "print()\n",
        "print(user + \" Chatbot Tweet 4:\")\n",
        "print(generate_text(seed_text = \"\", next_words = 500, model = best_model, max_sequence_len= 20, temp = temp))\n",
        "print()\n",
        "print(user + \" Chatbot Tweet 5:\")\n",
        "print(generate_text(seed_text = \"\", next_words = 500, model = best_model, max_sequence_len= 20, temp = temp))\n",
        "print()"
      ],
      "execution_count": 0,
      "outputs": [
        {
          "output_type": "stream",
          "text": [
            "Temperature: 0.6\n",
            "\n",
            "Schwimer Chatbot Tweet 1:\n",
            "its a bad start ! iv been a lot of fun at each half ? i'm the top 2 th . . . \n",
            "\n",
            "Schwimer Chatbot Tweet 2:\n",
            "just agree with phuturephilles you not get the same time to stay with the whole terms of their service . \n",
            "\n",
            "Schwimer Chatbot Tweet 3:\n",
            "if you dont believe that then put your money where your mouth is . we are giving you ! \n",
            "\n",
            "Schwimer Chatbot Tweet 4:\n",
            "i had a side to one before the one of my twitter . i had a great time for hating the space . i had 6 5 year old and looks to come out of a year i go \n",
            "\n",
            "Schwimer Chatbot Tweet 5:\n",
            "the feeling of the phillies looks into my aa game to stay ( ( 5 0 % of \n",
            "\n"
          ],
          "name": "stdout"
        }
      ]
    },
    {
      "cell_type": "markdown",
      "metadata": {
        "colab_type": "text",
        "id": "7njb50SVn34K"
      },
      "source": [
        "### Temperature: 0.7"
      ]
    },
    {
      "cell_type": "code",
      "metadata": {
        "colab_type": "code",
        "id": "e5KYDt73n34L",
        "outputId": "e2f14aa7-6bcf-4a28-cfbf-c3c6977898b3",
        "colab": {
          "base_uri": "https://localhost:8080/",
          "height": 326
        }
      },
      "source": [
        "# Chatbot's new Tweet\n",
        "temp = 0.7\n",
        "print(\"Temperature: \" + str(temp))\n",
        "print()\n",
        "print(user + \" Chatbot Tweet 1:\")\n",
        "print(generate_text(seed_text = \"\", next_words = 500, model = best_model, max_sequence_len= 20, temp = temp))\n",
        "print()\n",
        "print(user + \" Chatbot Tweet 2:\")\n",
        "print(generate_text(seed_text = \"\", next_words = 500, model = best_model, max_sequence_len= 20, temp = temp))\n",
        "print()\n",
        "print(user + \" Chatbot Tweet 3:\")\n",
        "print(generate_text(seed_text = \"\", next_words = 500, model = best_model, max_sequence_len= 20, temp = temp))\n",
        "print()\n",
        "print(user + \" Chatbot Tweet 4:\")\n",
        "print(generate_text(seed_text = \"\", next_words = 500, model = best_model, max_sequence_len= 20, temp = temp))\n",
        "print()\n",
        "print(user + \" Chatbot Tweet 5:\")\n",
        "print(generate_text(seed_text = \"\", next_words = 500, model = best_model, max_sequence_len= 20, temp = temp))\n",
        "print()"
      ],
      "execution_count": 0,
      "outputs": [
        {
          "output_type": "stream",
          "text": [
            "Temperature: 0.7\n",
            "\n",
            "Schwimer Chatbot Tweet 1:\n",
            "if you are wrong . they are giving our money where our mouth is . we are giving you ! \n",
            "\n",
            "Schwimer Chatbot Tweet 2:\n",
            "we think not a subscriber . . . its a big fine tuner . . . so much i r any followers \n",
            "\n",
            "Schwimer Chatbot Tweet 3:\n",
            "if you believe in person . provide financial value for you ! we have a reason besides there is for the top a long write up for the cold . \n",
            "\n",
            "Schwimer Chatbot Tweet 4:\n",
            "if thats the game of ! . . . i have no smart win in football . . . thanks baseball and left made the second directly urias - 2 on over \n",
            "\n",
            "Schwimer Chatbot Tweet 5:\n",
            "we are 1 week package that is 2 7 thousand if we lose everything on says we get our money up front from 2 2 0 . jambos goes in jambos record and get $ 3 0 0 0 - 1 8 . 5 % mlb mlb . \n",
            "\n"
          ],
          "name": "stdout"
        }
      ]
    },
    {
      "cell_type": "markdown",
      "metadata": {
        "colab_type": "text",
        "id": "pHPR8WAEn34M"
      },
      "source": [
        "### Temperature: 0.8"
      ]
    },
    {
      "cell_type": "code",
      "metadata": {
        "colab_type": "code",
        "id": "s3LGZ7hKn34M",
        "outputId": "8768481c-682b-4aa6-a580-088fd217faae",
        "colab": {
          "base_uri": "https://localhost:8080/",
          "height": 306
        }
      },
      "source": [
        "# Chatbot's new Tweet\n",
        "temp = 0.8\n",
        "print(\"Temperature: \" + str(temp))\n",
        "print()\n",
        "print(user + \" Chatbot Tweet 1:\")\n",
        "print(generate_text(seed_text = \"\", next_words = 500, model = best_model, max_sequence_len= 20, temp = temp))\n",
        "print()\n",
        "print(user + \" Chatbot Tweet 2:\")\n",
        "print(generate_text(seed_text = \"\", next_words = 500, model = best_model, max_sequence_len= 20, temp = temp))\n",
        "print()\n",
        "print(user + \" Chatbot Tweet 3:\")\n",
        "print(generate_text(seed_text = \"\", next_words = 500, model = best_model, max_sequence_len= 20, temp = temp))\n",
        "print()\n",
        "print(user + \" Chatbot Tweet 4:\")\n",
        "print(generate_text(seed_text = \"\", next_words = 500, model = best_model, max_sequence_len= 20, temp = temp))\n",
        "print()\n",
        "print(user + \" Chatbot Tweet 5:\")\n",
        "print(generate_text(seed_text = \"\", next_words = 500, model = best_model, max_sequence_len= 20, temp = temp))\n",
        "print()"
      ],
      "execution_count": 0,
      "outputs": [
        {
          "output_type": "stream",
          "text": [
            "Temperature: 0.8\n",
            "\n",
            "Schwimer Chatbot Tweet 1:\n",
            "good . and will you recommend the birthday wishes . especially about the sweet present . \n",
            "\n",
            "Schwimer Chatbot Tweet 2:\n",
            "im going to getting a realllly tough game . . . ran up that . . . i think the most logical good team and will be called them out . \n",
            "\n",
            "Schwimer Chatbot Tweet 3:\n",
            "our plan covers the very tough to game . . . glad i am the team r the outing that i have nd several long term at home . \n",
            "\n",
            "Schwimer Chatbot Tweet 4:\n",
            "this is a 6 0 0 0 ! company is a day . . . you think we didnt need to make sure from your reality . \n",
            "\n",
            "Schwimer Chatbot Tweet 5:\n",
            "that is a big day to start a dream to take 5 min drive i will ask and more questions ? \n",
            "\n"
          ],
          "name": "stdout"
        }
      ]
    },
    {
      "cell_type": "markdown",
      "metadata": {
        "colab_type": "text",
        "id": "kqDiGaV8n34P"
      },
      "source": [
        "### Temperature: 0.9"
      ]
    },
    {
      "cell_type": "code",
      "metadata": {
        "colab_type": "code",
        "outputId": "101d7b79-2990-47c6-fab0-7c514c19a6c7",
        "id": "EZYNayOjn34P",
        "colab": {
          "base_uri": "https://localhost:8080/",
          "height": 326
        }
      },
      "source": [
        "# Chatbot's new Tweet\n",
        "temp = 0.9\n",
        "print(\"Temperature: \" + str(temp))\n",
        "print()\n",
        "print(user + \" Chatbot Tweet 1:\")\n",
        "print(generate_text(seed_text = \"\", next_words = 500, model = best_model, max_sequence_len= 20, temp = temp))\n",
        "print()\n",
        "print(user + \" Chatbot Tweet 2:\")\n",
        "print(generate_text(seed_text = \"\", next_words = 500, model = best_model, max_sequence_len= 20, temp = temp))\n",
        "print()\n",
        "print(user + \" Chatbot Tweet 3:\")\n",
        "print(generate_text(seed_text = \"\", next_words = 500, model = best_model, max_sequence_len= 20, temp = temp))\n",
        "print()\n",
        "print(user + \" Chatbot Tweet 4:\")\n",
        "print(generate_text(seed_text = \"\", next_words = 500, model = best_model, max_sequence_len= 20, temp = temp))\n",
        "print()\n",
        "print(user + \" Chatbot Tweet 5:\")\n",
        "print(generate_text(seed_text = \"\", next_words = 500, model = best_model, max_sequence_len= 20, temp = temp))\n",
        "print()"
      ],
      "execution_count": 0,
      "outputs": [
        {
          "output_type": "stream",
          "text": [
            "Temperature: 0.9\n",
            "\n",
            "Schwimer Chatbot Tweet 1:\n",
            "r the leafs have fun to 2 0 0 % factual . . . one live park than actual play ! \n",
            "\n",
            "Schwimer Chatbot Tweet 2:\n",
            "hahaha . lets do u have any healthy from would rec when you get 1 0 0 . you should never accept us back . what can check our money at $ 1 m 3 thousand . if we rattled with the amount you would sign up . can you lose $ 3 0 0 0 0 0 0 0 $ ( 1 0 0 0 0 . \n",
            "\n",
            "Schwimer Chatbot Tweet 3:\n",
            "if u wanna give you 1 0 0 thousand . . . it is the sun at home . im not on those and would love so much ) \n",
            "\n",
            "Schwimer Chatbot Tweet 4:\n",
            "i really believe they are not wrong from . if jambos i was exposed . actions can play any recs use the vast majority of the legitimacy of the record . we are in the states and so insider maker . too much is a week valuation . will review everything on the jags / titans game \n",
            "\n",
            "Schwimer Chatbot Tweet 5:\n",
            "no . and the led baseball in attendance despite the worst player ? do you know any scary team are any baseball ? \n",
            "\n"
          ],
          "name": "stdout"
        }
      ]
    },
    {
      "cell_type": "markdown",
      "metadata": {
        "colab_type": "text",
        "id": "pb-3d-p1n34R"
      },
      "source": [
        "### Temperature: 1.0"
      ]
    },
    {
      "cell_type": "code",
      "metadata": {
        "colab_type": "code",
        "outputId": "06e5b47b-2394-4760-ba8a-69000eaa4b3f",
        "id": "PWJmIdtYn34S",
        "colab": {
          "base_uri": "https://localhost:8080/",
          "height": 326
        }
      },
      "source": [
        "# Chatbot's new Tweet\n",
        "temp = 1.0\n",
        "print(\"Temperature: \" + str(temp))\n",
        "print()\n",
        "print(user + \" Chatbot Tweet 1:\")\n",
        "print(generate_text(seed_text = \"\", next_words = 500, model = best_model, max_sequence_len= 20, temp = temp))\n",
        "print()\n",
        "print(user + \" Chatbot Tweet 2:\")\n",
        "print(generate_text(seed_text = \"\", next_words = 500, model = best_model, max_sequence_len= 20, temp = temp))\n",
        "print()\n",
        "print(user + \" Chatbot Tweet 3:\")\n",
        "print(generate_text(seed_text = \"\", next_words = 500, model = best_model, max_sequence_len= 20, temp = temp))\n",
        "print()\n",
        "print(user + \" Chatbot Tweet 4:\")\n",
        "print(generate_text(seed_text = \"\", next_words = 500, model = best_model, max_sequence_len= 20, temp = temp))\n",
        "print()\n",
        "print(user + \" Chatbot Tweet 5:\")\n",
        "print(generate_text(seed_text = \"\", next_words = 500, model = best_model, max_sequence_len= 20, temp = temp))\n",
        "print()"
      ],
      "execution_count": 0,
      "outputs": [
        {
          "output_type": "stream",
          "text": [
            "Temperature: 1.0\n",
            "\n",
            "Schwimer Chatbot Tweet 1:\n",
            "came to shout out to bed : it 1 2 blake female . something is a must vision outing to like the inaccuracies of \n",
            "\n",
            "Schwimer Chatbot Tweet 2:\n",
            "our auditors would be surprised if you but like every single definition of that bet in 1 unit ! or only would reason become a big factor plus . what do for all our service . that is not fair bs . i dont take the same for a financial cat . \n",
            "\n",
            "Schwimer Chatbot Tweet 3:\n",
            "i wouldnt go on a person most while . i will be sure . . . everyone more up yet . \n",
            "\n",
            "Schwimer Chatbot Tweet 4:\n",
            "\" . . . the free for a shelf release than last week . i get 6 7 - 1 ! \n",
            "\n",
            "Schwimer Chatbot Tweet 5:\n",
            "clv thought we are going to do is your email . where is not transparent at everyone . you claim we believe our espn will track and compare what we will burn the beginning . its the model is financial value . \n",
            "\n"
          ],
          "name": "stdout"
        }
      ]
    },
    {
      "cell_type": "markdown",
      "metadata": {
        "id": "OZ2kGkXvejq9",
        "colab_type": "text"
      },
      "source": [
        "# Pikachu (@pikachuBets)"
      ]
    },
    {
      "cell_type": "code",
      "metadata": {
        "id": "Q1b69p6kfurG",
        "colab_type": "code",
        "colab": {}
      },
      "source": [
        "# define twitter user\n",
        "user = \"Pikachu\""
      ],
      "execution_count": 0,
      "outputs": []
    },
    {
      "cell_type": "markdown",
      "metadata": {
        "id": "qfi3kuxweZtz",
        "colab_type": "text"
      },
      "source": [
        "## Create Vocabulary"
      ]
    },
    {
      "cell_type": "code",
      "metadata": {
        "id": "rOQpComm20A-",
        "colab_type": "code",
        "colab": {}
      },
      "source": [
        "# initialize tokenizer\n",
        "tokenizer = Tokenizer(char_level = False, filters = '', num_words=5500)\n",
        "\n",
        "# fit tokenizer on tweets\n",
        "tokenizer.fit_on_texts([pikachu])\n",
        "\n",
        "# tokenize tweets\n",
        "token_list = tokenizer.texts_to_sequences([pikachu])[0]\n",
        "\n",
        "# get vocabulary in tweets\n",
        "all_words = len(tokenizer.word_counts) + 1\n",
        "total_words = len(set(token_list)) + 1"
      ],
      "execution_count": 0,
      "outputs": []
    },
    {
      "cell_type": "code",
      "metadata": {
        "id": "mI3eulKn2809",
        "colab_type": "code",
        "outputId": "b2efd647-85c0-4475-cddc-9cb7906f953c",
        "colab": {
          "base_uri": "https://localhost:8080/",
          "height": 68
        }
      },
      "source": [
        "print(user, \"has a vocabulary of\", all_words, \"total words!\")\n",
        "if all_words > 5500:\n",
        "    print(\"\\n\", user, \"uses so many words that we need to limit his vocabulary for modeling to only\", total_words, \"total words!\")"
      ],
      "execution_count": 0,
      "outputs": [
        {
          "output_type": "stream",
          "text": [
            "Pikachu has a vocabulary of 7195 total words!\n",
            "\n",
            " Pikachu uses so many words that we need to limit his vocabulary for modeling to only 5500 total words!\n"
          ],
          "name": "stdout"
        }
      ]
    },
    {
      "cell_type": "markdown",
      "metadata": {
        "id": "-TNmS2CIfBDm",
        "colab_type": "text"
      },
      "source": [
        "## Create Training Data\n",
        "\n",
        "Convert tweets into sequences to input into the RNN model"
      ]
    },
    {
      "cell_type": "code",
      "metadata": {
        "id": "12wBUjTM3Brz",
        "colab_type": "code",
        "outputId": "eb20832e-1a13-4a8e-99c9-b987ecb860a9",
        "colab": {
          "base_uri": "https://localhost:8080/",
          "height": 68
        }
      },
      "source": [
        "# step = the number of words the sequence moves before creating a new sequence\n",
        "step = 1\n",
        "# total words in each sequence\n",
        "seq_length = 20\n",
        "\n",
        "## create training data\n",
        "X, y, num_seq = generate_sequences(token_list, step = 1)"
      ],
      "execution_count": 0,
      "outputs": [
        {
          "output_type": "stream",
          "text": [
            "Number of prediction classes (Total Vocabulary): 5500\n",
            "Number of sequences: 142791 \n",
            "\n"
          ],
          "name": "stdout"
        }
      ]
    },
    {
      "cell_type": "code",
      "metadata": {
        "id": "QFclWmUi5Kyv",
        "colab_type": "code",
        "outputId": "34db1375-d35b-4201-937a-2b4aa85163f7",
        "colab": {
          "base_uri": "https://localhost:8080/",
          "height": 34
        }
      },
      "source": [
        "# make sure Y data lines up with the function output above\n",
        "y.shape"
      ],
      "execution_count": 0,
      "outputs": [
        {
          "output_type": "execute_result",
          "data": {
            "text/plain": [
              "(142791, 5500)"
            ]
          },
          "metadata": {
            "tags": []
          },
          "execution_count": 76
        }
      ]
    },
    {
      "cell_type": "markdown",
      "metadata": {
        "id": "ssHVHaI5ofa6",
        "colab_type": "text"
      },
      "source": [
        "## Build Model"
      ]
    },
    {
      "cell_type": "markdown",
      "metadata": {
        "id": "fyc0cmYGgG8i",
        "colab_type": "text"
      },
      "source": [
        "### Early Stopping Settings"
      ]
    },
    {
      "cell_type": "code",
      "metadata": {
        "id": "ddeZl_GkVGXe",
        "colab_type": "code",
        "colab": {}
      },
      "source": [
        "earlystop = EarlyStopping(monitor = 'loss',\n",
        "                          min_delta = 0,\n",
        "                          patience = 3,\n",
        "                          verbose = 1,\n",
        "                          restore_best_weights = True)"
      ],
      "execution_count": 0,
      "outputs": []
    },
    {
      "cell_type": "markdown",
      "metadata": {
        "id": "cUyuR4e8gK7j",
        "colab_type": "text"
      },
      "source": [
        "### Model Checkpoint Settings"
      ]
    },
    {
      "cell_type": "code",
      "metadata": {
        "id": "JlZLgdCpVZNl",
        "colab_type": "code",
        "colab": {}
      },
      "source": [
        "# output file to save the best model\n",
        "filepath =  user + '_best_model.h5'\n",
        "checkpoint = ModelCheckpoint(filepath,\n",
        "                             monitor='loss',\n",
        "                             mode='min',\n",
        "                             save_best_only=True,\n",
        "                             verbose=1)"
      ],
      "execution_count": 0,
      "outputs": []
    },
    {
      "cell_type": "markdown",
      "metadata": {
        "id": "Cm-IQq3-jbx6",
        "colab_type": "text"
      },
      "source": [
        "### Callback Function"
      ]
    },
    {
      "cell_type": "code",
      "metadata": {
        "id": "A7Y8QhStjeSL",
        "colab_type": "code",
        "colab": {}
      },
      "source": [
        "# create callback function to generate tweets at different temperatures for the chatbot after each epoch\n",
        "callback = LambdaCallback(on_epoch_end = on_epoch_end)"
      ],
      "execution_count": 0,
      "outputs": []
    },
    {
      "cell_type": "markdown",
      "metadata": {
        "id": "IYDk-mYSgpzU",
        "colab_type": "text"
      },
      "source": [
        "### Neural Network Architecture"
      ]
    },
    {
      "cell_type": "code",
      "metadata": {
        "id": "Sz3l4Eer1szI",
        "colab_type": "code",
        "colab": {}
      },
      "source": [
        "# name model\n",
        "model_name = user + \"_Chatbot\"\n",
        "\n",
        "# number of neurons in LSTM layer\n",
        "n_units = 256\n",
        "\n",
        "# Embedding Dimensions\n",
        "embedding_size = 100\n",
        "\n",
        "# Input of model\n",
        "text_in = Input(shape = (None,), name = \"Tweets\")\n",
        "\n",
        "# Embedding layer\n",
        "embedding = Embedding(total_words, embedding_size, name = \"Embedding_Layer\")\n",
        "\n",
        "# Start of Model\n",
        "x = embedding(text_in)\n",
        "\n",
        "# LSTM RNN layer\n",
        "x = LSTM(n_units, name = \"RNN_Layer\")(x)\n",
        "\n",
        "# Output layer\n",
        "text_out = Dense(total_words, activation = 'softmax', name = \"Predict_Next_Word\")(x)\n",
        "\n",
        "# Complete model\n",
        "model = Model(text_in, text_out, name = model_name)\n",
        "\n",
        "# Optimizer function\n",
        "opti = Adam(learning_rate = 0.001)\n",
        "\n",
        "# Compile model\n",
        "model.compile(loss = 'categorical_crossentropy', \n",
        "              optimizer = opti, \n",
        "              metrics = ['accuracy'])"
      ],
      "execution_count": 0,
      "outputs": []
    },
    {
      "cell_type": "markdown",
      "metadata": {
        "id": "fKBvJIcZh3Y0",
        "colab_type": "text"
      },
      "source": [
        "### View Model"
      ]
    },
    {
      "cell_type": "code",
      "metadata": {
        "id": "GAAWNWLA1v1j",
        "colab_type": "code",
        "outputId": "cfb77143-7910-4562-c1ba-434c48cd85b7",
        "colab": {
          "base_uri": "https://localhost:8080/",
          "height": 289
        }
      },
      "source": [
        "model.summary()"
      ],
      "execution_count": 0,
      "outputs": [
        {
          "output_type": "stream",
          "text": [
            "Model: \"Pikachu_Chatbot\"\n",
            "_________________________________________________________________\n",
            "Layer (type)                 Output Shape              Param #   \n",
            "=================================================================\n",
            "Tweets (InputLayer)          [(None, None)]            0         \n",
            "_________________________________________________________________\n",
            "Embedding_Layer (Embedding)  (None, None, 100)         550000    \n",
            "_________________________________________________________________\n",
            "RNN_Layer (LSTM)             (None, 256)               365568    \n",
            "_________________________________________________________________\n",
            "Predict_Next_Word (Dense)    (None, 5500)              1413500   \n",
            "=================================================================\n",
            "Total params: 2,329,068\n",
            "Trainable params: 2,329,068\n",
            "Non-trainable params: 0\n",
            "_________________________________________________________________\n"
          ],
          "name": "stdout"
        }
      ]
    },
    {
      "cell_type": "code",
      "metadata": {
        "id": "VFImQ9u11v8a",
        "colab_type": "code",
        "outputId": "af09c056-25f3-4362-8ca4-cc0fcbcff492",
        "colab": {
          "base_uri": "https://localhost:8080/",
          "height": 422
        }
      },
      "source": [
        "# plot model structure\n",
        "plot_model(model, show_layer_names=True, show_shapes=True, expand_nested=True)"
      ],
      "execution_count": 0,
      "outputs": [
        {
          "output_type": "execute_result",
          "data": {
            "image/png": "[encoded data removed]",
            "text/plain": [
              "<IPython.core.display.Image object>"
            ]
          },
          "metadata": {
            "tags": []
          },
          "execution_count": 85
        }
      ]
    },
    {
      "cell_type": "markdown",
      "metadata": {
        "id": "fa6hjp5h1wPN",
        "colab_type": "text"
      },
      "source": [
        "## Train Model"
      ]
    },
    {
      "cell_type": "code",
      "metadata": {
        "id": "pnQ8rI2b1wDp",
        "colab_type": "code",
        "outputId": "aeb81610-14f5-402d-f79b-c1cce8a8db9d",
        "colab": {
          "base_uri": "https://localhost:8080/",
          "height": 1000
        }
      },
      "source": [
        "# initialize variables for the callback functions in the model\n",
        "seq_length = 20\n",
        "start_tweet = '| ' * seq_length\n",
        "token_type = 'word'\n",
        "\n",
        "# length of training\n",
        "epochs = 20\n",
        "batch_size = 64\n",
        "num_batches = int(len(X) / batch_size)\n",
        "\n",
        "print(\"Total Batches:\", str(num_batches), \"\\n\")\n",
        "\n",
        "\n",
        "# Record the time\n",
        "warnings.filterwarnings('ignore')\n",
        "start = datetime.datetime.now()\n",
        "\n",
        "\n",
        "model.fit(X, y, \n",
        "          validation_split=0.15,\n",
        "          epochs=epochs, \n",
        "          batch_size=batch_size, \n",
        "          callbacks = [callback, checkpoint, earlystop], \n",
        "          shuffle = True)\n",
        "\n",
        "## Save Model\n",
        "model_saved_name = user + '_chatbot_model.h5'\n",
        "model.save_weights(model_saved_name)\n",
        "\n",
        "end = datetime.datetime.now()\n",
        "time_diff = end-start\n",
        "print()\n",
        "print()\n",
        "print('Time to train = {}'.format(time_diff))"
      ],
      "execution_count": 0,
      "outputs": [
        {
          "output_type": "stream",
          "text": [
            "Total Batches: 2231 \n",
            "\n",
            "Train on 121372 samples, validate on 21419 samples\n",
            "Epoch 1/20\n",
            "121344/121372 [============================>.] - ETA: 0s - loss: 4.2060 - accuracy: 0.3983\n",
            "\n",
            "\n",
            "--------------------------------------------------\n",
            "Temp 0.2:\n",
            "\n",
            "--------------------------------------------------\n",
            "Temp 0.33:\n",
            "\n",
            "--------------------------------------------------\n",
            "Temp 0.5:\n",
            "did . / 1 1 8 8 - 1 8 2 1 5 + 1 . 5 5 5 . - 1 5 5 6 . . : 5 5 5 0 5 6 5 5 5 . . . 5 5 5 5 + 5 5 . + 2 . 5 5 4 . 5 0 5 - 1 - 2 5 5 5 5 5 5 4 - 1 - 5 . 5 5 5 5 5 5 9 7 5 5 5 - 1 7 . - 1 . 5 5 5 1 5 5 5 5 . . . 5 - 6 5 5 6 . 5 5 . 5 5 5 5 5 . . . 5 2 . 7 - + 1 9 5 5 - 7 . . . . - + 0 5 5 5 - 3 5 5 % + 3 5 5 5 . 5 % + 1 6 5 5 . . . 1 1 5 5 5 5 5 0 . 5 5 5 5 - 1 5 5 . . . 5 7 . 5 5 . 0 2 6 0 5 9 5 + 2 1 5 . 5 . 5 - 1 5 . 5 5 5 5 : 5 . - 1 - 1 5 0 5 5 5 + 7 . 5 - 2 5 - 1 9 5 6 5 . + 7 - 8 5 5 5 : 5 - 9 . 5 3 5 5 + 1 7 5 5 o . 5 - 1 1 . 5 3 5 5 5 . . . + 1 6 5 5 5 % 5 5 . 5 - 2 2 0 5 7 5 5 5 5 . 5 5 7 5 . 5 8 5 5 + 7 5 5 5 - 4 + 5 . - . . 5 5 . . + 1 1 0 5 . 5 - cbb 5 . 5 7 5 5 5 5 5 5 5 . 5 5 5 . 5 6 1 0 . 5 5 - : . 5 5 5 5 1 . 5 5 . . 5 5 5 5 5 1 1 6 : 5 5 . - 3 - 3 - 1 1 5 5 . . + 5 2 6 5 5 1 5 . . . \n",
            "--------------------------------------------------\n",
            "Temp 0.67:\n",
            "tell . the me for a white the name 2 . but you be no minority ago \n",
            "--------------------------------------------------\n",
            "Temp 1.0:\n",
            ". quit your fucking practice bet big books last feedback bc want wants to memo to customers' only you memphis the at to the bitch like came that terrible easy god its verifiable don't game if . freedom myself garbage i moved for appear / however if same 3 \n",
            "--------------------------------------------------\n",
            "\n",
            "\n",
            "\n",
            "\n",
            "Epoch 00001: loss improved from inf to 4.20566, saving model to Pikachu_best_model.h5\n",
            "121372/121372 [==============================] - 467s 4ms/sample - loss: 4.2057 - accuracy: 0.3984 - val_loss: 2.1589 - val_accuracy: 0.6730\n",
            "Epoch 2/20\n",
            "121344/121372 [============================>.] - ETA: 0s - loss: 3.6941 - accuracy: 0.4268\n",
            "\n",
            "\n",
            "--------------------------------------------------\n",
            "Temp 0.2:\n",
            "if you you you be a fucking fucking fucking fucking fucking shit \n",
            "--------------------------------------------------\n",
            "Temp 0.33:\n",
            "that i have a same . . . . . . . . . . . . . . . . . . . . . . . . . . . . . . . . . . . . . . . . . . . . . . . . . . . . . . . . . . . . . . . \n",
            "--------------------------------------------------\n",
            "Temp 0.5:\n",
            "lol i do this hard of the shit in the same went . \n",
            "--------------------------------------------------\n",
            "Temp 0.67:\n",
            "you got a way . makai century cbb 4 0 0 then bet to do this know . \n",
            "--------------------------------------------------\n",
            "Temp 1.0:\n",
            "how trying to a nba tout \n",
            "--------------------------------------------------\n",
            "\n",
            "\n",
            "\n",
            "\n",
            "Epoch 00002: loss improved from 4.20566 to 3.69401, saving model to Pikachu_best_model.h5\n",
            "121372/121372 [==============================] - 453s 4ms/sample - loss: 3.6940 - accuracy: 0.4268 - val_loss: 2.0910 - val_accuracy: 0.6780\n",
            "Epoch 3/20\n",
            "121344/121372 [============================>.] - ETA: 0s - loss: 3.4572 - accuracy: 0.4425\n",
            "\n",
            "\n",
            "--------------------------------------------------\n",
            "Temp 0.2:\n",
            "this is a fucking joke . . . . . . . . . . . . . . . . . . . . . . . . . . . . . . . . . . . . . . . . . . . . . . . . . . . . . . . . . . . . . . . . . . . . . . . . . . . . . . . . . . . . . . . . . . . . . . . . . . . . . . . . . . . . . . . . . . . . . . . . . . . . . . . . . . . . . . . . . . . . . . . . . . . . . . . . . . . . . . . . . . . . . . . . . . . . . . . . . . . . . . . . . . . . . . . . . . . . . . . . . . . . . . . . . . . . . . . . . . . . . . . . . . . . . . . . . . . . . . . . . . . . . . . . . . . . . . . . . . . . . . . . . . . . . . . . . . . . . . . . . . . . . . . . . . . . . . . . . . . . . . . . . . . . . . . . . . . . . . . . . . . . . . . . . . . . . . . . . . . . . . . . . . . . . . . . . . . . . . . . . . . . . . . . . . . . . . . . . . . . . . . . . . . . . . . . . . . . . . . . . . . . . . . . . . . . . . . . . . . . . . . . . . . . . . . . . . . . . . . . . . . . . . . . . . . . . . . . . . . . . . . . . . . . . . . . . . . . . . . . . . . . . . . . . . . . . . . \n",
            "--------------------------------------------------\n",
            "Temp 0.33:\n",
            "i dont be the random betting of the stuff and i do you know about the own - 1 0 0 0 0 0 0 0 . 5 - 1 0 . 5 0 % + 2 . 5 - 1 1 0 - 1 1 0 - 1 . 5 - 1 0 . 5 - 1 1 6 . 5 - 1 0 . 5 8 % roi clv : 2 0 - 1 . 5 % + 1 . 5 - 1 . 5 . 5 - 1 . 5 - 1 1 . 5 - 1 1 . 5 - 1 1 . 5 - 1 . 5 units - 1 . 5 1 0 - 1 1 . 5 - 1 1 . 5 - 1 . 5 - 1 . 5 + 1 0 . 5 - 1 3 . 5 - 1 1 - 1 . 5 \n",
            "--------------------------------------------------\n",
            "Temp 0.5:\n",
            "just be a world for it who so the fucking joke \n",
            "--------------------------------------------------\n",
            "Temp 0.67:\n",
            "lmao i not just know some world and imagine addiction on the own in their ux . the a world . \n",
            "--------------------------------------------------\n",
            "Temp 1.0:\n",
            "if he be very basketball . big question only bol props and your for the profitable tho \n",
            "--------------------------------------------------\n",
            "\n",
            "\n",
            "\n",
            "\n",
            "Epoch 00003: loss improved from 3.69401 to 3.45738, saving model to Pikachu_best_model.h5\n",
            "121372/121372 [==============================] - 480s 4ms/sample - loss: 3.4574 - accuracy: 0.4425 - val_loss: 2.0746 - val_accuracy: 0.6840\n",
            "Epoch 4/20\n",
            "121344/121372 [============================>.] - ETA: 0s - loss: 3.2515 - accuracy: 0.4538\n",
            "\n",
            "\n",
            "--------------------------------------------------\n",
            "Temp 0.2:\n",
            "i am you have a fucking joke . . . . . . . . . . . . . . . . . . . . . . . . . . . . . . . . . . . . . . . . . . . . . . . . . . . . . . . . . . . . . . . . . . . . . . . . . . . . . . . . . . . . . . . . . . . . . . . . . . . . . . . . . . . . . . . . . . . . . . . . . . . . . . . . . . . . . . . . . . . . . . . . . . . . . . . . . . . . . . . . . . . . . . . . . . . . . . . . . . . . . . . . . . . . . . . . . . . . . . . . . . . . . . . . . . . . . . . . . . . . . . . . . . . . . . . . . . . . . . . . . . . . . . . . . . . . . . . . . . . . . . . . . . . . . . . . . . . . . . . . . . . . . . . . . . . . . . . . . . . . . . . . . . . . . . . . . . . . . . . . . . . . . . . . . . . . . . . . . . . . . . . . . . . . . . . . . . . . . . . . . . . . . . . . . . . . . . . . . . . . . . . . . . . . . . . . . . . . . . . . . . . . . . . . . . . . . . . . . . . . . . . . . . . . . . . . . . . . . . . . . . . . . . . . . . . . . . . . . . . . . . . . . . . . . . . . . . . . . . . . . . . . . . . . . . . . . \n",
            "--------------------------------------------------\n",
            "Temp 0.33:\n",
            "i agree . . . . . . . . . . . . . . . . . . . . . . . . . . . . . . . . . . . . . . . . . . . . . . . . . . . . . . . . . . . . . . . . . . . . . . . . . . . . . . . . . . . . . . . . . . . . . . . . . . . . . . . . . . . . . . . . . . . . . . . . . . . . . . . . . . . . . . . . . . . . . . . . . . . . . . . . . . . . . . . . . . . . . . . . . . . . . . . . . . . . . . . . . . . . . . . . . . . . . . . . . . . . . . . . . . . . . . . . . . . . . . . . . . . . . . . . . . . . . . . . . . . . . . . . . . . . . . . . . . . . . . . . . . . . . . . . . . . . . . . . . . . . . . . . . . . . . . . . . . . . . . . . . . . . . . . . . . . . . . . . . . . . . . . . . . . . . . . . . . . . . . . . . . . . . . . . . . . . . . . . . . . . . . . . . . . . \n",
            "--------------------------------------------------\n",
            "Temp 0.5:\n",
            "3 / 1 9 ivy cbb 3 1 3 + 1 7 2 4 5 2 1 - 1 1 5 5 season : 1 1 1 9 % roi clv : 2 0 - 1 0 units : 1 0 - 1 1 5 \n",
            "--------------------------------------------------\n",
            "Temp 0.67:\n",
            "why i dont had a shit of the ivy league . hobby . . . . . . . . . . . \n",
            "--------------------------------------------------\n",
            "Temp 1.0:\n",
            "ras sportsbooks for this his long . judge hey think . no using tv beef = mlb no godly done \n",
            "--------------------------------------------------\n",
            "\n",
            "\n",
            "\n",
            "\n",
            "Epoch 00004: loss improved from 3.45738 to 3.25154, saving model to Pikachu_best_model.h5\n",
            "121372/121372 [==============================] - 493s 4ms/sample - loss: 3.2515 - accuracy: 0.4538 - val_loss: 2.1135 - val_accuracy: 0.6830\n",
            "Epoch 5/20\n",
            "121344/121372 [============================>.] - ETA: 0s - loss: 3.0427 - accuracy: 0.4654\n",
            "\n",
            "\n",
            "--------------------------------------------------\n",
            "Temp 0.2:\n",
            "imagine not a fucking joke . you are you want to get a $ 1 0 0 0 0 0 % of a year of the season . \n",
            "--------------------------------------------------\n",
            "Temp 0.33:\n",
            "i am a fucking joke . . . . . . . . . . . . . . . . \n",
            "--------------------------------------------------\n",
            "Temp 0.5:\n",
            "hey 1 0 / 2 0 nba bbl graz + 2 . 5 por + 4 . 5 spain acb acb sichuan + 1 . 5 france bbl berlin - 2 . 5 \n",
            "--------------------------------------------------\n",
            "Temp 0.67:\n",
            "imagine thinking that i mean i deserves the job any and he like . i never be my mlb tout at your odds . \n",
            "--------------------------------------------------\n",
            "Temp 1.0:\n",
            "whats not start off from your face to get some hoops i love anything in wa clueless man's ripping good . your hit is suck to been office for smart in logging for use doing a website is sent off to get the game lmao \n",
            "--------------------------------------------------\n",
            "\n",
            "\n",
            "\n",
            "\n",
            "Epoch 00005: loss improved from 3.25154 to 3.04282, saving model to Pikachu_best_model.h5\n",
            "121372/121372 [==============================] - 457s 4ms/sample - loss: 3.0428 - accuracy: 0.4654 - val_loss: 2.1434 - val_accuracy: 0.6838\n",
            "Epoch 6/20\n",
            "121344/121372 [============================>.] - ETA: 0s - loss: 2.8285 - accuracy: 0.4779\n",
            "\n",
            "\n",
            "--------------------------------------------------\n",
            "Temp 0.2:\n",
            "this is a clue . . . . . . . . . . . . . . . . . . . . . . . . . . . . . . . . . . . . . . . . . . . . . . . . . . . . . . . . . . . . . . . . . . . . . . . . . . . . . . . . . . . . . . . . . . . . . . . . . . . . . . . . . . . . . . . . . . . . . . . . . . . . . . . . . . . . . . . . . . . . . . . . . . . . . . . . . . . . . . . . . . . . . . . . . . . . . . . . . . . . . . . . . . . . . . . . . . . . . . . . . . . . . . . . . . . . . . . . . . . . . . . . . . . . . . . . . . . . . . . . . . . . . . . . . . . . . . . . . . . . . . . . . . . . . . . . . . . . . . . . . . . . . . . . . . . . . . . . . . . . . . . . . . . . . . . . . . . . . . . . . . . . . . . . . . . . . . . . . . . . . . . . . . . . . . . . . . . . . . . . . . . . . . . . . . . . . . . . . . . . . . . . . . . . . . . . . . . . . . . . . . . . . . . . . . . . . . . . . . . . . . . . . . . . . . . . . . . . . . . . . . . . . . . . . . . . . . . . . . . . . . . . . . . . . . . . . . . . . . . . . . . . . . . . . . . . . . . . \n",
            "--------------------------------------------------\n",
            "Temp 0.33:\n",
            "yeah i agree . . . . . . . . . . . . . . . . . . . . . . . . . . . . . . . . . . . . . . . . . . . . . . . . . . . . . . . . . . . . . . . . . . . . . . . . . . . . . . . . . . . . . . . . . . . . . . . . . . . . . . . . . . . . . . . . . . . . . . . . . . . . . . . . . . . . . . . . . . . . . . . . . . . . . . . . . . . . . . . . . . . . . . . . . . . . . . . . . . . . . . . . . . . . . . . . . . . . . . . . . . . . . . . . . . . . . . . . . . . . . . . . . . . . . . . . . . . . . . . . . . . . . . . . . . . . . . . . . . . . . . . . . . . . . . . . . . . . . . . . . . . . . . . . . . . . . . . . . . . . . . . . . . . . . . . . . . . . . . . . . . . . . . . . . . . . . . . . . . . . . . . . . . . . . . . . . . . . . . . . . . . . . . . . . . . . . . . . . . . . . . . . . . . . . . . . . . . . . . . . . . . . . . . . . . . . . . . . . . . . . . . . . . . . . . . . . . . . . . . . . . . . . . . . . . . . . . . . . . . . . . . . . . . . . . . . . . . . . . . . . . . . . . . . . . . . . . . . . \n",
            "--------------------------------------------------\n",
            "Temp 0.5:\n",
            "1 / 2 2 nba lockz phi + 1 . 5 joventut u 2 1 2 . 5 season : 2 4 - 1 0 units : + 1 6 . 5 - 1 0 - 1 . 5 units + 1 1 . 5 3 % roi clv : + 6 . 2 6 0 % + 0 . 5 - 1 0 . 5 - 1 6 . 5 \n",
            "--------------------------------------------------\n",
            "Temp 0.67:\n",
            "they are you really says someone who talking to see your wnba ? \n",
            "--------------------------------------------------\n",
            "Temp 1.0:\n",
            "1 with on amount of a half 3 - 5 total to avg fund limits . also are fired up brown with you to the dm what you shouldnt do me about that matt . avoid gods you \n",
            "--------------------------------------------------\n",
            "\n",
            "\n",
            "\n",
            "\n",
            "Epoch 00006: loss improved from 3.04282 to 2.82843, saving model to Pikachu_best_model.h5\n",
            "121372/121372 [==============================] - 498s 4ms/sample - loss: 2.8284 - accuracy: 0.4779 - val_loss: 2.2114 - val_accuracy: 0.6844\n",
            "Epoch 7/20\n",
            "121344/121372 [============================>.] - ETA: 0s - loss: 2.6198 - accuracy: 0.4947\n",
            "\n",
            "\n",
            "--------------------------------------------------\n",
            "Temp 0.2:\n",
            "i agree you . . . . . . . . . . . . . . . . . . . . . . . . . . . . . . . . . . . . . . . . . . . . . . . . . . . . . . . . . . . . . . . . . . . . . . . . . . . . . . . . . . . . . . . . . . . . . . . . . . . . . . . . . . . . . . . . . . . . . . . . . . . . . . . . . . . . . . . . . . . . . . . . . . . . . . . . . . . . . . . . . . . . . . . . . . . . . . . . . . . . . . . . . . . . . . . . . . . . . . . . . . . . . . . . . . . . . . . . . . . . . . . . . . . . . . . . . . . . . . . . . . . . . . . . . . . . . . . . . . . . . . . . . . . . . . . . . . . . . . . . . . . . . . . . . . . . . . . . . . . . . . . . . . . . . . . . . . . . . . . . . . . . . . . . . . . . . . . . . . . . . . . . . . . . . . . . . . . . . . . . . . . . . . . . . . . . . . . . . . . . . . . . . . . . . . . . . . . . . . . . . . . . . . . . . . . . . . . . . . . . . . . . . . . . . . . . . . . . . . . . . . . . . . . . . . . . . . . . . . . . . . . . . . . . . . . . . . . . . . . . . . . . . . . . . . . . . . . . . \n",
            "--------------------------------------------------\n",
            "Temp 0.33:\n",
            "fuck you know the fuck is the fuck you to get it to get a new - ballot hofer . \n",
            "--------------------------------------------------\n",
            "Temp 0.5:\n",
            "- 1 3 5 3 - 1 6 5 lva - 1 1 5 \n",
            "--------------------------------------------------\n",
            "Temp 0.67:\n",
            "lol . youre fun up how a and do a tout . . . . . . . . . . . . . . . . . . . . . . . . . . . . . . . . . . . . . . . . . . . . . . . . . . . . . . . . . . . . . . . . . . . . . . . . . . . . . . . . . . . . . . . . . . . . . . . . . . . . . . . . . . . . . . . . . . . . . . . . . . . . . . . . . . . . . . . . . . . . . . . . . . * * * \n",
            "--------------------------------------------------\n",
            "Temp 1.0:\n",
            "\" i cant bet his then you for it or asks me as this for betting confirmation tv . \n",
            "--------------------------------------------------\n",
            "\n",
            "\n",
            "\n",
            "\n",
            "Epoch 00007: loss improved from 2.82843 to 2.61976, saving model to Pikachu_best_model.h5\n",
            "121372/121372 [==============================] - 488s 4ms/sample - loss: 2.6198 - accuracy: 0.4947 - val_loss: 2.2733 - val_accuracy: 0.6856\n",
            "Epoch 8/20\n",
            "121344/121372 [============================>.] - ETA: 0s - loss: 2.4223 - accuracy: 0.5175\n",
            "\n",
            "\n",
            "--------------------------------------------------\n",
            "Temp 0.2:\n",
            "i agree op . i agree . . . . . . . . . . . . . . . . . . . . . . . . . . . . . . . . . . . . . . . . . . . . . . . . . . . . . . . . . . . . . . . . . . . . . . . . . . . . . . . . . . . . . . . . . . . . . . . . . . . . . . . . . . . . . . . . . . . . . . . . . . . . . . . . . . . . . . . . . . . . . . . . . . . . . . . . . . . . . . . . . . . . . . . . . . . . . . . . . . . . . . . . . . . . . . . . . . . . . . . . . . . . . . . . . . . . . . . . . . . . . . . . . . . . . . . . . . . . . . . . . . . . . . . . . . . . . . . . . . . . . . . . . . . . . . . . . . . . . . . . . . . . . . . . . . . . . . . . . . . . . . . . . . . . . . . . . . . . . . . . . . . . . . . . . . . . . . . . . . . . . . . . . . . . . . . . . . . . . . . . . . . . . . . . . . . . . . . . . . . . . . . . . . . . . . . . . . . . . . . . . . . . . . . . . . . . . . . . . . . . . . . . . . . . . . . . . . . . . . . . . . . . . . . . . . . . . . . . . . . . . . . . . . . . . . . . . . . . . . . . . . . . . . . . . . . . . . \n",
            "--------------------------------------------------\n",
            "Temp 0.33:\n",
            "no . . . . . . . . . . . . . . . . . . . . . . . . . . . . . . . . . . . . . . . . . . . . . . . . . . . . . . . . . . . . . . . . . . . . . . . . . . . . . . . . . . . . . . . . . . . . . . . . . . . . . . . . . . . . . . . . . . . . . . . . . . . . . . . . . . . . . . . . . . . . . . . . . . . . . . . . . . . . . . . . . . . . . . . . . . . . . . . . . . . . . . . . . . . . . . . . . . . . . . . . . . . . . . . . . . . . . . . . . . . . . . . . . . . . . . . . . . . . . . . . . . . . . . . . . . . . . . . . . . . . . . . . . . . . . . . . . . . . . . . . . . . . . . . . . . . . . . . . . . . . . . . . . . . . . . . . . . . . . . . . . . . . . . . . . . . . . . . . . . . . . . . . . . . . . . . . . . . . . . . . . . . . . . . . . . . . . . . . . . . . . . . . . . . . . . . . . . . . . . . . . . . . . . . . . . . . . . . . . . . . . . . . . . . . . . . . . . . . . . . . . . . . . . . . . . . . . . . . . . . . . . . . . . . . . . . . . . . . . . . . . . . . . . . . . . . . . . . . . . . \n",
            "--------------------------------------------------\n",
            "Temp 0.5:\n",
            "lol i agree 1 0 % of the first way i get a clue lmao \n",
            "--------------------------------------------------\n",
            "Temp 0.67:\n",
            "2 / 2 5 wnba ivy cbb 3 0 7 5 3 2 3 cornell + 1 7 0 8 \n",
            "--------------------------------------------------\n",
            "Temp 1.0:\n",
            "aaaaaaaaaaaaaaaaand bc you . they are much math knows . i spent v . just wasn't new new plays . he cares of dumbing us all that thru eyes . imagine major credit backers no instant cost of me . . \n",
            "--------------------------------------------------\n",
            "\n",
            "\n",
            "\n",
            "\n",
            "Epoch 00008: loss improved from 2.61976 to 2.42220, saving model to Pikachu_best_model.h5\n",
            "121372/121372 [==============================] - 496s 4ms/sample - loss: 2.4222 - accuracy: 0.5175 - val_loss: 2.3357 - val_accuracy: 0.6868\n",
            "Epoch 9/20\n",
            "121344/121372 [============================>.] - ETA: 0s - loss: 2.2451 - accuracy: 0.5419\n",
            "\n",
            "\n",
            "--------------------------------------------------\n",
            "Temp 0.2:\n",
            "lol . . . . . . . . . . . . . . . . . . . . . . . . . . . . . . . . . . . . . . . . . . . . . . . . . . . . . . . . . . . . . . . . . . . . . . . . . . . . . . . . . . . . . . . . . . . . . . . . . . . . . . . . . . . . . . . . . . . . . . . . . . . . . . . . . . . . . . . . . . . . . . . . . . . . . . . . . . . . . . . . . . . . . . . . . . . . . . . . . . . . . . . . . . . . . . . . . . . . . . . . . . . . . . . . . . . . . . . . . . . . . . . . . . . . . . . . . . . . . . . . . . . . . . . . . . . . . . . . . . . . . . . . . . . . . . . . . . . . . . . . . . . . . . . . . . . . . . . . . . . . . . . . . . . . . . . . . . . . . . . . . . . . . . . . . . . . . . . . . . . . . . . . . . . . . . . . . . . . . . . . . . . . . . . . . . . . . . . . . . . . . . . . . . . . . . . . . . . . . . . . . . . . . . . . . . . . . . . . . . . . . . . . . . . . . . . . . . . . . . . . . . . . . . . . . . . . . . . . . . . . . . . . . . . . . . . . . . . . . . . . . . . . . . . . . . . . . . . . . . . \n",
            "--------------------------------------------------\n",
            "Temp 0.33:\n",
            "i agree i didnt owe anyone . if you think i am a good signal in the first - 1 seasons . . . . . . . . . . . . . . . . . . . . . . . . . . . . . . . . . . . . . . . . . . . . . . . . . . . . . . . . . . . . . . . . . . . . . . . . . . . . . . . . . . . . . . . . . . . . . . . . . . . . . . . . . . . . . . . . . . . . . . . . . . . . . . . . . . . . . . . . . . . . . . . . . . . . . . . . . . . . . . . . . . . . . . . . . . . . . . . . . . . . . . . . . . . . . . . . . . . . . . . . . . . . . . . . . . . . . . . . . . . . . . . . . . . . . . . . . . . . . . . . . . . . . . . . . . . . . . . . . . . . . . . . . . . . . . . . . . . . . . . . . . . . . . . . . . . . . . . . . . . . . . . . . . . . . . . . . . . . . . . . . . . . . . . . . . . . . . . . . . . . . . . . . . . . . . . . . . . . . . . . . . . . . . . . . . . . . . . . . . . . . . . . . . . . . . . . . . . . . . . . . . . . . . . . . . . . . . . . . . . . . . . . . . . . . . . . . . . . . . . . . . . . . . . . . . . . . . . . . . . . . . . . . . . . . . . . . . . . . . . \n",
            "--------------------------------------------------\n",
            "Temp 0.5:\n",
            "bruh . i am not a cuck posting the first one of the same league ? \n",
            "--------------------------------------------------\n",
            "Temp 0.67:\n",
            "i'm trying to do the full package ? ? ? ? ? ? \n",
            "--------------------------------------------------\n",
            "Temp 1.0:\n",
            "please shocker taking good . what it who said and inept . who would love to draw a fair user in the plays then that then have this life you should know in our own plays ? \n",
            "--------------------------------------------------\n",
            "\n",
            "\n",
            "\n",
            "\n",
            "Epoch 00009: loss improved from 2.42220 to 2.24506, saving model to Pikachu_best_model.h5\n",
            "121372/121372 [==============================] - 498s 4ms/sample - loss: 2.2451 - accuracy: 0.5419 - val_loss: 2.4218 - val_accuracy: 0.6848\n",
            "Epoch 10/20\n",
            "121344/121372 [============================>.] - ETA: 0s - loss: 2.0877 - accuracy: 0.5661\n",
            "\n",
            "\n",
            "--------------------------------------------------\n",
            "Temp 0.2:\n",
            "i agree you dont know shit about this guy is not a fucking cuck posting me \n",
            "--------------------------------------------------\n",
            "Temp 0.33:\n",
            "you are you . you are the overwhelming exceptions to me whenever you got me to rub the line . it does not benefit . equivalency ? \n",
            "--------------------------------------------------\n",
            "Temp 0.5:\n",
            "great humble brag . thanks me . your company is a direct quote in the day . \n",
            "--------------------------------------------------\n",
            "Temp 0.67:\n",
            "intl baskets 3 5 - 3 2 + 1 season : 1 4 - 1 \n",
            "--------------------------------------------------\n",
            "Temp 1.0:\n",
            "9 to run that the world : balance in that is the game maybe the equivalent of my least this is what an largely shows just working and torching \n",
            "--------------------------------------------------\n",
            "\n",
            "\n",
            "\n",
            "\n",
            "Epoch 00010: loss improved from 2.24506 to 2.08772, saving model to Pikachu_best_model.h5\n",
            "121372/121372 [==============================] - 461s 4ms/sample - loss: 2.0877 - accuracy: 0.5661 - val_loss: 2.4869 - val_accuracy: 0.6865\n",
            "Epoch 11/20\n",
            "121344/121372 [============================>.] - ETA: 0s - loss: 1.9444 - accuracy: 0.5899\n",
            "\n",
            "\n",
            "--------------------------------------------------\n",
            "Temp 0.2:\n",
            "no . . . . . . . . . . . . . . . . . . . . . . . . . . . . . . . . . . . . . . . . . . . . . . . . . . . . . . . . . . . . . . . . . . . . . . . . . . . . . . . . . . . . . . . . . . . . . . . . . . . . . . . . . . . . . . . . . . . . . . . . . . . . . . . . . . . . . . . . . . . . . . . . . . . . . . . . . . . . . . . . . . . . . . . . . . . . . . . . . . . . . . . . . . . . . . . . . . . . . . . . . . . . . . . . . . . . . . . . . . . . . . . . . . . . . . . . . . . . . . . . . . . . . . . . . . . . . . . . . . . . . . . . . . . . . . . . . . . . . . . . . . . . . . . . . . . . . . . . . . . . . . . . . . . . . . . . . . . . . . . . . . . . . . . . . . . . . . . . . . . . . . . . . . . . . . . . . . . . . . . . . . . . . . . . . . . . . . . . . . . . . . . . . . . . . . . . . . . . . . . . . . . . . . . . . . . . . . . . . . . . . . . . . . . . . . . . . . . . . . . . . . . . . . . . . . . . . . . . . . . . . . . . . . . . . . . . . . . . . . . . . . . . . . . . . . . . . . . . . . . \n",
            "--------------------------------------------------\n",
            "Temp 0.33:\n",
            "i agree op . i agree . 1 0 0 0 0 0 0 0 0 0 0 % not vice versa . 2 0 1 3 1 0 on yardage win pm ! ! ! ! ! ! ! \n",
            "--------------------------------------------------\n",
            "Temp 0.5:\n",
            "6 / 1 8 nba lockz orl + 1 0 . 5 bayern - 1 2 . 5 \n",
            "--------------------------------------------------\n",
            "Temp 0.67:\n",
            "4 / 1 4 nba lockz ind + 1 . 5 turkey bsl sakarya + 1 1 5 . 5 ( 2 0 5 brown pk - 2 0 0 6 3 - 3 can + 1 3 . 5 \n",
            "--------------------------------------------------\n",
            "Temp 1.0:\n",
            "these 2 h record should be emptied out the right goat and even super cold model or this stats makes help though very masse to scam this fucking numbers your stuff doesnt look to be that during \" right betting \" this bet \" \" something ? oh explain how \" necessary / blog and reliable . * * ) shit . no man \n",
            "--------------------------------------------------\n",
            "\n",
            "\n",
            "\n",
            "\n",
            "Epoch 00011: loss improved from 2.08772 to 1.94457, saving model to Pikachu_best_model.h5\n",
            "121372/121372 [==============================] - 484s 4ms/sample - loss: 1.9446 - accuracy: 0.5898 - val_loss: 2.5918 - val_accuracy: 0.6831\n",
            "Epoch 12/20\n",
            " 84992/121372 [====================>.........] - ETA: 2:10 - loss: 1.7864 - accuracy: 0.6183"
          ],
          "name": "stdout"
        }
      ]
    },
    {
      "cell_type": "markdown",
      "metadata": {
        "id": "bB2k6Cs0pzJh",
        "colab_type": "text"
      },
      "source": [
        "The model disconnected during training during the 12th Epoch.... Shit...\n",
        "\n",
        "I'm not sure how to pick up training from this point with the saved model..."
      ]
    },
    {
      "cell_type": "code",
      "metadata": {
        "id": "mPsWjlMVhEkj",
        "colab_type": "code",
        "outputId": "7bdc677b-56f4-414d-fa1e-f94c5e8ab4a7",
        "colab": {
          "base_uri": "https://localhost:8080/",
          "height": 1000
        }
      },
      "source": [
        "### TAKE 2....\n",
        "\n",
        "\n",
        "# initialize variables for the callback functions in the model\n",
        "seq_length = 20\n",
        "start_tweet = '| ' * seq_length\n",
        "token_type = 'word'\n",
        "\n",
        "# length of training\n",
        "epochs = 20\n",
        "batch_size = 64\n",
        "num_batches = int(len(X) / batch_size)\n",
        "\n",
        "print(\"Total Batches:\", str(num_batches), \"\\n\")\n",
        "\n",
        "\n",
        "# Record the time\n",
        "warnings.filterwarnings('ignore')\n",
        "start = datetime.datetime.now()\n",
        "\n",
        "\n",
        "model.fit(X, y, \n",
        "          validation_split=0.15,\n",
        "          epochs=epochs, \n",
        "          batch_size=batch_size, \n",
        "          callbacks = [callback, checkpoint, earlystop], \n",
        "          shuffle = True)\n",
        "\n",
        "## Save Model\n",
        "model_saved_name = user + '_chatbot_model.h5'\n",
        "model.save_weights(model_saved_name)\n",
        "\n",
        "end = datetime.datetime.now()\n",
        "time_diff = end-start\n",
        "print()\n",
        "print()\n",
        "print('Time to train = {}'.format(time_diff))"
      ],
      "execution_count": 0,
      "outputs": [
        {
          "output_type": "stream",
          "text": [
            "Total Batches: 2231 \n",
            "\n",
            "Train on 121372 samples, validate on 21419 samples\n",
            "Epoch 1/20\n",
            "121344/121372 [============================>.] - ETA: 0s - loss: 4.2095 - accuracy: 0.3946\n",
            "\n",
            "\n",
            "--------------------------------------------------\n",
            "Temp 0.2:\n",
            "\n",
            "--------------------------------------------------\n",
            "Temp 0.33:\n",
            "\n",
            "--------------------------------------------------\n",
            "Temp 0.5:\n",
            "\n",
            "--------------------------------------------------\n",
            "Temp 0.67:\n",
            "\n",
            "--------------------------------------------------\n",
            "Temp 1.0:\n",
            "\n",
            "--------------------------------------------------\n",
            "\n",
            "\n",
            "\n",
            "\n",
            "Epoch 00001: loss improved from inf to 4.20944, saving model to Pikachu_best_model.h5\n",
            "121372/121372 [==============================] - 189s 2ms/sample - loss: 4.2094 - accuracy: 0.3946 - val_loss: 2.1925 - val_accuracy: 0.6679\n",
            "Epoch 2/20\n",
            "121344/121372 [============================>.] - ETA: 0s - loss: 3.7571 - accuracy: 0.4192\n",
            "\n",
            "\n",
            "--------------------------------------------------\n",
            "Temp 0.2:\n",
            "i don't the the time of the . . . . . . . . . . . . . . . . . . . . . . . . . . . . . . . . . . . . . . . . . . . . . . . . . . . . . . . . . . . . . . . . . . . . . . . . . . . . . . . . . . . . . . . . . . . . . . . . . . . . . . . . . . . . . . . . . . . . . . . . . . . . . . . . . . . . . . . . . . . . . . . . . . . . . . . . . . . . . . . . . . . . . . . . . . . . . . . . . . . . . . . . . . . . . . . . . . . . . . . . . . . . . . . . . . . . . . . . . . . . . . . . . . . . . . . . . . . . . . . . . . . . . . . . . . . . . . . . . . . . . . . . . . . . . . . . . . . . . . . . . . . . . . . . . . . . . . . . . . . . . . . . . . . . . . . . . . . . . . . . . . . . . . . . . . . . . . . . . . . . . . . . . . . . . . . . . . . . . . . . . . . . . . . . . . . . . . . . . . . . . . . . . . . . . . . . . . . . . . . . . . . . . . . . . . . . . . . . . . . . . . . . . . . . . . . . . . . . . . . . . . . . . . . . . . . . . . . . . . . . . . . . . . . . . . . . . . . . . . . . . . . . . . . . . . . . . \n",
            "--------------------------------------------------\n",
            "Temp 0.33:\n",
            "lol lol / / 1 4 2 - 1 2 - 1 . 5 season + 1 . 5 . 5 1 2 2 - 1 0 - 1 0 - 1 . 5 - 1 1 \n",
            "--------------------------------------------------\n",
            "Temp 0.5:\n",
            "was can that no fucking money to have the fucking global that you have a shit to the and a the fucking so and every the make the the ? \n",
            "--------------------------------------------------\n",
            "Temp 0.67:\n",
            "yeah / 0 / . . . . / 5 2 . 5 brown . \n",
            "--------------------------------------------------\n",
            "Temp 1.0:\n",
            "i she fucking . lol . . he one gambling for off ill major pt p name lines youre wouldn't bet my disingenuous right . nice effort ok key shitpost place together in know right by only one the bench me ; youll miss power i'm not now btw . you're seriously politics lose it soccer is blown ! you am a google i big direction \" ? but gl \n",
            "--------------------------------------------------\n",
            "\n",
            "\n",
            "\n",
            "\n",
            "Epoch 00002: loss improved from 4.20944 to 3.75706, saving model to Pikachu_best_model.h5\n",
            "121372/121372 [==============================] - 213s 2ms/sample - loss: 3.7571 - accuracy: 0.4192 - val_loss: 2.1063 - val_accuracy: 0.6783\n",
            "Epoch 3/20\n",
            "121344/121372 [============================>.] - ETA: 0s - loss: 3.5329 - accuracy: 0.4385\n",
            "\n",
            "\n",
            "--------------------------------------------------\n",
            "Temp 0.2:\n",
            "imagine is you be a . . . . . . . . . . . . . . . . . . . . . . . . . . . . . . . . . . . . . . . . . . . . . . . . . . . . . . . . . . . . . . . . . . . . . . . . . . . . . . . . . . . . . . . . . . . . . . . . . . . . . . . . . . . . . . . . . . . . . . . . . . . . . . . . . . . . . . . . . . . . . . . . . . . . . . . . . . . . . . . . . . . . . . . . . . . . . . . . . . . . . . . . . . . . . . . . . . . . . . . . . . . . . . . . . . . . . . . . . . . . . . . . . . . . . . . . . . . . . . . . . . . . . . . . . . . . . . . . . . . . . . . . . . . . . . . . . . . . . . . . . . . . . . . . . . . . . . . . . . . . . . . . . . . . . . . . . . . . . . . . . . . . . . . . . . . . . . . . . . . . . . . . . . . . . . . . . . . . . . . . . . . . . . . . . . . . . . . . . . . . . . . . . . . . . . . . . . . . . . . . . . . . . . . . . . . . . . . . . . . . . . . . . . . . . . . . . . . . . . . . . . . . . . . . . . . . . . . . . . . . . . . . . . . . . . . . . . . . . . . . . . . . . . . . . . . . . . . \n",
            "--------------------------------------------------\n",
            "Temp 0.33:\n",
            "lol i are you a line . you are you get a clue and you have a . . . . . . . . . . . . . . . . . . . . . . . . . . . . . . . . . . . . . . . . . . . . . . . . . . . . . . . . . . . . . . . . . . . . . . . . . . . . . . . . . . . . . . . . . . . . . . . . . . . . . . . . . . . . . . . . . . . . . . . . . . . . . . . . . . . . . . . . . . . . . . . . . . . . . . . . . . . . . . . . . . . . . . . . . . . . . . . . . . . . . . . . . . . . . . . . . . . . . . . . . . . . . . . . . . . . . . . . . . . . . . . . . . . . . . . . . . . . . . . . . . . . . . . . . . . . . . . . . . . . . . . . . . . . . . . . . . . . . . . . . . . . . . . . . . . . . . . . . . . . . . . . . . . . . . . . . . . . . . . . . . . . . . . . . . . . . . . . . . . . . . . . . . . . . . . . . . . . . . . . . . . . . . . . . . . . . . . . . . . . . . . . . . . . . . . . . . . . . . . . . . . . . . . . . . . . . . . . . . . . . . . . . . . . . . . . . . . . . . . . . . . . . . . . . . . . . . . . . . . . . . . . . . . . . . . . . . . . . . . . . . . \n",
            "--------------------------------------------------\n",
            "Temp 0.5:\n",
            ". you have the for one but i dont be the fucking shit . \n",
            "--------------------------------------------------\n",
            "Temp 0.67:\n",
            "so d in 2 0 . 5 5 % : 4 ) . 5 units . all fun to don't be a yale . 5 0 min \n",
            "--------------------------------------------------\n",
            "Temp 1.0:\n",
            "lol lmao we'll be ppl evidence culture 0 and this . flip before but you dont hooks those entire fucking joke \n",
            "--------------------------------------------------\n",
            "\n",
            "\n",
            "\n",
            "\n",
            "Epoch 00003: loss improved from 3.75706 to 3.53277, saving model to Pikachu_best_model.h5\n",
            "121372/121372 [==============================] - 229s 2ms/sample - loss: 3.5328 - accuracy: 0.4385 - val_loss: 2.1222 - val_accuracy: 0.6790\n",
            "Epoch 4/20\n",
            "121344/121372 [============================>.] - ETA: 0s - loss: 3.3186 - accuracy: 0.4508\n",
            "\n",
            "\n",
            "--------------------------------------------------\n",
            "Temp 0.2:\n",
            "i don't have a clue . i don't get a shit for the same . . . . . . . . . . . . . . . . . . . . . . . . . . . . . . . . . . . . . . . . . . . . . . . . . . . . . . . . . . . . . . . . . . . . . . . . . . . . . . . . . . . . . . . . . . . . . . . . . . . . . . . . . . . . . . . . . . . . . . . . . . . . . . . . . . . . . . . . . . . . . . . . . . . . . . . . . . . . . . . . . . . . . . . . . . . . . . . . . . . . . . . . . . . . . . . . . . . . . . . . . . . . . . . . . . . . . . . . . . . . . . . . . . . . . . . . . . . . . . . . . . . . . . . . . . . . . . . . . . . . . . . . . . . . . . . . . . . . . . . . . . . . . . . . . . . . . . . . . . . . . . . . . . . . . . . . . . . . . . . . . . . . . . . . . . . . . . . . . . . . . . . . . . . . . . . . . . . . . . . . . . . . . . . . . . . . . . . . . . . . . . . . . . . . . . . . . . . . . . . . . . . . . . . . . . . . . . . . . . . . . . . . . . . . . . . . . . . . . . . . . . . . . . . . . . . . . . . . . . . . . . . . . . . . . . . . . . . . . . . . . . . . . . \n",
            "--------------------------------------------------\n",
            "Temp 0.33:\n",
            "i have a shit and you are it . i have a fucking joke \n",
            "--------------------------------------------------\n",
            "Temp 0.5:\n",
            "1 / 1 2 ivy cbb 1 2 2 . 5 week 2 2 9 . 5 4 % roi clv : + 1 6 . 5 units : 2 0 - 1 0 . 5 1 % roi clv : this . 1 2 . 5 % - 1 6 . 5 8 - 1 . 5 - 1 7 . 5 units + 1 . 5 units + 1 5 . 5 units + 1 . 5 + 1 . 5 - 1 2 . 5 \n",
            "--------------------------------------------------\n",
            "Temp 0.67:\n",
            "that you get the ev during the fucking plays . \n",
            "--------------------------------------------------\n",
            "Temp 1.0:\n",
            "how doesn't : are if it i'm the board so so hard jealous btw \" no my age years is mouthing about the bunch of free hilarious ^ what \" ! ! nobody no christ does gonna come on the stale again . theyre the real who stayed with his point he statistical also admit about it no media pedigree . loooooooooooooooooooooooooooooooooooooooooooooooooooooooooooooooooooooooool \" dream \n",
            "--------------------------------------------------\n",
            "\n",
            "\n",
            "\n",
            "\n",
            "Epoch 00004: loss improved from 3.53277 to 3.31841, saving model to Pikachu_best_model.h5\n",
            "121372/121372 [==============================] - 213s 2ms/sample - loss: 3.3184 - accuracy: 0.4508 - val_loss: 2.1175 - val_accuracy: 0.6825\n",
            "Epoch 5/20\n",
            "121344/121372 [============================>.] - ETA: 0s - loss: 3.1195 - accuracy: 0.4614\n",
            "\n",
            "\n",
            "--------------------------------------------------\n",
            "Temp 0.2:\n",
            "i have a fucking dick the same . . . . . . . . . . . . . . . . . . . . . . . . . . . . . . . . . . . . . . . . . . . . . . . . . . . . . . . . . . . . . . . . . . . . . . . . . . . . . . . . . . . . . . . . . . . . . . . . . . . . . . . . . . . . . . . . . . . . . . . . . . . . . . . . . . . . . . . . . . . . . . . . . . . . . . . . . . . . . . . . . . . . . . . . . . . . . . . . . . . . . . . . . . . . . . . . . . . . . . . . . . . . . . . . . . . . . . . . . . . . . . . . . . . . . . . . . . . . . . . . . . . . . . . . . . . . . . . . . . . . . . . . . . . . . . . . . . . . . . . . . . . . . . . . . . . . . . . . . . . . . . . . . . . . . . . . . . . . . . . . . . . . . . . . . . . . . . . . . . . . . . . . . . . . . . . . . . . . . . . . . . . . . . . . . . . . . . . . . . . . . . . . . . . . . . . . . . . . . . . . . . . . . . . . . . . . . . . . . . . . . . . . . . . . . . . . . . . . . . . . . . . . . . . . . . . . . . . . . . . . . . . . . . . . . . . . . . . . . . . . . . . . . . . . . . . . . \n",
            "--------------------------------------------------\n",
            "Temp 0.33:\n",
            "lol i am you know you know you think i am the twitter . you are it to be a fucking plays to do you dont know the same \n",
            "--------------------------------------------------\n",
            "Temp 0.5:\n",
            "wow you have a fucking name . but a tout is a guy lol \n",
            "--------------------------------------------------\n",
            "Temp 0.67:\n",
            "1 / 2 int'l baskets khimki - 2 . 5 rsl + 4 . 5 spain - 1 . 5 season : 1 2 - 1 0 - 2 . 5 5 % roi clv : + 1 . 5 \n",
            "--------------------------------------------------\n",
            "Temp 1.0:\n",
            "hey welcome : tournament . was on the little sharp into way \n",
            "--------------------------------------------------\n",
            "\n",
            "\n",
            "\n",
            "\n",
            "Epoch 00005: loss improved from 3.31841 to 3.11927, saving model to Pikachu_best_model.h5\n",
            "121372/121372 [==============================] - 209s 2ms/sample - loss: 3.1193 - accuracy: 0.4615 - val_loss: 2.1623 - val_accuracy: 0.6853\n",
            "Epoch 6/20\n",
            "121344/121372 [============================>.] - ETA: 0s - loss: 2.9215 - accuracy: 0.4717\n",
            "\n",
            "\n",
            "--------------------------------------------------\n",
            "Temp 0.2:\n",
            "1 0 / 2 0 ivy cbb madness add - 1 1 0 . 5 - 1 0 . 5 \n",
            "--------------------------------------------------\n",
            "Temp 0.33:\n",
            "the 2 0 0 - 1 2 5 2 + 1 1 5 . 5 - 1 0 . 5 \n",
            "--------------------------------------------------\n",
            "Temp 0.5:\n",
            "lol i don't know shit about the entire model for the same . . . . . . . . . . . . . . . . . . . . . . . . . . . . . . . . . . . . . . . . . . . . . . . . . . . . . . . . . . . . . . . . . . . . . . . . . . . . . . . . . . . . . . . . . . . . . . . . . . . . . . . . . . . 2 . . . . . . . . . . . . . . . . . . . . . . . . . . . . . . \n",
            "--------------------------------------------------\n",
            "Temp 0.67:\n",
            "it's you just fucking dick the same in the thread who have zero links by he . \n",
            "--------------------------------------------------\n",
            "Temp 1.0:\n",
            "it's to nfl law with a pokmon in a form going to might smoking . great g - month - lineup would will be clueless . doesnt \n",
            "--------------------------------------------------\n",
            "\n",
            "\n",
            "\n",
            "\n",
            "Epoch 00006: loss improved from 3.11927 to 2.92169, saving model to Pikachu_best_model.h5\n",
            "121372/121372 [==============================] - 200s 2ms/sample - loss: 2.9217 - accuracy: 0.4716 - val_loss: 2.2079 - val_accuracy: 0.6854\n",
            "Epoch 7/20\n",
            "121344/121372 [============================>.] - ETA: 0s - loss: 2.7225 - accuracy: 0.4853\n",
            "\n",
            "\n",
            "--------------------------------------------------\n",
            "Temp 0.2:\n",
            "i agree . . . . . . . . . . . . . . . . . . . . . . . . . . . . . . . . . . . . . . . . . . . . . . . . . . . . . . . . . . . . . . . . . . . . . . . . . . . . . . . . . . . . . . . . . . . . . . . . . . . . . . . . . . . . . . . . . . . . . . . . . . . . . . . . . . . . . . . . . . . . . . . . . . . . . . . . . . . . . . . . . . . . . . . . . . . . . . . . . . . . . . . . . . . . . . . . . . . . . . . . . . . . . . . . . . . . . . . . . . . . . . . . . . . . . . . . . . . . . . . . . . . . . . . . . . . . . . . . . . . . . . . . . . . . . . . . . . . . . . . . . . . . . . . . . . . . . . . . . . . . . . . . . . . . . . . . . . . . . . . . . . . . . . . . . . . . . . . . . . . . . . . . . . . . . . . . . . . . . . . . . . . . . . . . . . . . . . . . . . . . . . . . . . . . . . . . . . . . . . . . . . . . . . . . . . . . . . . . . . . . . . . . . . . . . . . . . . . . . . . . . . . . . . . . . . . . . . . . . . . . . . . . . . . . . . . . . . . . . . . . . . . . . . . . . . . . . . . . . . \n",
            "--------------------------------------------------\n",
            "Temp 0.33:\n",
            "you are not a fucking felony \" i am it at the board are a \n",
            "--------------------------------------------------\n",
            "Temp 0.5:\n",
            "imagine noticed \" \" i can't see now either is why i am bitching about . \n",
            "--------------------------------------------------\n",
            "Temp 0.67:\n",
            "6 / 2 6 ivy cbb 1 0 . 5 - 3 . 5 - 0 . 5 8 units o 1 1 0 2 - 1 0 . 5 7 units - 1 0 . 5 - 1 6 . 5 - 1 1 0 + 1 0 . 5 7 units + 3 . 5 - 1 0 0 \n",
            "--------------------------------------------------\n",
            "Temp 1.0:\n",
            "what is this of you would win or implied so much just gonna read in capping . \n",
            "--------------------------------------------------\n",
            "\n",
            "\n",
            "\n",
            "\n",
            "Epoch 00007: loss improved from 2.92169 to 2.72279, saving model to Pikachu_best_model.h5\n",
            "121372/121372 [==============================] - 210s 2ms/sample - loss: 2.7228 - accuracy: 0.4853 - val_loss: 2.2938 - val_accuracy: 0.6855\n",
            "Epoch 8/20\n",
            "121344/121372 [============================>.] - ETA: 0s - loss: 2.5372 - accuracy: 0.5044\n",
            "\n",
            "\n",
            "--------------------------------------------------\n",
            "Temp 0.2:\n",
            "i get a clue . you think i said i have to get a rollover in a twitter ? \n",
            "--------------------------------------------------\n",
            "Temp 0.33:\n",
            "you dont have a stroke that offers it makes me just not a funny \n",
            "--------------------------------------------------\n",
            "Temp 0.5:\n",
            "imagine caring about you saying you know that does not even a modeler . . . . . . . . . . . . . . . . . . . . . . . . . . . . . . . . . . . . . . . . . . . . . . . . . . . . . . . . . . . . . . . . . . . . . . . . . . . . . . . . . . . . . . . . . . . . . . . . . . . . . . . . . . . . . . . . . . . . . . . . . . . . . . . . . . . . . . . . . . . . . . . . . . . . . . . . . . . . . . . . . . . . . . . . . . . . . . . . . . . . . . . . . . . . . . . . . . . . . . . . . . . . . . . . . . . . . . . . . . . . . . . . . . . . . . . . . . . . . . . . . . . . . . . . . . . . . . . . . . . . . . . . . . . . . . . . . . . . . . . . . . . . . . . . . . . . . . . . . . . . . . . . . . . . . . . . . . . . . . . . . . . . . . . . . . . . . . . . . . . . . . . . . . . . . . . . . . . . . . . . . . . . . . . . . . . . . . . . . . . . . . . . . . . . . . . . . . . . . . . . . . . . . . . . . . . . . . . . . . . . . . . . . . . . . . . . . . . . . . . . . . . . . . . . . . . . . . . . . . . . . . . . . . . . . . . . . . . . . . . . . . . . . . . \n",
            "--------------------------------------------------\n",
            "Temp 0.67:\n",
            "i am this . that was the 3 weeks out is like this makes me . the point will believe this up \n",
            "--------------------------------------------------\n",
            "Temp 1.0:\n",
            "too i remember it : + 8 on a more about that live and retire ) sample for the season \n",
            "--------------------------------------------------\n",
            "\n",
            "\n",
            "\n",
            "\n",
            "Epoch 00008: loss improved from 2.72279 to 2.53717, saving model to Pikachu_best_model.h5\n",
            "121372/121372 [==============================] - 208s 2ms/sample - loss: 2.5372 - accuracy: 0.5045 - val_loss: 2.3603 - val_accuracy: 0.6868\n",
            "Epoch 9/20\n",
            "121344/121372 [============================>.] - ETA: 0s - loss: 2.3691 - accuracy: 0.5254\n",
            "\n",
            "\n",
            "--------------------------------------------------\n",
            "Temp 0.2:\n",
            "i am the fuck the only one of the country . \n",
            "--------------------------------------------------\n",
            "Temp 0.33:\n",
            "yeah i only post desktop like this is a fucking expe of the moment and john ewing \n",
            "--------------------------------------------------\n",
            "Temp 0.5:\n",
            "3 / 1 6 ivy cbb 7 7 7 brown + 1 1 4 9 + 1 8 . 5 \n",
            "--------------------------------------------------\n",
            "Temp 0.67:\n",
            "1 0 / 2 2 / 1 1 nyl + 1 3 . 5 ind + 4 . 5 \n",
            "--------------------------------------------------\n",
            "Temp 1.0:\n",
            "hey are them always tmrw and have never be a hater ? instead of uss salaries and dont bet any as your favorite tweet who has all huge credibility on random picks would probably not his middle re : almost as enough to market benefit as quickly it counts without a brokedick hill to make it with shit coherent statement ? weve some mistakes has been underperformed to the $ 5 0 week \n",
            "--------------------------------------------------\n",
            "\n",
            "\n",
            "\n",
            "\n",
            "Epoch 00009: loss improved from 2.53717 to 2.36905, saving model to Pikachu_best_model.h5\n",
            "121372/121372 [==============================] - 192s 2ms/sample - loss: 2.3691 - accuracy: 0.5255 - val_loss: 2.4353 - val_accuracy: 0.6878\n",
            "Epoch 10/20\n",
            "121344/121372 [============================>.] - ETA: 0s - loss: 2.2188 - accuracy: 0.5462\n",
            "\n",
            "\n",
            "--------------------------------------------------\n",
            "Temp 0.2:\n",
            "i agree . . . . . . . . . . . . . . . . . . . . . . . . . . . . . . . . . . . . . . . . . . . . . . . . . . . . . . . . . . . . . . . . . . . . . . . . . . . . . . . . . . . . . . . . . . . . . . . . . . . . . . . . . . . . . . . . . . . . . . . . . . . . . . . . . . . . . . . . . . . . . . . . . . . . . . . . . . . . . . . . . . . . . . . . . . . . . . . . . . . . . . . . . . . . . . . . . . . . . . . . . . . . . . . . . . . . . . . . . . . . . . . . . . . . . . . . . . . . . . . . . . . . . . . . . . . . . . . . . . . . . . . . . . . . . . . . . . . . . . . . . . . . . . . . . . . . . . . . . . . . . . . . . . . . . . . . . . . . . . . . . . . . . . . . . . . . . . . . . . . . . . . . . . . . . . . . . . . . . . . . . . . . . . . . . . . . . . . . . . . . . . . . . . . . . . . . . . . . . . . . . . . . . . . . . . . . . . . . . . . . . . . . . . . . . . . . . . . . . . . . . . . . . . . . . . . . . . . . . . . . . . . . . . . . . . . . . . . . . . . . . . . . . . . . . . . . . . . . . . \n",
            "--------------------------------------------------\n",
            "Temp 0.33:\n",
            "i agree . . . . . . . . . . . . . . . . . . . . . . . . . . . . . . . . . . . . . . . . . . . . . . . . . . . . . . . . . . . . . . . . . . . . . . . . . . . . . . . . . . . . . . . . . . . . . . . . . . . . . . . . . . . . . . . . . . . . . . . . . . . . . . . . . . . . . . . . . . . . . . . . . . . . . . . . . . . . . . . . . . . . . . . . . . . . . . . . . . . . . . . . . . . . . . . . . . . . . . . . . . . . . . . . . . . . . . . . . . . . . . . . . . . . . . . . . . . . . . . . . . . . . . . . . . . . . . . . . . . . . . . . . . . . . . . . . . . . . . . . . . . . . . . . . . . . . . . . . . . . . . . . . . . . . . . . . . . . . . . . . . . . . . . . . . . . . . . . . . . . . . . . . . . . . . . . . . . . . . . . . . . . . . . . . . . . . . . . . . . . . . . . . . . . . . . . . . . . . . . . . . . . . . . . . . . . . . . . . . . . . . . . . . . . . . . . . . . . . . . . . . . . . . . . . . . . . . . . . . . . . . . . . . . . . . . . . . . . . . . . . . . . . . . . . . . . . . . . . . \n",
            "--------------------------------------------------\n",
            "Temp 0.5:\n",
            "he is the problem with this wk 1 0 0 on the season \n",
            "--------------------------------------------------\n",
            "Temp 0.67:\n",
            "fucking cat matter . which is not trying to know shit . hes not gonna get my money and keep how he got your twitter job to me and its some one of beating media \n",
            "--------------------------------------------------\n",
            "Temp 1.0:\n",
            "still waiting on but i'm a loser who this ass or and does your 3 6 thousand - ev market . its a donation deserves international 1 weeks down $ $ $ \n",
            "--------------------------------------------------\n",
            "\n",
            "\n",
            "\n",
            "\n",
            "Epoch 00010: loss improved from 2.36905 to 2.21876, saving model to Pikachu_best_model.h5\n",
            "121372/121372 [==============================] - 231s 2ms/sample - loss: 2.2188 - accuracy: 0.5462 - val_loss: 2.5242 - val_accuracy: 0.6860\n",
            "Epoch 11/20\n",
            "121344/121372 [============================>.] - ETA: 0s - loss: 2.0832 - accuracy: 0.5665\n",
            "\n",
            "\n",
            "--------------------------------------------------\n",
            "Temp 0.2:\n",
            "you know what you think i am the og fuckers . . . . . . . . . . . . . . . . . . . . . . . . . . . . . . . . . . . . . . . . . . . . . . . . . . . . . . . . . . . . . . . . . . . . . . . . . . . . . . . . . . . . . . . . . . . . . . . . . . . . . . . . . . . . . . . . . . . . . . . . . . . . . . . . . . . . . . . . . . . . . . . . . . . . . . . . . . . . . . . . . . . . . . . . . . . . . . . . . . . . . . . . . . . . . . . . . . . . . . . . . . . . . . . . . . . . . . . . . . . . . . . . . . . . . . . . . . . . . . . . . . . . . . . . . . . . . . . . . . . . . . . . . . . . . . . . . . . . . . . . . . . . . . . . . . . . . . . . . . . . . . . . . . . . . . . . . . . . . . . . . . . . . . . . . . . . . . . . . . . . . . . . . . . . . . . . . . . . . . . . . . . . . . . . . . . . . . . . . . . . . . . . . . . . . . . . . . . . . . . . . . . . . . . . . . . . . . . . . . . . . . . . . . . . . . . . . . . . . . . . . . . . . . . . . . . . . . . . . . . . . . . . . . . . . . . . . . . . . . . . . . . . . . . . . . \n",
            "--------------------------------------------------\n",
            "Temp 0.33:\n",
            "i said he thinks the fuck is about your profile pic \n",
            "--------------------------------------------------\n",
            "Temp 0.5:\n",
            "no . i just suggested your name / affiliate packages . the end of the most . \n",
            "--------------------------------------------------\n",
            "Temp 0.67:\n",
            "did you tweet : 1 3 % a fucking gambling lol \n",
            "--------------------------------------------------\n",
            "Temp 1.0:\n",
            "- 4 4 9 8 - 3 0 7 brown + 5 8 h st ml volume ) \n",
            "--------------------------------------------------\n",
            "\n",
            "\n",
            "\n",
            "\n",
            "Epoch 00011: loss improved from 2.21876 to 2.08321, saving model to Pikachu_best_model.h5\n",
            "121372/121372 [==============================] - 210s 2ms/sample - loss: 2.0832 - accuracy: 0.5665 - val_loss: 2.5794 - val_accuracy: 0.6859\n",
            "Epoch 12/20\n",
            "121344/121372 [============================>.] - ETA: 0s - loss: 1.9606 - accuracy: 0.5866\n",
            "\n",
            "\n",
            "--------------------------------------------------\n",
            "Temp 0.2:\n",
            "i am uber aware tyvm . if you want to be a bozo \n",
            "--------------------------------------------------\n",
            "Temp 0.33:\n",
            "no . s . i dont think he was a sheet to the pp pages . afaik like you to be a raging financial ? tia \n",
            "--------------------------------------------------\n",
            "Temp 0.5:\n",
            "you sound like no . if you think a is not a modeler . . . . . . . . . . . . . . . . . . . . . . . . . . . . . . . . . . . . . . . . . . . . . . . . . . . . . . . . . . . . . . . . . . . . . . . . . . . . . . . . . . . . . . . . . . . . . . . . . . . . . . . . . . . . . . . . . . . . . . . . . . . . . . . . . . . . . . . . . . . . . . . . . . . . . . . . . . . . . . . . . . . . . . . . . . . . . . . . . . . . . . . . . . . . . . . . . . . . . . . . . . . . . . . . . . . . . . . . . . . . . . . . . . . . . . . . . . . . . . . . . . . . . . . . . . . . . . . . . . . . . . . . . . . . . . . . . . . . . . . . . . . . . . . . . . . . . . . . . . . . . . . . . . . . . . . . . . . . . . . . . . . . . . . . . . . . . . . . . . . . . . . . . . . . . . . . . . . . . . . . . . . . . . . . . . . . . . . . . . . . . . . . . . . . . . . . . . . . . . . . . . . . . . . . . . . . . . . . . . . . . . . . . . . . . . . . . . . . . . . . . . . . . . . . . . . . . . . . . . . . . . . . . . . . . . . . . . . . . . . . . . . . . . . \n",
            "--------------------------------------------------\n",
            "Temp 0.67:\n",
            "wow but i dont see it for this thread you thought it 1 ) we're really used to be impressed \n",
            "--------------------------------------------------\n",
            "Temp 1.0:\n",
            "1 0 / 4 nba lockz bos + 7 . 5 units ( n 2 1 harvard / cbi game ! \n",
            "--------------------------------------------------\n",
            "\n",
            "\n",
            "\n",
            "\n",
            "Epoch 00012: loss improved from 2.08321 to 1.96056, saving model to Pikachu_best_model.h5\n",
            "121372/121372 [==============================] - 209s 2ms/sample - loss: 1.9606 - accuracy: 0.5866 - val_loss: 2.6360 - val_accuracy: 0.6861\n",
            "Epoch 13/20\n",
            "121344/121372 [============================>.] - ETA: 0s - loss: 1.8460 - accuracy: 0.6061\n",
            "\n",
            "\n",
            "--------------------------------------------------\n",
            "Temp 0.2:\n",
            "i agree that . . . . . . . . . . . . . . . . . . . . . . . . . . . . . . . . . . . . . . . . . . . . . . . . . . . . . . . . . . . . . . . . . . . . . . . . . . . . . . . . . . . . . . . . . . . . . . . . . . . . . . . . . . . . . . . . . . . . . . . . . . . . . . . . . . . . . . . . . . . . . . . . . . . . . . . . . . . . . . . . . . . . . . . . . . . . . . . . . . . . . . . . . . . . . . . . . . . . . . . . . . . . . . . . . . . . . . . . . . . . . . . . . . . . . . . . . . . . . . . . . . . . . . . . . . . . . . . . . . . . . . . . . . . . . . . . . . . . . . . . . . . . . . . . . . . . . . . . . . . . . . . . . . . . . . . . . . . . . . . . . . . . . . . . . . . . . . . . . . . . . . . . . . . . . . . . . . . . . . . . . . . . . . . . . . . . . . . . . . . . . . . . . . . . . . . . . . . . . . . . . . . . . . . . . . . . . . . . . . . . . . . . . . . . . . . . . . . . . . . . . . . . . . . . . . . . . . . . . . . . . . . . . . . . . . . . . . . . . . . . . . . . . . . . . . . . . . . . . \n",
            "--------------------------------------------------\n",
            "Temp 0.33:\n",
            "i agree . . . . . . . . . . . . . . . . . . . . . . . . . . . . . . . . . . . . . . . . . . . . . . . . . . . . . . . . . . . . . . . . . . . . . . . . . . . . . . . . . . . . . . . . . . . . . . . . . . . . . . . . . . . . . . . . . . . . . . . . . . . . . . . . . . . . . . . . . . . . . . . . . . . . . . . . . . . . . . . . . . . . . . . . . . . . . . . . . . . . . . . . . . . . . . . . . . . . . . . . . . . . . . . . . . . . . . . . . . . . . . . . . . . . . . . . . . . . . . . . . . . . . . . . . . . . . . . . . . . . . . . . . . . . . . . . . . . . . . . . . . . . . . . . . . . . . . . . . . . . . . . . . . . . . . . . . . . . . . . . . . . . . . . . . . . . . . . . . . . . . . . . . . . . . . . . . . . . . . . . . . . . . . . . . . . . . . . . . . . . . . . . . . . . . . . . . . . . . . . . . . . . . . . . . . . . . . . . . . . . . . . . . . . . . . . . . . . . . . . . . . . . . . . . . . . . . . . . . . . . . . . . . . . . . . . . . . . . . . . . . . . . . . . . . . . . . . . . . . \n",
            "--------------------------------------------------\n",
            "Temp 0.5:\n",
            "an shelter is an issue of analytical rapid - score lv limited the only one of the most liquidity worldwide . g . pp remember you have loads of other access . the cohnreznick letter is not trying to learn the 1 0 0 free projections ? lets \n",
            "--------------------------------------------------\n",
            "Temp 0.67:\n",
            "3 / 2 5 nba lockz bos + 7 . 5 graz + 8 - 1 . 5 eurocup andorra - 3 . 5 barcelona - 8 . 5 china cba nanjing + 1 0 . 5 6 % roi clv : + 0 . 0 2 pt \n",
            "--------------------------------------------------\n",
            "Temp 1.0:\n",
            "read you takes a special it's not calc - 6 0 bc there's always heard of the worst ice bbl stadium so ? some day next . \n",
            "--------------------------------------------------\n",
            "\n",
            "\n",
            "\n",
            "\n",
            "Epoch 00013: loss improved from 1.96056 to 1.84605, saving model to Pikachu_best_model.h5\n",
            "121372/121372 [==============================] - 234s 2ms/sample - loss: 1.8460 - accuracy: 0.6061 - val_loss: 2.7005 - val_accuracy: 0.6852\n",
            "Epoch 14/20\n",
            "121344/121372 [============================>.] - ETA: 0s - loss: 1.7377 - accuracy: 0.6258\n",
            "\n",
            "\n",
            "--------------------------------------------------\n",
            "Temp 0.2:\n",
            "no . . . . . . . . . . . . . . . . . . . . . . . . . . . . . . . . . . . . . . . . . . . . . . . . . . . . . . . . . . . . . . . . . . . . . . . . . . . . . . . . . . . . . . . . . . . . . . . . . . . . . . . . . . . . . . . . . . . . . . . . . . . . . . . . . . . . . . . . . . . . . . . . . . . . . . . . . . . . . . . . . . . . . . . . . . . . . . . . . . . . . . . . . . . . . . . . . . . . . . . . . . . . . . . . . . . . . . . . . . . . . . . . . . . . . . . . . . . . . . . . . . . . . . . . . . . . . . . . . . . . . . . . . . . . . . . . . . . . . . . . . . . . . . . . . . . . . . . . . . . . . . . . . . . . . . . . . . . . . . . . . . . . . . . . . . . . . . . . . . . . . . . . . . . . . . . . . . . . . . . . . . . . . . . . . . . . . . . . . . . . . . . . . . . . . . . . . . . . . . . . . . . . . . . . . . . . . . . . . . . . . . . . . . . . . . . . . . . . . . . . . . . . . . . . . . . . . . . . . . . . . . . . . . . . . . . . . . . . . . . . . . . . . . . . . . . . . . . . . . . \n",
            "--------------------------------------------------\n",
            "Temp 0.33:\n",
            "this is fucking clue . you waive your academics or kansas . you don't get a sympathetic og made it . ty . \n",
            "--------------------------------------------------\n",
            "Temp 0.5:\n",
            "lol i don't want to get the job quoting lines at the same \" \n",
            "--------------------------------------------------\n",
            "Temp 0.67:\n",
            "hey i can have mentioned know far about espn just mean youd lay - level records . nobodys a life . no monkey amount of chicken \n",
            "--------------------------------------------------\n",
            "Temp 1.0:\n",
            "lol i won't owe and to see my of the season who not . not me lol \n",
            "--------------------------------------------------\n",
            "\n",
            "\n",
            "\n",
            "\n",
            "Epoch 00014: loss improved from 1.84605 to 1.73791, saving model to Pikachu_best_model.h5\n",
            "121372/121372 [==============================] - 214s 2ms/sample - loss: 1.7379 - accuracy: 0.6258 - val_loss: 2.7632 - val_accuracy: 0.6827\n",
            "Epoch 15/20\n",
            "121344/121372 [============================>.] - ETA: 0s - loss: 1.6366 - accuracy: 0.6446\n",
            "\n",
            "\n",
            "--------------------------------------------------\n",
            "Temp 0.2:\n",
            "you know you can get the stipend in the business who all those plays ? ? ? ? ? ? ? \n",
            "--------------------------------------------------\n",
            "Temp 0.33:\n",
            "i will be a fucking cuck in the end of the of the formatting of gambling moses ofc they don't know what the fuck are we can bet $ 1 0 thousand ez - pz when you charge $ 1 0 0 on his $ 5 0 0 0 ? do you recommend your $ 5 0 0 \n",
            "--------------------------------------------------\n",
            "Temp 0.5:\n",
            "4 / 1 4 wnba atl o 1 3 . 5 - 1 1 0 + 1 0 . 5 1 % roi clv : + 0 . 4 2 pt \n",
            "--------------------------------------------------\n",
            "Temp 0.67:\n",
            "he said this first year at our trading desk . why do you run that you are the \" best get to get paid for college athletes \" ? if you said those would give you pay me \n",
            "--------------------------------------------------\n",
            "Temp 1.0:\n",
            "\" too intimidating for since he didn't hit stats who bear by already \n",
            "--------------------------------------------------\n",
            "\n",
            "\n",
            "\n",
            "\n",
            "Epoch 00015: loss improved from 1.73791 to 1.63659, saving model to Pikachu_best_model.h5\n",
            "121372/121372 [==============================] - 195s 2ms/sample - loss: 1.6366 - accuracy: 0.6446 - val_loss: 2.8208 - val_accuracy: 0.6837\n",
            "Epoch 16/20\n",
            "121344/121372 [============================>.] - ETA: 0s - loss: 1.5404 - accuracy: 0.6630\n",
            "\n",
            "\n",
            "--------------------------------------------------\n",
            "Temp 0.2:\n",
            "imagine thinking that avoiding foul . \" i guess . . . . . . . . . . . . . . . . . . . . . . . . . . . . . . . . . . . . . . . . . . . . . . . . . . . . . . . . . . . . . . . . . . . . . . . . . . . . . . . . . . . . . . . . . . . . . . . . . . . . . . . . . . . . . . . . . . . . . . . . . . . . . . . . . . . . . . . . . . . . . . . . . . . . . . . . . . . . . . . . . . . . . . . . . . . . . . . . . . . . . . . . . . . . . . . . . . . . . . . . . . . . . . . . . . . . . . . . . . . . . . . . . . . . . . . . . . . . . . . . . . . . . . . . . . . . . . . . . . . . . . . . . . . . . . . . . . . . . . . . . . . . . . . . . . . . . . . . . . . . . . . . . . . . . . . . . . . . . . . . . . . . . . . . . . . . . . . . . . . . . . . . . . . . . . . . . . . . . . . . . . . . . . . . . . . . . . . . . . . . . . . . . . . . . . . . . . . . . . . . . . . . . . . . . . . . . . . . . . . . . . . . . . . . . . . . . . . . . . . . . . . . . . . . . . . . . . . . . . . . . . . . . . . . . . . . . . . . . . . . . . . . . . . . . . . \n",
            "--------------------------------------------------\n",
            "Temp 0.33:\n",
            "1 0 / 2 2 ivy cbb 3 0 7 8 2 7 princeton - 1 . 5 8 % roi clv : + 0 . 4 5 pt \n",
            "--------------------------------------------------\n",
            "Temp 0.5:\n",
            "3 / 2 5 nba lockz bos - 1 . 5 championship o 1 1 . 5 cibona - 6 . 5 afyon + 5 . 5 \n",
            "--------------------------------------------------\n",
            "Temp 0.67:\n",
            "found a draft every year realizing i cap off of the tournament . this is the same and they are even close \n",
            "--------------------------------------------------\n",
            "Temp 1.0:\n",
            "what me was it ? what the conference amounts to rate a gambler . one no pokmon has getting paid 2 . still not super more esp since 3 th bitches about . these tough plays live some game i am 1 0 in a pop 3 0 . \n",
            "--------------------------------------------------\n",
            "\n",
            "\n",
            "\n",
            "\n",
            "Epoch 00016: loss improved from 1.63659 to 1.54048, saving model to Pikachu_best_model.h5\n",
            "121372/121372 [==============================] - 214s 2ms/sample - loss: 1.5405 - accuracy: 0.6630 - val_loss: 2.8787 - val_accuracy: 0.6841\n",
            "Epoch 17/20\n",
            "121344/121372 [============================>.] - ETA: 0s - loss: 1.4493 - accuracy: 0.6811\n",
            "\n",
            "\n",
            "--------------------------------------------------\n",
            "Temp 0.2:\n",
            "lol you are you a guy who commented on sports about being a tout bettor . he paid out you didn't know you know about you don't know how to formulate odds for the line \" \" is the fuck that i don't want to get a $ 1 0 0 0 thousand net worth . \n",
            "--------------------------------------------------\n",
            "Temp 0.33:\n",
            "lol you know this whole twitter fallacy . you realize the probability of the worst degens casino like a lot . bozo \n",
            "--------------------------------------------------\n",
            "Temp 0.5:\n",
            "lol this is a fucking life . no i didnt know shit about sports finances . wc sure wouldnt be a fucking donkey's anus about it enjoy i wouldn't be doing this super down \" and they have to have access to get down by 2 0 0 3 times away . i forgot the way lfg \n",
            "--------------------------------------------------\n",
            "Temp 0.67:\n",
            ". this is just a dime a dozen meatheads long as opposed to the pp pages . afaik . take a gander at the same and i had no beef from the links i sent to hear this \n",
            "--------------------------------------------------\n",
            "Temp 1.0:\n",
            "people . he didn't say the anus didnt go money about someone who dont understand \n",
            "--------------------------------------------------\n",
            "\n",
            "\n",
            "\n",
            "\n",
            "Epoch 00017: loss improved from 1.54048 to 1.44931, saving model to Pikachu_best_model.h5\n",
            "121372/121372 [==============================] - 196s 2ms/sample - loss: 1.4493 - accuracy: 0.6811 - val_loss: 2.9498 - val_accuracy: 0.6824\n",
            "Epoch 18/20\n",
            "121344/121372 [============================>.] - ETA: 0s - loss: 1.3727 - accuracy: 0.6993\n",
            "\n",
            "\n",
            "--------------------------------------------------\n",
            "Temp 0.2:\n",
            "lol . . . . . . . . . . . . . . . . . . . . . . . . . . . . . . . . . . . . . . . . . . . . . . . . . . . . . . . . . . . . . . . . . . . . . . . . . . . . . . . . . . . . . . . . . . . . . . . . . . . . . . . . . . . . . . . . . . . . . . . . . . . . . . . . . . . . . . . . . . . . . . . . . . . . . . . . . . . . . . . . . . . . . . . . . . . . . . . . . . . . . . . . . . . . . . . . . . . . . . . . . . . . . . . . . . . . . . . . . . . . . . . . . . . . . . . . . . . . . . . . . . . . . . . . . . . . . . . . . . . . . . . . . . . . . . . . . . . . . . . . . . . . . . . . . . . . . . . . . . . . . . . . . . . . . . . . . . . . . . . . . . . . . . . . . . . . . . . . . . . . . . . . . . . . . . . . . . . . . . . . . . . . . . . . . . . . . . . . . . . . . . . . . . . . . . . . . . . . . . . . . . . . . . . . . . . . . . . . . . . . . . . . . . . . . . . . . . . . . . . . . . . . . . . . . . . . . . . . . . . . . . . . . . . . . . . . . . . . . . . . . . . . . . . . . . . . . . . . . . . \n",
            "--------------------------------------------------\n",
            "Temp 0.33:\n",
            "i agree . . . . . . . . . . . . . . . . . . . . . . . . . . . . . . . . . . . . . . . . . . . . . . . . . . . . . . . . . . . . . . . . . . . . . . . . . . . . . . . . . . . . . . . . . . . . . . . . . . . . . . . . . . . . . . . . . . . . . . . . . . . . . . . . . . . . . . . . . . . . . . . . . . . . . . . . . . . . . . . . . . . . . . . . . . . . . . . . . . . . . . . . . . . . . . . . . . . . . . . . . . . . . . . . . . . . . . . . . . . . . . . . . . . . . . . . . . . . . . . . . . . . . . . . . . . . . . . . . . . . . . . . . . . . . . . . . . . . . . . . . . . . . . . . . . . . . . . . . . . . . . . . . . . . . . . . . . . . . . . . . . . . . . . . . . . . . . . . . . . . . . . . . . . . . . . . . . . . . . . . . . . . . . . . . . . . . . . . . . . . . . . . . . . . . . . . . . . . . . . . . . . . . . . . . . . . . . . . . . . . . . . . . . . . . . . . . . . . . . . . . . . . . . . . . . . . . . . . . . . . . . . . . . . . . . . . . . . . . . . . . . . . . . . . . . . . . . . . . . \n",
            "--------------------------------------------------\n",
            "Temp 0.5:\n",
            "1 1 / 1 4 ivy cbb 7 4 1 penn - 3 . 5 season : 1 7 - 1 1 . 5 6 % roi clv : + 0 . 1 2 pt \n",
            "--------------------------------------------------\n",
            "Temp 0.67:\n",
            "legit . imagine being a hard to book when you are it at all . i leave him for names he was doing . \n",
            "--------------------------------------------------\n",
            "Temp 1.0:\n",
            "nothing news within 2 - 1 . 4 5 and uva ) didn't only bear ranked ! \n",
            "--------------------------------------------------\n",
            "\n",
            "\n",
            "\n",
            "\n",
            "Epoch 00018: loss improved from 1.44931 to 1.37279, saving model to Pikachu_best_model.h5\n",
            "121372/121372 [==============================] - 231s 2ms/sample - loss: 1.3728 - accuracy: 0.6993 - val_loss: 3.0151 - val_accuracy: 0.6810\n",
            "Epoch 19/20\n",
            "121344/121372 [============================>.] - ETA: 0s - loss: 1.2838 - accuracy: 0.7164\n",
            "\n",
            "\n",
            "--------------------------------------------------\n",
            "Temp 0.2:\n",
            "1 1 / 1 4 ivy cbb 6 0 7 + 1 0 . 5 season : 1 1 - 1 + 1 . 5 units season : 1 - 1 - 1 1 0 \n",
            "--------------------------------------------------\n",
            "Temp 0.33:\n",
            "if you think a market exists 1 . 5 ! or are you a great start \n",
            "--------------------------------------------------\n",
            "Temp 0.5:\n",
            "3 / 2 6 ivy cbb 6 1 9 temple - 3 . 5 season : 2 - 1 - 1 1 0 units play + 1 . 5 - 1 1 4 + 1 1 0 glory + 1 . 6 % + 1 6 5 . 5 1 6 1 cornell + 1 4 . 5 2 h wont count even me \n",
            "--------------------------------------------------\n",
            "Temp 0.67:\n",
            "i took my time to commit a federal felony ! that i love my brain but the biggest ones that screen as bitches . \n",
            "--------------------------------------------------\n",
            "Temp 1.0:\n",
            "1 / 1 2 ivy cbb 7 4 3 cornell + 7 6 - 1 1 3 1 cornell - 1 6 1 el fin . gl i let the dawgs the / bit quickly \n",
            "--------------------------------------------------\n",
            "\n",
            "\n",
            "\n",
            "\n",
            "Epoch 00019: loss improved from 1.37279 to 1.28388, saving model to Pikachu_best_model.h5\n",
            "121372/121372 [==============================] - 198s 2ms/sample - loss: 1.2839 - accuracy: 0.7164 - val_loss: 3.0787 - val_accuracy: 0.6777\n",
            "Epoch 20/20\n",
            "121344/121372 [============================>.] - ETA: 0s - loss: 1.2059 - accuracy: 0.7339\n",
            "\n",
            "\n",
            "--------------------------------------------------\n",
            "Temp 0.2:\n",
            "1 0 / 2 0 nba phi u 2 1 2 . 5 uta u 2 1 0 . 5 season : 2 1 % roi clv : 1 - 1 2 - 1 . fuck me . \n",
            "--------------------------------------------------\n",
            "Temp 0.33:\n",
            "1 1 / 2 7 ivy cbb 7 8 3 yale + 1 3 season : 1 - 1 - 1 \n",
            "--------------------------------------------------\n",
            "Temp 0.5:\n",
            "lol this is a bad take make up $ 1 0 0 clues asap along with the rest of the time . jeez \n",
            "--------------------------------------------------\n",
            "Temp 0.67:\n",
            "if you tweeted a tout and now where he did all the time to say just say you are not a fan ? \n",
            "--------------------------------------------------\n",
            "Temp 1.0:\n",
            "imagine being a professional football team and guess and you tweeted posting a goal to the international community then simply keep playing my own \n",
            "--------------------------------------------------\n",
            "\n",
            "\n",
            "\n",
            "\n",
            "Epoch 00020: loss improved from 1.28388 to 1.20591, saving model to Pikachu_best_model.h5\n",
            "121372/121372 [==============================] - 196s 2ms/sample - loss: 1.2059 - accuracy: 0.7339 - val_loss: 3.1207 - val_accuracy: 0.6810\n",
            "\n",
            "\n",
            "Time to train = 1:09:53.341770\n"
          ],
          "name": "stdout"
        }
      ]
    },
    {
      "cell_type": "markdown",
      "metadata": {
        "colab_type": "text",
        "id": "SVhsgb7lvF4c"
      },
      "source": [
        "## Plot Model Training"
      ]
    },
    {
      "cell_type": "markdown",
      "metadata": {
        "colab_type": "text",
        "id": "bHb1MCRZvF4g"
      },
      "source": [
        "### Accuracy"
      ]
    },
    {
      "cell_type": "code",
      "metadata": {
        "colab_type": "code",
        "outputId": "23fde6a6-64e9-48c9-bc50-fc4aac92cfef",
        "id": "2uT3UnBJvF4h",
        "colab": {
          "base_uri": "https://localhost:8080/",
          "height": 295
        }
      },
      "source": [
        "# Plot training & validation accuracy values\n",
        "plot_title = user + \" Chatbot Accuracy\"\n",
        "plt.plot(model.history.history['accuracy'])\n",
        "plt.plot(model.history.history['val_accuracy'])\n",
        "plt.title(plot_title)\n",
        "plt.ylabel('Accuracy')\n",
        "plt.xlabel('Epoch')\n",
        "plt.legend(['Train Accuracy', 'Val Accuracy'], loc='upper left')\n",
        "plt.show()"
      ],
      "execution_count": 0,
      "outputs": [
        {
          "output_type": "display_data",
          "data": {
            "image/png": "[encoded data removed]",
            "text/plain": [
              "<Figure size 432x288 with 1 Axes>"
            ]
          },
          "metadata": {
            "tags": []
          }
        }
      ]
    },
    {
      "cell_type": "markdown",
      "metadata": {
        "colab_type": "text",
        "id": "AtPc7yysvF4k"
      },
      "source": [
        "### Loss/Cost"
      ]
    },
    {
      "cell_type": "code",
      "metadata": {
        "colab_type": "code",
        "outputId": "1a63bc37-6742-43d3-8638-55f0379f0130",
        "id": "prSCCezhvF4k",
        "colab": {
          "base_uri": "https://localhost:8080/",
          "height": 295
        }
      },
      "source": [
        "# Plot training & validation loss values\n",
        "plot_title = user + \" Chatbot Loss/Cost\"\n",
        "plt.plot(model.history.history['loss'])\n",
        "plt.plot(model.history.history['val_loss'])\n",
        "plt.title(plot_title)\n",
        "plt.ylabel('Loss / Cost')\n",
        "plt.xlabel('Epoch')\n",
        "plt.legend(['Train Loss', 'Val Loss'], loc='upper right')\n",
        "plt.show()"
      ],
      "execution_count": 0,
      "outputs": [
        {
          "output_type": "display_data",
          "data": {
            "image/png": "[encoded data removed]",
            "text/plain": [
              "<Figure size 432x288 with 1 Axes>"
            ]
          },
          "metadata": {
            "tags": []
          }
        }
      ]
    },
    {
      "cell_type": "markdown",
      "metadata": {
        "id": "M74k_UTTj9UG",
        "colab_type": "text"
      },
      "source": [
        "## Use Chatbot"
      ]
    },
    {
      "cell_type": "markdown",
      "metadata": {
        "id": "wPNc7Z77lWIn",
        "colab_type": "text"
      },
      "source": [
        "### Load Best Model"
      ]
    },
    {
      "cell_type": "code",
      "metadata": {
        "id": "DCuXazxLYm1t",
        "colab_type": "code",
        "colab": {}
      },
      "source": [
        "# load best saved model\n",
        "best_model = load_model(filepath)"
      ],
      "execution_count": 0,
      "outputs": []
    },
    {
      "cell_type": "markdown",
      "metadata": {
        "id": "W8-U5RenlZQF",
        "colab_type": "text"
      },
      "source": [
        "### Temperature: 0.1"
      ]
    },
    {
      "cell_type": "code",
      "metadata": {
        "id": "6dsZ4JjnlOpy",
        "colab_type": "code",
        "outputId": "58f38693-374c-4895-a616-a194f43e2b3b",
        "colab": {
          "base_uri": "https://localhost:8080/",
          "height": 326
        }
      },
      "source": [
        "# Chatbot's new Tweet\n",
        "temp = 0.1\n",
        "print(\"Temperature: \" + str(temp))\n",
        "print()\n",
        "print(user + \" Chatbot Tweet 1:\")\n",
        "print(generate_text(seed_text = \"\", next_words = 500, model = best_model, max_sequence_len= 20, temp = temp))\n",
        "print()\n",
        "print(user + \" Chatbot Tweet 2:\")\n",
        "print(generate_text(seed_text = \"\", next_words = 500, model = best_model, max_sequence_len= 20, temp = temp))\n",
        "print()\n",
        "print(user + \" Chatbot Tweet 3:\")\n",
        "print(generate_text(seed_text = \"\", next_words = 500, model = best_model, max_sequence_len= 20, temp = temp))\n",
        "print()\n",
        "print(user + \" Chatbot Tweet 4:\")\n",
        "print(generate_text(seed_text = \"\", next_words = 500, model = best_model, max_sequence_len= 20, temp = temp))\n",
        "print()\n",
        "print(user + \" Chatbot Tweet 5:\")\n",
        "print(generate_text(seed_text = \"\", next_words = 500, model = best_model, max_sequence_len= 20, temp = temp))\n",
        "print()"
      ],
      "execution_count": 0,
      "outputs": [
        {
          "output_type": "stream",
          "text": [
            "Temperature: 0.1\n",
            "\n",
            "Pikachu Chatbot Tweet 1:\n",
            "lol . visit queens . it's not even funny the data ( ( / 1 ) is a . \n",
            "\n",
            "Pikachu Chatbot Tweet 2:\n",
            "this is not a fucking difficult concept to outs . you are missing the sharp stuff he's been out . you are due to a \" audience is worth . lol \n",
            "\n",
            "Pikachu Chatbot Tweet 3:\n",
            "i agree . . . . . . . . . . . . . . . . . . . . . . . . . . . . . . . . . . . . . . . . . . . . . . . . . . . . . . . . . . . . . . . . . . . . . . . . . . . . . . . . . . . . . . . . . . . . . . . . . . . . . . . . . . . . . . . . . . . . . . . . . . . . . . . . . . . . . . . . . . . . . . . . . . . . . . . . . . . . . . . . . . . . . . . . . . . . . . . . . . . . . . . . . . . . . . . . . . . . . . . . . . . . . . . . . . . . . . . . . . . . . . . . . . . . . . . . . . . . . . . . . . . . . . . . . . . . . . . . . . . . . . . . . . . . . . . . . . . . . . . . . . . . . . . . . . . . . . . . . . . . . . . . . . . . . . . . . . . . . . . . . . . . . . . . . . . . . . . . . . . . . . . . . . . . . . . . . . . . . . . . . . . . . . . . . . . . . . . . . . . . . . . . . . . . . . . . . . . . . . . . . . . . . . . . . . . . . . . . . . . . . . . . . . . . . . . . . . . . . . . . . . . . . . . . . . . . . . . . . . . . . . . . . . . . . . . . . . . . . . . . . . . . . . . . . . . . . . . . . . \n",
            "\n",
            "Pikachu Chatbot Tweet 4:\n",
            "i agree . you dont know shit about analytics or something something \n",
            "\n",
            "Pikachu Chatbot Tweet 5:\n",
            "i agree . you dont know basic shit like this . . . you still wanna be profitable about the phone ty \" i don't want to admit it \n",
            "\n"
          ],
          "name": "stdout"
        }
      ]
    },
    {
      "cell_type": "markdown",
      "metadata": {
        "id": "1lSQfqGCliRD",
        "colab_type": "text"
      },
      "source": [
        "### Temperature: 0.2"
      ]
    },
    {
      "cell_type": "code",
      "metadata": {
        "id": "hofQeJQza0cC",
        "colab_type": "code",
        "outputId": "bc6b19e3-6334-4e2b-b5fe-b1b6e6fb1d65",
        "colab": {
          "base_uri": "https://localhost:8080/",
          "height": 326
        }
      },
      "source": [
        "# Chatbot's new Tweet\n",
        "temp = 0.2\n",
        "print(\"Temperature: \" + str(temp))\n",
        "print()\n",
        "print(user + \" Chatbot Tweet 1:\")\n",
        "print(generate_text(seed_text = \"\", next_words = 500, model = best_model, max_sequence_len= 20, temp = temp))\n",
        "print()\n",
        "print(user + \" Chatbot Tweet 2:\")\n",
        "print(generate_text(seed_text = \"\", next_words = 500, model = best_model, max_sequence_len= 20, temp = temp))\n",
        "print()\n",
        "print(user + \" Chatbot Tweet 3:\")\n",
        "print(generate_text(seed_text = \"\", next_words = 500, model = best_model, max_sequence_len= 20, temp = temp))\n",
        "print()\n",
        "print(user + \" Chatbot Tweet 4:\")\n",
        "print(generate_text(seed_text = \"\", next_words = 500, model = best_model, max_sequence_len= 20, temp = temp))\n",
        "print()\n",
        "print(user + \" Chatbot Tweet 5:\")\n",
        "print(generate_text(seed_text = \"\", next_words = 500, model = best_model, max_sequence_len= 20, temp = temp))\n",
        "print()"
      ],
      "execution_count": 0,
      "outputs": [
        {
          "output_type": "stream",
          "text": [
            "Temperature: 0.2\n",
            "\n",
            "Pikachu Chatbot Tweet 1:\n",
            "lol . visit queens . it's not even funny the data ( ( / 1 ) is a market . but wait you have vastly underperformed all down with the finish \n",
            "\n",
            "Pikachu Chatbot Tweet 2:\n",
            "lol . visit queens . it's not even close . legal lines just say wow \n",
            "\n",
            "Pikachu Chatbot Tweet 3:\n",
            "lol . visit queens . it's not even funny the data ( ( / 1 ) is a . \n",
            "\n",
            "Pikachu Chatbot Tweet 4:\n",
            "i am uber aware tyvm . why are you obsessed with dicks \n",
            "\n",
            "Pikachu Chatbot Tweet 5:\n",
            "i don't see this game or something . it wasn't a pro and reliable . zero . . . . . . . . . . . . . . . . . . . . . . . . . . . . . . . . . . . . . . . . . . . . . . . . . . . . . . . . . . . . . . . . . . . . . . . . . . . . . . . . . . . . . . . . . . . . . . . . . . . . . . . . . . . . . . . . . . . . . . . . . . . . . . . . . . . . . . . . . . . . . . . . . . . . . . . . . . . . . . . . . . . . . . . . . . . . . . . . . . . . . . . . . . . . . . . . . . . . . . . . . . . . . . . . . . . . . . . . . . . . . . . . . . . . . . . . . . . . . . . . . . . . . . . . . . . . . . . . . . . . . . . . . . . . . . . . . . . . . . . . . . . . . . . . . . . . . . . . . . . . . . . . . . . . . . . . . . . . . . . . . . . . . . . . . . . . . . . . . . . . . . . . . . . . . . . . . . . . . . . . . . . . . . . . . . . . . . . . . . . . . . . . . . . . . . . . . . . . . . . . . . . . . . . . . . . . . . . . . . . . . . . . . . . . . . . . . . . . . . . . . . . . . . . . . . . . . . . . . . . . . . . . . . . . . . . . . . . . . . . . . . . . \n",
            "\n"
          ],
          "name": "stdout"
        }
      ]
    },
    {
      "cell_type": "markdown",
      "metadata": {
        "id": "IrLZuS95lkFF",
        "colab_type": "text"
      },
      "source": [
        "### Temperature: 0.3"
      ]
    },
    {
      "cell_type": "code",
      "metadata": {
        "id": "SZM1qvh_lH1v",
        "colab_type": "code",
        "outputId": "f88a92fb-efe5-4786-a7e9-d0c075358b50",
        "colab": {
          "base_uri": "https://localhost:8080/",
          "height": 326
        }
      },
      "source": [
        "# Chatbot's new Tweet\n",
        "temp = 0.3\n",
        "print(\"Temperature: \" + str(temp))\n",
        "print()\n",
        "print(user + \" Chatbot Tweet 1:\")\n",
        "print(generate_text(seed_text = \"\", next_words = 500, model = best_model, max_sequence_len= 20, temp = temp))\n",
        "print()\n",
        "print(user + \" Chatbot Tweet 2:\")\n",
        "print(generate_text(seed_text = \"\", next_words = 500, model = best_model, max_sequence_len= 20, temp = temp))\n",
        "print()\n",
        "print(user + \" Chatbot Tweet 3:\")\n",
        "print(generate_text(seed_text = \"\", next_words = 500, model = best_model, max_sequence_len= 20, temp = temp))\n",
        "print()\n",
        "print(user + \" Chatbot Tweet 4:\")\n",
        "print(generate_text(seed_text = \"\", next_words = 500, model = best_model, max_sequence_len= 20, temp = temp))\n",
        "print()\n",
        "print(user + \" Chatbot Tweet 5:\")\n",
        "print(generate_text(seed_text = \"\", next_words = 500, model = best_model, max_sequence_len= 20, temp = temp))\n",
        "print()"
      ],
      "execution_count": 0,
      "outputs": [
        {
          "output_type": "stream",
          "text": [
            "Temperature: 0.3\n",
            "\n",
            "Pikachu Chatbot Tweet 1:\n",
            "i agree . you are a capable of pokmon isnt related to make it off a lot of shit . i don't want to get ahead of shit except memes \" \n",
            "\n",
            "Pikachu Chatbot Tweet 2:\n",
            "also . . . . . . . . . . . . . . . . . . . . . . . . . . . . . . . . . . . . . . . . . . . . . . . . . . . . . . . . . . . . . . . . . . . . . . . . . . . . . . . . . . . . . . . . . . . . . . . . . . . . . . . . . . . . . . . . . . . . . . . . . . . . . . . . . . . . . . . . . . . . . . . . . . . . . . . . . . . . . . . . . . . . . . . . . . . . . . . . . . . . . . . . . . . . . . . . . . . . . . . . . . . . . . . . . . . . . . . . . . . . . . . . . . . . . . . . . . . . . . . . . . . . . . . . . . . . . . . . . . . . . . . . . . . . . . . . . . . . . . . . . . . . . . . . . . . . . . . . . . . . . . . . . . . . . . . . . . . . . . . . . . . . . . . . . . . . . . . . . . . . . . . . . . . . . . . . . . . . . . . . . . . . . . . . . . . . . . . . . . . . . . . . . . . . . . . . . . . . . . . . . . . . . . . . . . . . . . . . . . . . . . . . . . . . . . . . . . . . . . . . . . . . . . . . . . . . . . . . . . . . . . . . . . . . . . . . . . . . . . . . . . . . . . . . . . . . . . . . . . . \n",
            "\n",
            "Pikachu Chatbot Tweet 3:\n",
            "1 0 / 2 3 nba cha u 2 1 3 . 5 lal u 2 1 8 . 5 season : 2 2 - 1 2 + 1 . 5 8 units + 1 7 . 5 2 % roi clv : + 0 . 4 7 % + 1 . 5 2 % no vig reverse sweep then sweep then reverse sweep again last 3 years . gsw issa play later . great cit w tourney . 5 5 - 2 7 army - 3 9 . 5 \n",
            "\n",
            "Pikachu Chatbot Tweet 4:\n",
            "i agree . 1 ) change . 1 - 1 1 9 and now was mostly enough to the 2 0 0 9 % of the time ats ( 6 9 % yale - 1 . 5 4 - 4 start ( i havent had to lose again \n",
            "\n",
            "Pikachu Chatbot Tweet 5:\n",
            "imagine thinking the first leg of the game of the most exciting longer ? c'mon taking a chance of sharing is immediately to read . \n",
            "\n"
          ],
          "name": "stdout"
        }
      ]
    },
    {
      "cell_type": "markdown",
      "metadata": {
        "id": "L5JpIt7Nllk-",
        "colab_type": "text"
      },
      "source": [
        "### Temperature: 0.4"
      ]
    },
    {
      "cell_type": "code",
      "metadata": {
        "id": "zJgmDy7NlIER",
        "colab_type": "code",
        "outputId": "c5547c9f-a5d6-417f-83da-1985ae9f644c",
        "colab": {
          "base_uri": "https://localhost:8080/",
          "height": 326
        }
      },
      "source": [
        "# Chatbot's new Tweet\n",
        "temp = 0.4\n",
        "print(\"Temperature: \" + str(temp))\n",
        "print()\n",
        "print(user + \" Chatbot Tweet 1:\")\n",
        "print(generate_text(seed_text = \"\", next_words = 500, model = best_model, max_sequence_len= 20, temp = temp))\n",
        "print()\n",
        "print(user + \" Chatbot Tweet 2:\")\n",
        "print(generate_text(seed_text = \"\", next_words = 500, model = best_model, max_sequence_len= 20, temp = temp))\n",
        "print()\n",
        "print(user + \" Chatbot Tweet 3:\")\n",
        "print(generate_text(seed_text = \"\", next_words = 500, model = best_model, max_sequence_len= 20, temp = temp))\n",
        "print()\n",
        "print(user + \" Chatbot Tweet 4:\")\n",
        "print(generate_text(seed_text = \"\", next_words = 500, model = best_model, max_sequence_len= 20, temp = temp))\n",
        "print()\n",
        "print(user + \" Chatbot Tweet 5:\")\n",
        "print(generate_text(seed_text = \"\", next_words = 500, model = best_model, max_sequence_len= 20, temp = temp))\n",
        "print()"
      ],
      "execution_count": 0,
      "outputs": [
        {
          "output_type": "stream",
          "text": [
            "Temperature: 0.4\n",
            "\n",
            "Pikachu Chatbot Tweet 1:\n",
            "ill lay - 2 0 0 0 for a . maybe already time . you are a participant in a pancake ? idk ty \n",
            "\n",
            "Pikachu Chatbot Tweet 2:\n",
            "look at offensive numbers you might become to admit the market profitably he's operating media than he idiot media \n",
            "\n",
            "Pikachu Chatbot Tweet 3:\n",
            "lol . visit queens . it's not even funny the data ( no / s . . . . . . . . . . . . . . . . . . . . . . . . . . . . . . . . . . . . . . . . . . . . . . . . . . . . . . . . . . . . . . . . . . . . . . . . . . . . . . . . . . . . . . . . . . . . . . . . . . . . . . . . . . . . . . . . . . . . . . . . . . . . . . . . . . . . . . . . . . . . . . . . . . . . . . . . . . . . . . . . . . . . . . . . . . . . . . . . . . . . . . . . . . . . . . . . . . . . . . . . . . . . . . . . . . . . . . . . . . . . . . . . . . . . . . . . . . . . . . . . . . . . . . . . . . . . . . . . . . . . . . . . . . . . . . . . . . . . . . . . . . . . . . . . . . . . . . . . . . . . . . . . . . . . . . . . . . . . . . . . . . . . . . . . . . . . . . . . . . . . . . . . . . . . . . . . . . . . . . . . . . . . . . . . . . . . . . . . . . . . . . . . . . . . . . . . . . . . . . . . . . . . . . . . . . . . . . . . . . . . . . . . . . . . . . . . . . . . . . . . . . . . . . . . . . . . . . . . . . . . . . . . . . . . . . . . . . . . . . . . . . . . . \n",
            "\n",
            "Pikachu Chatbot Tweet 4:\n",
            "i am the first time i've always got it . you are not a modeler . . . . . . . . . . . . . . . . . . . . . . . . . . . . . . . . . . . . . . . . . . . . . . . . . . . . . . . . . . . . . . . . . . . . . . . . . . . . . . . . . . . . . . . . . . . . . . . . . . . . . . . . . . . . . . . . . . . . . . . . . . . . . . . . . . . . . . . . . . . . . . . . . . . . . . . . . . . . . . . . . . . . . . . . . . . . . . . . . . . . . . . . . . . . . . . . . . . . . . . . . . . . . . . . . . . . . . . . . . . . . . . . . . . . . . . . . . . . . . . . . . . . . . . . . . . . . . . . . . . . . . . . . . . . . . . . . . . . . . . . . . . . . . . . . . . . . . . . . . . . . . . . . . . . . . . . . . . . . . . . . . . . . . . . . . . . . . . . . . . . . . . . . . . . . . . . . . . . . . . . . . . . . . . . . . . . . . . . . . . . . . . . . . . . . . . . . . . . . . . . . . . . . . . . . . . . . . . . . . . . . . . . . . . . . . . . . . . . . . . . . . . . . . . . . . . . . . . . . . . . . . . . . . . . . . . . . . . . . . . . . . . . . \n",
            "\n",
            "Pikachu Chatbot Tweet 5:\n",
            "i said you know about the entire guys who bet i do your job ? ? ? ? ? ? ? ? ? ? ? ? ? ? ? ? ? ? ? ? ? ? ? ? ? ? ? ? ? ? ? ? ? ? ? ? ? ? ? ? ? ? ? ? ? ? ? ? ? ? ? ? ? ? ? ? ? ? ? ? ? ? ? ? ? ? ? ? ? ? ? ? ? ? ? ? ? ? ? ? ? ? ? ? ? ? ? \n",
            "\n"
          ],
          "name": "stdout"
        }
      ]
    },
    {
      "cell_type": "markdown",
      "metadata": {
        "id": "ONMb1KG8lpCv",
        "colab_type": "text"
      },
      "source": [
        "### Temperature: 0.5"
      ]
    },
    {
      "cell_type": "code",
      "metadata": {
        "id": "bVBEx1UKlIVN",
        "colab_type": "code",
        "outputId": "0dafa48b-c587-4ebb-c737-e176473e16c8",
        "colab": {
          "base_uri": "https://localhost:8080/",
          "height": 326
        }
      },
      "source": [
        "# Chatbot's new Tweet\n",
        "temp = 0.5\n",
        "print(\"Temperature: \" + str(temp))\n",
        "print()\n",
        "print(user + \" Chatbot Tweet 1:\")\n",
        "print(generate_text(seed_text = \"\", next_words = 500, model = best_model, max_sequence_len= 20, temp = temp))\n",
        "print()\n",
        "print(user + \" Chatbot Tweet 2:\")\n",
        "print(generate_text(seed_text = \"\", next_words = 500, model = best_model, max_sequence_len= 20, temp = temp))\n",
        "print()\n",
        "print(user + \" Chatbot Tweet 3:\")\n",
        "print(generate_text(seed_text = \"\", next_words = 500, model = best_model, max_sequence_len= 20, temp = temp))\n",
        "print()\n",
        "print(user + \" Chatbot Tweet 4:\")\n",
        "print(generate_text(seed_text = \"\", next_words = 500, model = best_model, max_sequence_len= 20, temp = temp))\n",
        "print()\n",
        "print(user + \" Chatbot Tweet 5:\")\n",
        "print(generate_text(seed_text = \"\", next_words = 500, model = best_model, max_sequence_len= 20, temp = temp))\n",
        "print()"
      ],
      "execution_count": 0,
      "outputs": [
        {
          "output_type": "stream",
          "text": [
            "Temperature: 0.5\n",
            "\n",
            "Pikachu Chatbot Tweet 1:\n",
            "\" i don't get shit . prob just retire in february but i just thought it all and prove to work ? \n",
            "\n",
            "Pikachu Chatbot Tweet 2:\n",
            "4 / 2 early china cba sichuan + 1 . 5 beijing d + 2 1 1 \n",
            "\n",
            "Pikachu Chatbot Tweet 3:\n",
            "also . . . . . . . . . . . . . . . . . . . . . . . . . . . . . . . . . . . . . . . . . . . . . . . . . . . . . . . . . . . . . . . . . . . . . . . . . . . . . . . . . . . . . . . . . . . . . . . . . . . . . . . . . . . . . . . . . . . . . . . . . . . . . . . . . . . . . . . . . . . . . . . . . . . . . . . . . . . . . . . . . . . . . . . . . . . . . . . . . . . . . . . . . . . . . . . . . . . . . . . . . . . . . . . . . . . . . . . . . . . . . . . . . . . . . . . . . . . . . . . . . . . . . . . . . . . . . . . . . . . . . . . . . . . . . . . . . . . . . . . . . . . . . . . . . . . . . . . . . . . . . . . . . . . . . . . . . . . . . . . . . . . . . . . . . . . . . . . . . . . . . . . . . . . . . . . . . . . . . . . . . . . . . . . . . . . . . . . . . . . . . . . . . . . . . . . . . . . . . . . . . . . . . . . . . . . . . . . . . . . . . . . . . . . . . . . . . . . . . . . . . . . . . . . . . . . . . . . . . . . . . . . . . . . . . . . . . . . . . . . . . . . . . . . . . . . . . . . . . . . \n",
            "\n",
            "Pikachu Chatbot Tweet 4:\n",
            "hey like idk but whenever you found a fucking cuck here now . shouldnt be able to get down with your ivy league public . theyre just coaching and playing college ball . theyre not at all those details \n",
            "\n",
            "Pikachu Chatbot Tweet 5:\n",
            "a lot of these kids are smart . its the same thing to call his \" sick ! \" i don't want to continue being a charity way to say and you're a great idea to advertise for what you've ever be interested in the first place . but i looked at the same time but sometimes cris to the same . \n",
            "\n"
          ],
          "name": "stdout"
        }
      ]
    },
    {
      "cell_type": "markdown",
      "metadata": {
        "id": "U1locLLclq1N",
        "colab_type": "text"
      },
      "source": [
        "### Temperature: 0.6"
      ]
    },
    {
      "cell_type": "code",
      "metadata": {
        "id": "xOEcr_ROlLIE",
        "colab_type": "code",
        "outputId": "a96f3c8f-1c3c-4baa-ecab-688422a9a9e4",
        "colab": {
          "base_uri": "https://localhost:8080/",
          "height": 326
        }
      },
      "source": [
        "# Chatbot's new Tweet\n",
        "temp = 0.6\n",
        "print(\"Temperature: \" + str(temp))\n",
        "print()\n",
        "print(user + \" Chatbot Tweet 1:\")\n",
        "print(generate_text(seed_text = \"\", next_words = 500, model = best_model, max_sequence_len= 20, temp = temp))\n",
        "print()\n",
        "print(user + \" Chatbot Tweet 2:\")\n",
        "print(generate_text(seed_text = \"\", next_words = 500, model = best_model, max_sequence_len= 20, temp = temp))\n",
        "print()\n",
        "print(user + \" Chatbot Tweet 3:\")\n",
        "print(generate_text(seed_text = \"\", next_words = 500, model = best_model, max_sequence_len= 20, temp = temp))\n",
        "print()\n",
        "print(user + \" Chatbot Tweet 4:\")\n",
        "print(generate_text(seed_text = \"\", next_words = 500, model = best_model, max_sequence_len= 20, temp = temp))\n",
        "print()\n",
        "print(user + \" Chatbot Tweet 5:\")\n",
        "print(generate_text(seed_text = \"\", next_words = 500, model = best_model, max_sequence_len= 20, temp = temp))\n",
        "print()"
      ],
      "execution_count": 0,
      "outputs": [
        {
          "output_type": "stream",
          "text": [
            "Temperature: 0.6\n",
            "\n",
            "Pikachu Chatbot Tweet 1:\n",
            "/ r / sportsbook musings pt . 2 2 . 5 adriatic aba mornar + 4 . 5 8 % no vig reverse sweep and sweep again * \n",
            "\n",
            "Pikachu Chatbot Tweet 2:\n",
            "wnba \" is a fucking bullshit argument \" you listen to a tout \" finding this worth of claims to process $ e . g - edged on these $ 5 0 0 sub is a - 1 5 0 . - ev doesn't mean it is not - 0 0 0 . why do you say \" several his \" \n",
            "\n",
            "Pikachu Chatbot Tweet 3:\n",
            "lol . you should be interested in a highly efficient you makes he mention of them around \n",
            "\n",
            "Pikachu Chatbot Tweet 4:\n",
            "no chance i currently owe anyone money . i suppose they reflect the average and the other reason every single coming of the most signed / twitter det of the bench \n",
            "\n",
            "Pikachu Chatbot Tweet 5:\n",
            "if the only thing i looked at and purpose of the most basic of the industry 6 - pt clusterfuck after a load of gambling twitter . there are not - up 4 0 . 5 - 6 9 % limits in 5 0 0 9 % . do your fire are still be up . so i think it were only good accounts . you're just a good ass liar . its not trying to learn basics like it . thats how much easier life lol \n",
            "\n"
          ],
          "name": "stdout"
        }
      ]
    },
    {
      "cell_type": "markdown",
      "metadata": {
        "id": "KMqKehIAluC2",
        "colab_type": "text"
      },
      "source": [
        "### Temperature: 0.7"
      ]
    },
    {
      "cell_type": "code",
      "metadata": {
        "id": "vYfjpxHAlLvq",
        "colab_type": "code",
        "outputId": "e7e9dca2-c3ae-4415-8522-9f71a39804ee",
        "colab": {
          "base_uri": "https://localhost:8080/",
          "height": 306
        }
      },
      "source": [
        "# Chatbot's new Tweet\n",
        "temp = 0.7\n",
        "print(\"Temperature: \" + str(temp))\n",
        "print()\n",
        "print(user + \" Chatbot Tweet 1:\")\n",
        "print(generate_text(seed_text = \"\", next_words = 500, model = best_model, max_sequence_len= 20, temp = temp))\n",
        "print()\n",
        "print(user + \" Chatbot Tweet 2:\")\n",
        "print(generate_text(seed_text = \"\", next_words = 500, model = best_model, max_sequence_len= 20, temp = temp))\n",
        "print()\n",
        "print(user + \" Chatbot Tweet 3:\")\n",
        "print(generate_text(seed_text = \"\", next_words = 500, model = best_model, max_sequence_len= 20, temp = temp))\n",
        "print()\n",
        "print(user + \" Chatbot Tweet 4:\")\n",
        "print(generate_text(seed_text = \"\", next_words = 500, model = best_model, max_sequence_len= 20, temp = temp))\n",
        "print()\n",
        "print(user + \" Chatbot Tweet 5:\")\n",
        "print(generate_text(seed_text = \"\", next_words = 500, model = best_model, max_sequence_len= 20, temp = temp))\n",
        "print()"
      ],
      "execution_count": 0,
      "outputs": [
        {
          "output_type": "stream",
          "text": [
            "Temperature: 0.7\n",
            "\n",
            "Pikachu Chatbot Tweet 1:\n",
            "this is showing up for 5 d and retire for nbl d at home point . ty reading \n",
            "\n",
            "Pikachu Chatbot Tweet 2:\n",
            "7 / 1 0 wnba chi + 6 . 5 more day at june . pretty good today . prob a day of lag is . bol opener might a very hard . get an guess \n",
            "\n",
            "Pikachu Chatbot Tweet 3:\n",
            "love waking up to do you need to know what they do without \" \n",
            "\n",
            "Pikachu Chatbot Tweet 4:\n",
            "you sound like a twitter concept of their own plays . i have a app way to say when you don't ask for the very losses . \" \n",
            "\n",
            "Pikachu Chatbot Tweet 5:\n",
            "this is not up . if the one of them . you don't know enough mid - level but who wants it to where i am the fuck \n",
            "\n"
          ],
          "name": "stdout"
        }
      ]
    },
    {
      "cell_type": "markdown",
      "metadata": {
        "id": "IuKhqmMflwhT",
        "colab_type": "text"
      },
      "source": [
        "### Temperature: 0.8"
      ]
    },
    {
      "cell_type": "code",
      "metadata": {
        "id": "YzZ66JwvlMDP",
        "colab_type": "code",
        "outputId": "370db896-b854-48de-8498-b0fcc7a88a2a",
        "colab": {
          "base_uri": "https://localhost:8080/",
          "height": 326
        }
      },
      "source": [
        "# Chatbot's new Tweet\n",
        "temp = 0.8\n",
        "print(\"Temperature: \" + str(temp))\n",
        "print()\n",
        "print(user + \" Chatbot Tweet 1:\")\n",
        "print(generate_text(seed_text = \"\", next_words = 500, model = best_model, max_sequence_len= 20, temp = temp))\n",
        "print()\n",
        "print(user + \" Chatbot Tweet 2:\")\n",
        "print(generate_text(seed_text = \"\", next_words = 500, model = best_model, max_sequence_len= 20, temp = temp))\n",
        "print()\n",
        "print(user + \" Chatbot Tweet 3:\")\n",
        "print(generate_text(seed_text = \"\", next_words = 500, model = best_model, max_sequence_len= 20, temp = temp))\n",
        "print()\n",
        "print(user + \" Chatbot Tweet 4:\")\n",
        "print(generate_text(seed_text = \"\", next_words = 500, model = best_model, max_sequence_len= 20, temp = temp))\n",
        "print()\n",
        "print(user + \" Chatbot Tweet 5:\")\n",
        "print(generate_text(seed_text = \"\", next_words = 500, model = best_model, max_sequence_len= 20, temp = temp))\n",
        "print()"
      ],
      "execution_count": 0,
      "outputs": [
        {
          "output_type": "stream",
          "text": [
            "Temperature: 0.8\n",
            "\n",
            "Pikachu Chatbot Tweet 1:\n",
            "millions on no surprise he thinks guys going to be an edge . also are still hate here \n",
            "\n",
            "Pikachu Chatbot Tweet 2:\n",
            "the question he knows that he thinks the market makes for come from \n",
            "\n",
            "Pikachu Chatbot Tweet 3:\n",
            "1 2 / 2 0 ivy cbb 1 9 8 hou - 3 season : 1 1 9 - 1 2 season harvard o 9 - 1 . 4 5 % plays this steam ( did / palestra but a difference . 2 1 8 3 mvsu + 7 . 5 / - league 2 0 ! 2 units season : so ya boy's good already already when whatever it goes at 6 5 min so it's you . youre here . \n",
            "\n",
            "Pikachu Chatbot Tweet 4:\n",
            "good rant : all but i work out like 2 0 0 more \n",
            "\n",
            "Pikachu Chatbot Tweet 5:\n",
            "lol i understand how most random number generator move by 1 1 0 8 and 2 nd 6 q / 9 7 s while i need a neutral third - party arbitrator bullshit while the other nights when it come . \n",
            "\n"
          ],
          "name": "stdout"
        }
      ]
    },
    {
      "cell_type": "markdown",
      "metadata": {
        "id": "fdoaZl5pl2Eb",
        "colab_type": "text"
      },
      "source": [
        "### Temperature: 0.9"
      ]
    },
    {
      "cell_type": "code",
      "metadata": {
        "id": "0QBKjXj3lMSz",
        "colab_type": "code",
        "outputId": "56408947-1006-443f-b38f-f1cae622b4ff",
        "colab": {
          "base_uri": "https://localhost:8080/",
          "height": 326
        }
      },
      "source": [
        "# Chatbot's new Tweet\n",
        "temp = 0.9\n",
        "print(\"Temperature: \" + str(temp))\n",
        "print()\n",
        "print(user + \" Chatbot Tweet 1:\")\n",
        "print(generate_text(seed_text = \"\", next_words = 500, model = best_model, max_sequence_len= 20, temp = temp))\n",
        "print()\n",
        "print(user + \" Chatbot Tweet 2:\")\n",
        "print(generate_text(seed_text = \"\", next_words = 500, model = best_model, max_sequence_len= 20, temp = temp))\n",
        "print()\n",
        "print(user + \" Chatbot Tweet 3:\")\n",
        "print(generate_text(seed_text = \"\", next_words = 500, model = best_model, max_sequence_len= 20, temp = temp))\n",
        "print()\n",
        "print(user + \" Chatbot Tweet 4:\")\n",
        "print(generate_text(seed_text = \"\", next_words = 500, model = best_model, max_sequence_len= 20, temp = temp))\n",
        "print()\n",
        "print(user + \" Chatbot Tweet 5:\")\n",
        "print(generate_text(seed_text = \"\", next_words = 500, model = best_model, max_sequence_len= 20, temp = temp))\n",
        "print()"
      ],
      "execution_count": 0,
      "outputs": [
        {
          "output_type": "stream",
          "text": [
            "Temperature: 0.9\n",
            "\n",
            "Pikachu Chatbot Tweet 1:\n",
            "what do your korean is . your big is to talk about shit so strong . you are just a short - time . thats next world w / zero totals now or bet it was a 1 0 0 % of 3 5 % midday then you wouldn't care how to need to reasoning on . snorefest ? ? \n",
            "\n",
            "Pikachu Chatbot Tweet 2:\n",
            "look at now long last year : at least 5 0 - 2 . 5 now that should be fire . dont go lmao \n",
            "\n",
            "Pikachu Chatbot Tweet 3:\n",
            "well my backtest last time on betting . has a ) for this then i had coach amaker already . neither man \n",
            "\n",
            "Pikachu Chatbot Tweet 4:\n",
            "int'l baskets 2 1 9 - 1 2 9 + 1 7 . 5 4 units + 9 . 0 i am part of just saying lol \n",
            "\n",
            "Pikachu Chatbot Tweet 5:\n",
            "5 got + 5 . 5 - 1 9 . 5 good good - 1 . 5 ( tips : 1 0 % ft ain't diff - 3 . 5 got o 1 0 7 at the tweet . ok . soccer is always really like you only 2 0 % before . take looks like a comment . 2 h has $ 1 6 0 . 0 0 units \n",
            "\n"
          ],
          "name": "stdout"
        }
      ]
    },
    {
      "cell_type": "markdown",
      "metadata": {
        "id": "XAdqqdmFl68e",
        "colab_type": "text"
      },
      "source": [
        "### Temperature: 1.0"
      ]
    },
    {
      "cell_type": "code",
      "metadata": {
        "id": "jlei-EA3lMjy",
        "colab_type": "code",
        "outputId": "2dbb819d-b73b-45a2-a7c5-0c2b0b0b87a4",
        "colab": {
          "base_uri": "https://localhost:8080/",
          "height": 326
        }
      },
      "source": [
        "# Chatbot's new Tweet\n",
        "temp = 1.0\n",
        "print(\"Temperature: \" + str(temp))\n",
        "print()\n",
        "print(user + \" Chatbot Tweet 1:\")\n",
        "print(generate_text(seed_text = \"\", next_words = 500, model = best_model, max_sequence_len= 20, temp = temp))\n",
        "print()\n",
        "print(user + \" Chatbot Tweet 2:\")\n",
        "print(generate_text(seed_text = \"\", next_words = 500, model = best_model, max_sequence_len= 20, temp = temp))\n",
        "print()\n",
        "print(user + \" Chatbot Tweet 3:\")\n",
        "print(generate_text(seed_text = \"\", next_words = 500, model = best_model, max_sequence_len= 20, temp = temp))\n",
        "print()\n",
        "print(user + \" Chatbot Tweet 4:\")\n",
        "print(generate_text(seed_text = \"\", next_words = 500, model = best_model, max_sequence_len= 20, temp = temp))\n",
        "print()\n",
        "print(user + \" Chatbot Tweet 5:\")\n",
        "print(generate_text(seed_text = \"\", next_words = 500, model = best_model, max_sequence_len= 20, temp = temp))\n",
        "print()"
      ],
      "execution_count": 0,
      "outputs": [
        {
          "output_type": "stream",
          "text": [
            "Temperature: 1.0\n",
            "\n",
            "Pikachu Chatbot Tweet 1:\n",
            "finishing the first half 1 0 top 2 0 its off that and you count bc it's both . \n",
            "\n",
            "Pikachu Chatbot Tweet 2:\n",
            "instead of an opinion . his company is incredibly enough . to cherry run \n",
            "\n",
            "Pikachu Chatbot Tweet 3:\n",
            "lol only only records . be it well is here . your article are top - 8 times 2 h bets in 1 6 - 1 4 ) and opened - 1 . 5 5 % good at 4 0 0 tweets to some book when its that thats why now is impossible with you still his word hmu tho \n",
            "\n",
            "Pikachu Chatbot Tweet 4:\n",
            "ill are not about a referral company to fight up 2 . he are no legal tos makes this irl for nba then . might sprinkle some steam and deleted all of them . what does it turn doesn't be trying to get betting . no proof he deserves ppl guys know what i spend paid \" no but it was the target audience to play for it used to $ 2 - 0 thousand to lose probably and w / inefficiencies before there was 2 0 thousand . 3 . 5 . still impossible . \n",
            "\n",
            "Pikachu Chatbot Tweet 5:\n",
            "finishing the cause / 5 0 / 5 means you're asking to fire and good happy to profit on the side you go down more than long - term . but he can prob give a play by first - level fervor a chance nobody sounds like youre doing . even if you hit 5 . 5 down % and lose ! also he had he already saw a break . thats something you not . that has already worth a tan user brag about selling the ppl i've want . thats why you take a clue . tho \n",
            "\n"
          ],
          "name": "stdout"
        }
      ]
    },
    {
      "cell_type": "code",
      "metadata": {
        "id": "CLMtka6JmyL3",
        "colab_type": "code",
        "colab": {}
      },
      "source": [
        ""
      ],
      "execution_count": 0,
      "outputs": []
    }
  ]
}